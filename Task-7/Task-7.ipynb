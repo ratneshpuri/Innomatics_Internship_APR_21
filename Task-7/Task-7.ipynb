{
 "cells": [
  {
   "cell_type": "code",
   "execution_count": 58,
   "metadata": {},
   "outputs": [],
   "source": [
    "import numpy as np\n",
    "import pandas as pd\n",
    "import matplotlib.pyplot as plt\n",
    "import seaborn as sns\n",
    "from scipy import stats"
   ]
  },
  {
   "cell_type": "code",
   "execution_count": 2,
   "metadata": {},
   "outputs": [],
   "source": [
    "data=pd.read_csv(\"data.csv\")"
   ]
  },
  {
   "cell_type": "code",
   "execution_count": 3,
   "metadata": {},
   "outputs": [
    {
     "data": {
      "text/plain": [
       "(50, 7)"
      ]
     },
     "execution_count": 3,
     "metadata": {},
     "output_type": "execute_result"
    }
   ],
   "source": [
    "data.shape"
   ]
  },
  {
   "cell_type": "code",
   "execution_count": 4,
   "metadata": {},
   "outputs": [
    {
     "data": {
      "text/html": [
       "<div>\n",
       "<style scoped>\n",
       "    .dataframe tbody tr th:only-of-type {\n",
       "        vertical-align: middle;\n",
       "    }\n",
       "\n",
       "    .dataframe tbody tr th {\n",
       "        vertical-align: top;\n",
       "    }\n",
       "\n",
       "    .dataframe thead th {\n",
       "        text-align: right;\n",
       "    }\n",
       "</style>\n",
       "<table border=\"1\" class=\"dataframe\">\n",
       "  <thead>\n",
       "    <tr style=\"text-align: right;\">\n",
       "      <th></th>\n",
       "      <th>Mthly_HH_Income</th>\n",
       "      <th>Mthly_HH_Expense</th>\n",
       "      <th>No_of_Fly_Members</th>\n",
       "      <th>Emi_or_Rent_Amt</th>\n",
       "      <th>Annual_HH_Income</th>\n",
       "      <th>Highest_Qualified_Member</th>\n",
       "      <th>No_of_Earning_Members</th>\n",
       "    </tr>\n",
       "  </thead>\n",
       "  <tbody>\n",
       "    <tr>\n",
       "      <th>22</th>\n",
       "      <td>34000</td>\n",
       "      <td>19000</td>\n",
       "      <td>6</td>\n",
       "      <td>0</td>\n",
       "      <td>330480</td>\n",
       "      <td>Professional</td>\n",
       "      <td>1</td>\n",
       "    </tr>\n",
       "    <tr>\n",
       "      <th>24</th>\n",
       "      <td>35000</td>\n",
       "      <td>12000</td>\n",
       "      <td>3</td>\n",
       "      <td>0</td>\n",
       "      <td>466200</td>\n",
       "      <td>Graduate</td>\n",
       "      <td>1</td>\n",
       "    </tr>\n",
       "    <tr>\n",
       "      <th>8</th>\n",
       "      <td>19000</td>\n",
       "      <td>9000</td>\n",
       "      <td>2</td>\n",
       "      <td>0</td>\n",
       "      <td>218880</td>\n",
       "      <td>Under-Graduate</td>\n",
       "      <td>1</td>\n",
       "    </tr>\n",
       "    <tr>\n",
       "      <th>47</th>\n",
       "      <td>100000</td>\n",
       "      <td>30000</td>\n",
       "      <td>6</td>\n",
       "      <td>0</td>\n",
       "      <td>1404000</td>\n",
       "      <td>Graduate</td>\n",
       "      <td>3</td>\n",
       "    </tr>\n",
       "    <tr>\n",
       "      <th>49</th>\n",
       "      <td>100000</td>\n",
       "      <td>40000</td>\n",
       "      <td>6</td>\n",
       "      <td>10000</td>\n",
       "      <td>1320000</td>\n",
       "      <td>Post-Graduate</td>\n",
       "      <td>1</td>\n",
       "    </tr>\n",
       "    <tr>\n",
       "      <th>41</th>\n",
       "      <td>65000</td>\n",
       "      <td>20000</td>\n",
       "      <td>4</td>\n",
       "      <td>5000</td>\n",
       "      <td>647400</td>\n",
       "      <td>Illiterate</td>\n",
       "      <td>2</td>\n",
       "    </tr>\n",
       "    <tr>\n",
       "      <th>1</th>\n",
       "      <td>6000</td>\n",
       "      <td>7000</td>\n",
       "      <td>2</td>\n",
       "      <td>3000</td>\n",
       "      <td>79920</td>\n",
       "      <td>Illiterate</td>\n",
       "      <td>1</td>\n",
       "    </tr>\n",
       "    <tr>\n",
       "      <th>18</th>\n",
       "      <td>29000</td>\n",
       "      <td>6600</td>\n",
       "      <td>2</td>\n",
       "      <td>2000</td>\n",
       "      <td>348000</td>\n",
       "      <td>Graduate</td>\n",
       "      <td>1</td>\n",
       "    </tr>\n",
       "    <tr>\n",
       "      <th>5</th>\n",
       "      <td>14000</td>\n",
       "      <td>8000</td>\n",
       "      <td>2</td>\n",
       "      <td>0</td>\n",
       "      <td>196560</td>\n",
       "      <td>Graduate</td>\n",
       "      <td>1</td>\n",
       "    </tr>\n",
       "    <tr>\n",
       "      <th>21</th>\n",
       "      <td>32000</td>\n",
       "      <td>15000</td>\n",
       "      <td>4</td>\n",
       "      <td>0</td>\n",
       "      <td>445440</td>\n",
       "      <td>Professional</td>\n",
       "      <td>1</td>\n",
       "    </tr>\n",
       "  </tbody>\n",
       "</table>\n",
       "</div>"
      ],
      "text/plain": [
       "    Mthly_HH_Income  Mthly_HH_Expense  No_of_Fly_Members  Emi_or_Rent_Amt  \\\n",
       "22            34000             19000                  6                0   \n",
       "24            35000             12000                  3                0   \n",
       "8             19000              9000                  2                0   \n",
       "47           100000             30000                  6                0   \n",
       "49           100000             40000                  6            10000   \n",
       "41            65000             20000                  4             5000   \n",
       "1              6000              7000                  2             3000   \n",
       "18            29000              6600                  2             2000   \n",
       "5             14000              8000                  2                0   \n",
       "21            32000             15000                  4                0   \n",
       "\n",
       "    Annual_HH_Income Highest_Qualified_Member  No_of_Earning_Members  \n",
       "22            330480             Professional                      1  \n",
       "24            466200                 Graduate                      1  \n",
       "8             218880           Under-Graduate                      1  \n",
       "47           1404000                 Graduate                      3  \n",
       "49           1320000            Post-Graduate                      1  \n",
       "41            647400               Illiterate                      2  \n",
       "1              79920               Illiterate                      1  \n",
       "18            348000                 Graduate                      1  \n",
       "5             196560                 Graduate                      1  \n",
       "21            445440             Professional                      1  "
      ]
     },
     "execution_count": 4,
     "metadata": {},
     "output_type": "execute_result"
    }
   ],
   "source": [
    "data.sample(10)"
   ]
  },
  {
   "cell_type": "code",
   "execution_count": 5,
   "metadata": {},
   "outputs": [
    {
     "data": {
      "text/plain": [
       "Mthly_HH_Income             0\n",
       "Mthly_HH_Expense            0\n",
       "No_of_Fly_Members           0\n",
       "Emi_or_Rent_Amt             0\n",
       "Annual_HH_Income            0\n",
       "Highest_Qualified_Member    0\n",
       "No_of_Earning_Members       0\n",
       "dtype: int64"
      ]
     },
     "execution_count": 5,
     "metadata": {},
     "output_type": "execute_result"
    }
   ],
   "source": [
    "data.isnull().sum()"
   ]
  },
  {
   "cell_type": "markdown",
   "metadata": {},
   "source": [
    "# Mean\n",
    "1. Mean also known as average.\n",
    "2. It is found by summation of all data points divided by total number of data points.\n",
    "3. It is a measure of central tendency.\n",
    "4. It is used in univariate analysis.\n",
    "5. It can easily be affected by outlier.\n",
    "6. It is used in univariate analysis.\n",
    "$$\\frac{1}{n} \\sum_{i=1}^{n} x_{i}$$\n",
    "\n",
    "**Example of mean:-**"
   ]
  },
  {
   "cell_type": "code",
   "execution_count": 8,
   "metadata": {},
   "outputs": [],
   "source": [
    "#Creating mean function\n",
    "def mean(sum_of_data,number_of_data_points):\n",
    "    return sum_of_data/number_of_data_points"
   ]
  },
  {
   "cell_type": "code",
   "execution_count": 10,
   "metadata": {},
   "outputs": [
    {
     "data": {
      "text/plain": [
       "41558.0"
      ]
     },
     "execution_count": 10,
     "metadata": {},
     "output_type": "execute_result"
    }
   ],
   "source": [
    "#Using self created function to find mean of column Mthly_HH_Income \n",
    "number_of_data_points=len(data['Mthly_HH_Income'])\n",
    "sum_of_data=sum(data['Mthly_HH_Income'])\n",
    "mean(sum_of_data,number_of_data_points)"
   ]
  },
  {
   "cell_type": "code",
   "execution_count": 6,
   "metadata": {},
   "outputs": [
    {
     "data": {
      "text/plain": [
       "41558.0"
      ]
     },
     "execution_count": 6,
     "metadata": {},
     "output_type": "execute_result"
    }
   ],
   "source": [
    "#Using numpy function to find mean of column Mthly_HH_Income    \n",
    "np.mean(data['Mthly_HH_Income'])"
   ]
  },
  {
   "cell_type": "markdown",
   "metadata": {},
   "source": [
    "# Median\n",
    "1. It is the middle value of the data.\n",
    "2. It is a measure of central tendency.\n",
    "3. It is used in univariate analysis.\n",
    "4. It is robust to outliers.\n",
    "5. While finding the median the data must be sorted.\n",
    "\n",
    "**Median when there are odd number of data points:**\n",
    "$$\\frac{n+1}{2}^{th}term$$\n",
    "\n",
    "**Median when there are even number of data points:**\n",
    "$$\\frac{(\\frac{n}{2})^{th}term+(\\frac{n}{2}+1)^{th}term}{2}$$\n",
    "\n",
    "**Example of median:-**"
   ]
  },
  {
   "cell_type": "code",
   "execution_count": 107,
   "metadata": {},
   "outputs": [],
   "source": [
    "# Creating median function\n",
    "def median(data):\n",
    "    sorted_data=sorted(data)\n",
    "    size_of_data=len(sorted_data)\n",
    "    if(size_of_data%2==0):\n",
    "        n_term=int(size_of_data/2)\n",
    "        n1_term=int((size_of_data/2))-1\n",
    "        median_data=(sorted_data[n_term]+sorted_data[n1_term])/2\n",
    "    else:\n",
    "        odd_n_term=int((size_of_data+1)/2)\n",
    "        median_data=sorted_data[odd_n_term]\n",
    "    return median_data"
   ]
  },
  {
   "cell_type": "code",
   "execution_count": 106,
   "metadata": {},
   "outputs": [
    {
     "data": {
      "text/plain": [
       "15500.0"
      ]
     },
     "execution_count": 106,
     "metadata": {},
     "output_type": "execute_result"
    }
   ],
   "source": [
    "#Using self created function to find median of column Mthly_HH_Expense\n",
    "median(data['Mthly_HH_Expense'])"
   ]
  },
  {
   "cell_type": "code",
   "execution_count": 50,
   "metadata": {},
   "outputs": [
    {
     "data": {
      "text/plain": [
       "15500.0"
      ]
     },
     "execution_count": 50,
     "metadata": {},
     "output_type": "execute_result"
    }
   ],
   "source": [
    "#Using numpy function to find median of column Mthly_HH_Expense\n",
    "np.median(data['Mthly_HH_Expense'])"
   ]
  },
  {
   "cell_type": "markdown",
   "metadata": {},
   "source": [
    "# Mode\n",
    "\n",
    "1. It is the most occuring value in the data.\n",
    "2. It is a measure of central tendency.\n",
    "3. It is used in univariate analysis.\n",
    "4. It is robust to outliers.\n",
    "5. Mode are of 3 types $-$ Unimodal, Bimodal, Multimodal.\n",
    "6. Unimodal $-$ When there is only one mode in the data.\n",
    "7. Bimodal $-$ When there are two modes in the data.\n",
    "8. Multimodal $-$ When there are more than two modes in the data.\n",
    "\n",
    "**Example of mode:-**"
   ]
  },
  {
   "cell_type": "code",
   "execution_count": 27,
   "metadata": {},
   "outputs": [],
   "source": [
    "# Creating mode function\n",
    "def mode(data):\n",
    "     n=0\n",
    "    dic={}\n",
    "    for i in sorted(data):\n",
    "        dic.setdefault(i,0)\n",
    "        dic[i]+=1\n",
    "    for i,j in dic.items():\n",
    "        if j==max(dic.values()):\n",
    "            freq_val=i\n",
    "    return freq_val"
   ]
  },
  {
   "cell_type": "code",
   "execution_count": 28,
   "metadata": {},
   "outputs": [
    {
     "data": {
      "text/plain": [
       "4"
      ]
     },
     "execution_count": 28,
     "metadata": {},
     "output_type": "execute_result"
    }
   ],
   "source": [
    "#Using self created function to find mode in column No_of_Fly_Members\n",
    "mode(data['No_of_Fly_Members'])"
   ]
  },
  {
   "cell_type": "code",
   "execution_count": 36,
   "metadata": {},
   "outputs": [
    {
     "data": {
      "text/plain": [
       "array([4], dtype=int64)"
      ]
     },
     "execution_count": 36,
     "metadata": {},
     "output_type": "execute_result"
    }
   ],
   "source": [
    "#Using numpy function to find mode in column No_of_Fly_Members\n",
    "stats.mode(data['No_of_Fly_Members'])[0]"
   ]
  },
  {
   "cell_type": "markdown",
   "metadata": {},
   "source": [
    "# Variance\n",
    "\n",
    "1. It is measure of spread.\n",
    "2. It tells how spread the data is around the mean.\n",
    "3. It is denoted by $ \\sigma^{2} $.\n",
    "4. It is not robust to outliers.\n",
    "4. It is used in univariate analysis.\n",
    "\n",
    "**Formula of variance is:-**\n",
    "$$\\sigma^{2}=\\frac{1}{n}\\sum_{i=1}^{n}(x_i-\\mu_x)^{2}$$"
   ]
  },
  {
   "cell_type": "code",
   "execution_count": 8,
   "metadata": {},
   "outputs": [],
   "source": [
    "# Creating variance function\n",
    "def variance(data):\n",
    "    length=len(data)\n",
    "    sum_of_data=sum(data)\n",
    "    mean=sum_of_data/length\n",
    "    sum_var=0\n",
    "    for i in data:\n",
    "        sum_square=(i-mean)**2\n",
    "        sum_var+=sum_square\n",
    "    return sum_var/length"
   ]
  },
  {
   "cell_type": "code",
   "execution_count": 9,
   "metadata": {},
   "outputs": [
    {
     "data": {
      "text/plain": [
       "100437186889.95831"
      ]
     },
     "execution_count": 9,
     "metadata": {},
     "output_type": "execute_result"
    }
   ],
   "source": [
    "#Using self created function to find variance of column Annual_HH_Income\n",
    "variance(data['Annual_HH_Income'])"
   ]
  },
  {
   "cell_type": "code",
   "execution_count": 4,
   "metadata": {},
   "outputs": [
    {
     "data": {
      "text/plain": [
       "100437186889.95831"
      ]
     },
     "execution_count": 4,
     "metadata": {},
     "output_type": "execute_result"
    }
   ],
   "source": [
    "#Using numpy function to find variance of column Annual_HH_Income\n",
    "np.var(data['Annual_HH_Income'])"
   ]
  },
  {
   "cell_type": "markdown",
   "metadata": {},
   "source": [
    "# Standard Deviation\n",
    "\n",
    "1. It is also measure of spread.\n",
    "2. It is demoted by $\\sigma$.\n",
    "3. It is not robust to outliers.\n",
    "4. It is used in univariate analysis.\n",
    "\n",
    "**Formula of standard deviation is:-**\n",
    "$$\\sigma=\\sqrt{\\frac{1}{n}\\sum_{i=1}^{n}(x_{i}-\\mu_{x})^{2}}$$\n",
    "## or\n",
    "$$\\sigma=\\sqrt{\\sigma^{2}}$$"
   ]
  },
  {
   "cell_type": "code",
   "execution_count": 11,
   "metadata": {},
   "outputs": [],
   "source": [
    "# Creating standard deviation function\n",
    "def standard_deviation(data):\n",
    "    length=len(data)\n",
    "    sum_of_data=sum(data)\n",
    "    mean=sum_of_data/length\n",
    "    sum_var=0\n",
    "    for i in data:\n",
    "        sum_square=(i-mean)**2\n",
    "        sum_var+=sum_square\n",
    "    return (sum_var/length)**0.5"
   ]
  },
  {
   "cell_type": "code",
   "execution_count": 12,
   "metadata": {},
   "outputs": [
    {
     "data": {
      "text/plain": [
       "316918.26531451027"
      ]
     },
     "execution_count": 12,
     "metadata": {},
     "output_type": "execute_result"
    }
   ],
   "source": [
    "#Using self created function to find standard deviation of column Annual_HH_Income\n",
    "standard_deviation(data['Annual_HH_Income'])"
   ]
  },
  {
   "cell_type": "code",
   "execution_count": 5,
   "metadata": {},
   "outputs": [
    {
     "data": {
      "text/plain": [
       "316918.26531451027"
      ]
     },
     "execution_count": 5,
     "metadata": {},
     "output_type": "execute_result"
    }
   ],
   "source": [
    "#Using numpy function to find standard deviation of column Annual_HH_Income\n",
    "np.std(data['Annual_HH_Income'])"
   ]
  },
  {
   "cell_type": "markdown",
   "metadata": {},
   "source": [
    "# Covariance\n",
    "\n",
    "1. It is a measure of relationship.\n",
    "2. It is used to measure linear relationship.\n",
    "3. It measures the direction of relationship.\n",
    "4. $cov(x,y)$ can either be positive $(+)$ or negative $ (-) $\n",
    "\n",
    "**Formula for covariance is:-**\n",
    "$$cov(x,y)=\\frac{1}{n}\\sum_{i=1}^{n}(x_{i}-\\mu_{x})(y_{i}-\\mu_{y})$$\n",
    "\n",
    "5. If $cov(x,y)$ is $+$ then it means with increase in x$\\uparrow$, y$\\uparrow$ also increases.\n",
    "6. If $cov(x,y)$ is $-$ then it means with increase in x$\\uparrow$, y$\\downarrow$ decreases."
   ]
  },
  {
   "cell_type": "code",
   "execution_count": 39,
   "metadata": {},
   "outputs": [],
   "source": [
    "# Creating covariance function\n",
    "def covariance(column_x,column_y):\n",
    "    length=len(column_x)\n",
    "    # Finding mean of x\n",
    "    sum_x=sum(column_x)\n",
    "    mean_x=sum_x/length\n",
    "   \n",
    "    #Finding mean of y\n",
    "    sum_y=sum(column_y)\n",
    "    mean_y=sum_y/length\n",
    "    \n",
    "    sum_var_x=0\n",
    "    sum_var_y=0\n",
    "    \n",
    "    lst_x=[]\n",
    "    lst_y=[]\n",
    "    for i in column_x:\n",
    "        var_x=i-mean_x\n",
    "        lst_x.append(var_x)\n",
    "    for j in column_y:\n",
    "        var_y=j-mean_y\n",
    "        lst_y.append(var_y)\n",
    "    \n",
    "    sum_corr=0\n",
    "    for i in range(0,len(lst_x)):\n",
    "        for j in range(0,len(lst_y)):\n",
    "            if(i==j):\n",
    "                corr=lst_x[i]*lst_y[j]\n",
    "                sum_corr+=corr\n",
    "                \n",
    "    return (sum_corr/length)"
   ]
  },
  {
   "cell_type": "code",
   "execution_count": 44,
   "metadata": {},
   "outputs": [
    {
     "data": {
      "text/plain": [
       "2242563305.2800007"
      ]
     },
     "execution_count": 44,
     "metadata": {},
     "output_type": "execute_result"
    }
   ],
   "source": [
    "#Using self created function to find covariance of column Mthly_HH_Expense and Annual_HH_Income\n",
    "covariance(data['Mthly_HH_Expense'],data['Annual_HH_Income'])"
   ]
  },
  {
   "cell_type": "code",
   "execution_count": 57,
   "metadata": {},
   "outputs": [
    {
     "data": {
      "text/plain": [
       "2288329903.3469396"
      ]
     },
     "execution_count": 57,
     "metadata": {},
     "output_type": "execute_result"
    }
   ],
   "source": [
    "#Using numpy function to find covariance of column Mthly_HH_Expense and Annual_HH_Income\n",
    "np.cov(data['Mthly_HH_Expense'],data['Annual_HH_Income'])[0,1]"
   ]
  },
  {
   "cell_type": "code",
   "execution_count": 47,
   "metadata": {},
   "outputs": [
    {
     "data": {
      "text/html": [
       "<div>\n",
       "<style scoped>\n",
       "    .dataframe tbody tr th:only-of-type {\n",
       "        vertical-align: middle;\n",
       "    }\n",
       "\n",
       "    .dataframe tbody tr th {\n",
       "        vertical-align: top;\n",
       "    }\n",
       "\n",
       "    .dataframe thead th {\n",
       "        text-align: right;\n",
       "    }\n",
       "</style>\n",
       "<table border=\"1\" class=\"dataframe\">\n",
       "  <thead>\n",
       "    <tr style=\"text-align: right;\">\n",
       "      <th></th>\n",
       "      <th>Mthly_HH_Income</th>\n",
       "      <th>Mthly_HH_Expense</th>\n",
       "      <th>No_of_Fly_Members</th>\n",
       "      <th>Emi_or_Rent_Amt</th>\n",
       "      <th>Annual_HH_Income</th>\n",
       "      <th>No_of_Earning_Members</th>\n",
       "    </tr>\n",
       "  </thead>\n",
       "  <tbody>\n",
       "    <tr>\n",
       "      <th>Mthly_HH_Income</th>\n",
       "      <td>6.811009e+08</td>\n",
       "      <td>2.048465e+08</td>\n",
       "      <td>17753.591837</td>\n",
       "      <td>6.022980e+06</td>\n",
       "      <td>8.106864e+09</td>\n",
       "      <td>6666.653061</td>\n",
       "    </tr>\n",
       "    <tr>\n",
       "      <th>Mthly_HH_Expense</th>\n",
       "      <td>2.048465e+08</td>\n",
       "      <td>1.461733e+08</td>\n",
       "      <td>11735.632653</td>\n",
       "      <td>3.058257e+07</td>\n",
       "      <td>2.288330e+09</td>\n",
       "      <td>2769.102041</td>\n",
       "    </tr>\n",
       "    <tr>\n",
       "      <th>No_of_Fly_Members</th>\n",
       "      <td>1.775359e+04</td>\n",
       "      <td>1.173563e+04</td>\n",
       "      <td>2.302449</td>\n",
       "      <td>8.126531e+02</td>\n",
       "      <td>2.093019e+05</td>\n",
       "      <td>0.665714</td>\n",
       "    </tr>\n",
       "    <tr>\n",
       "      <th>Emi_or_Rent_Amt</th>\n",
       "      <td>6.022980e+06</td>\n",
       "      <td>3.058257e+07</td>\n",
       "      <td>812.653061</td>\n",
       "      <td>3.895551e+07</td>\n",
       "      <td>5.426263e+06</td>\n",
       "      <td>-446.530612</td>\n",
       "    </tr>\n",
       "    <tr>\n",
       "      <th>Annual_HH_Income</th>\n",
       "      <td>8.106864e+09</td>\n",
       "      <td>2.288330e+09</td>\n",
       "      <td>209301.854694</td>\n",
       "      <td>5.426263e+06</td>\n",
       "      <td>1.024869e+11</td>\n",
       "      <td>69741.266939</td>\n",
       "    </tr>\n",
       "    <tr>\n",
       "      <th>No_of_Earning_Members</th>\n",
       "      <td>6.666653e+03</td>\n",
       "      <td>2.769102e+03</td>\n",
       "      <td>0.665714</td>\n",
       "      <td>-4.465306e+02</td>\n",
       "      <td>6.974127e+04</td>\n",
       "      <td>0.539184</td>\n",
       "    </tr>\n",
       "  </tbody>\n",
       "</table>\n",
       "</div>"
      ],
      "text/plain": [
       "                       Mthly_HH_Income  Mthly_HH_Expense  No_of_Fly_Members  \\\n",
       "Mthly_HH_Income           6.811009e+08      2.048465e+08       17753.591837   \n",
       "Mthly_HH_Expense          2.048465e+08      1.461733e+08       11735.632653   \n",
       "No_of_Fly_Members         1.775359e+04      1.173563e+04           2.302449   \n",
       "Emi_or_Rent_Amt           6.022980e+06      3.058257e+07         812.653061   \n",
       "Annual_HH_Income          8.106864e+09      2.288330e+09      209301.854694   \n",
       "No_of_Earning_Members     6.666653e+03      2.769102e+03           0.665714   \n",
       "\n",
       "                       Emi_or_Rent_Amt  Annual_HH_Income  \\\n",
       "Mthly_HH_Income           6.022980e+06      8.106864e+09   \n",
       "Mthly_HH_Expense          3.058257e+07      2.288330e+09   \n",
       "No_of_Fly_Members         8.126531e+02      2.093019e+05   \n",
       "Emi_or_Rent_Amt           3.895551e+07      5.426263e+06   \n",
       "Annual_HH_Income          5.426263e+06      1.024869e+11   \n",
       "No_of_Earning_Members    -4.465306e+02      6.974127e+04   \n",
       "\n",
       "                       No_of_Earning_Members  \n",
       "Mthly_HH_Income                  6666.653061  \n",
       "Mthly_HH_Expense                 2769.102041  \n",
       "No_of_Fly_Members                   0.665714  \n",
       "Emi_or_Rent_Amt                  -446.530612  \n",
       "Annual_HH_Income                69741.266939  \n",
       "No_of_Earning_Members               0.539184  "
      ]
     },
     "execution_count": 47,
     "metadata": {},
     "output_type": "execute_result"
    }
   ],
   "source": [
    "#Using pandas function to find covariance\n",
    "data.cov()"
   ]
  },
  {
   "cell_type": "markdown",
   "metadata": {},
   "source": [
    "# Correlation\n",
    "\n",
    "1. It is measure of relationship.\n",
    "2. It is used to measure linear relationship.\n",
    "3. It is used in bivariate analysis.\n",
    "4. It measures the strenght between two variables.\n",
    "5. Here, we will discuss about Pearson Correlation Coffecient.\n",
    "\n",
    "**Formula of Correlation is:-**\n",
    "$$ \\rho_{x,y}=\\frac{cov(x,y)}{\\sigma_{x}*\\sigma_{y}}$$\n",
    "**6. Here, cov (x,y) is covariance of x and,y.**  \n",
    "**7. $\\sigma_{x}$ is standard deviation of x and $\\sigma_{y}$ is standard deviation of y.**  \n",
    "## Range of pearson correlation coffecient: $-$1$\\le$$\\rho_{x,y}$$\\le$$+$1\n",
    "\n",
    "![](https://verywellmind.com/thmb/vQo1wIdDTgc84SAldZhAMSNc58g=/942x530/smart/filters:no_upscale()/Correlation_coefficient-56a792873df78cf77297414e.png) \n",
    "\n",
    "## Properties of Graph:-\n",
    "1. The first graph $\\rho=-1$ depicts that variable x and y are highly un-correlated.\n",
    "2. The fourth graph $\\rho=1$ depicts that variable x and y are highly correlated.\n",
    "3. The fifth graph $\\rho=0$ depicts that variable x and y are not correlated i.e, there is no correlation between the variable x and y.\n",
    "4. The second and third graph depicts the $\\rho$ is between $-$1$\\le$$\\rho_{x,y}$$\\le$$+$1."
   ]
  },
  {
   "cell_type": "code",
   "execution_count": 52,
   "metadata": {},
   "outputs": [],
   "source": [
    "# Creating correlation function\n",
    "def correlation(column_x,column_y):\n",
    "    cov=covariance(column_x,column_y)  # Here I have used previously created function of covariance\n",
    "    std_x=standard_deviation(column_x) # Here I have used previously created function of standard deviation\n",
    "    std_y=standard_deviation(column_y) # Here I have used previously created function of standard deviation\n",
    "    return (cov/(std_x*std_y))"
   ]
  },
  {
   "cell_type": "code",
   "execution_count": 53,
   "metadata": {},
   "outputs": [
    {
     "data": {
      "text/plain": [
       "0.5912216295468026"
      ]
     },
     "execution_count": 53,
     "metadata": {},
     "output_type": "execute_result"
    }
   ],
   "source": [
    "#Using self created function to find correlation of column Mthly_HH_Expense and Annual_HH_Income\n",
    "correlation(data['Mthly_HH_Expense'],data['Annual_HH_Income'])"
   ]
  },
  {
   "cell_type": "code",
   "execution_count": 56,
   "metadata": {},
   "outputs": [
    {
     "data": {
      "text/plain": [
       "0.5912216295468026"
      ]
     },
     "execution_count": 56,
     "metadata": {},
     "output_type": "execute_result"
    }
   ],
   "source": [
    "#Using numpy function to find correlation of column Mthly_HH_Expense and Annual_HH_Income\n",
    "np.corrcoef(data['Mthly_HH_Expense'],data['Annual_HH_Income'])[0,1]"
   ]
  },
  {
   "cell_type": "code",
   "execution_count": 54,
   "metadata": {},
   "outputs": [
    {
     "data": {
      "text/html": [
       "<div>\n",
       "<style scoped>\n",
       "    .dataframe tbody tr th:only-of-type {\n",
       "        vertical-align: middle;\n",
       "    }\n",
       "\n",
       "    .dataframe tbody tr th {\n",
       "        vertical-align: top;\n",
       "    }\n",
       "\n",
       "    .dataframe thead th {\n",
       "        text-align: right;\n",
       "    }\n",
       "</style>\n",
       "<table border=\"1\" class=\"dataframe\">\n",
       "  <thead>\n",
       "    <tr style=\"text-align: right;\">\n",
       "      <th></th>\n",
       "      <th>Mthly_HH_Income</th>\n",
       "      <th>Mthly_HH_Expense</th>\n",
       "      <th>No_of_Fly_Members</th>\n",
       "      <th>Emi_or_Rent_Amt</th>\n",
       "      <th>Annual_HH_Income</th>\n",
       "      <th>No_of_Earning_Members</th>\n",
       "    </tr>\n",
       "  </thead>\n",
       "  <tbody>\n",
       "    <tr>\n",
       "      <th>Mthly_HH_Income</th>\n",
       "      <td>1.000000</td>\n",
       "      <td>0.649215</td>\n",
       "      <td>0.448317</td>\n",
       "      <td>0.036976</td>\n",
       "      <td>0.970315</td>\n",
       "      <td>0.347883</td>\n",
       "    </tr>\n",
       "    <tr>\n",
       "      <th>Mthly_HH_Expense</th>\n",
       "      <td>0.649215</td>\n",
       "      <td>1.000000</td>\n",
       "      <td>0.639702</td>\n",
       "      <td>0.405280</td>\n",
       "      <td>0.591222</td>\n",
       "      <td>0.311915</td>\n",
       "    </tr>\n",
       "    <tr>\n",
       "      <th>No_of_Fly_Members</th>\n",
       "      <td>0.448317</td>\n",
       "      <td>0.639702</td>\n",
       "      <td>1.000000</td>\n",
       "      <td>0.085808</td>\n",
       "      <td>0.430868</td>\n",
       "      <td>0.597482</td>\n",
       "    </tr>\n",
       "    <tr>\n",
       "      <th>Emi_or_Rent_Amt</th>\n",
       "      <td>0.036976</td>\n",
       "      <td>0.405280</td>\n",
       "      <td>0.085808</td>\n",
       "      <td>1.000000</td>\n",
       "      <td>0.002716</td>\n",
       "      <td>-0.097431</td>\n",
       "    </tr>\n",
       "    <tr>\n",
       "      <th>Annual_HH_Income</th>\n",
       "      <td>0.970315</td>\n",
       "      <td>0.591222</td>\n",
       "      <td>0.430868</td>\n",
       "      <td>0.002716</td>\n",
       "      <td>1.000000</td>\n",
       "      <td>0.296679</td>\n",
       "    </tr>\n",
       "    <tr>\n",
       "      <th>No_of_Earning_Members</th>\n",
       "      <td>0.347883</td>\n",
       "      <td>0.311915</td>\n",
       "      <td>0.597482</td>\n",
       "      <td>-0.097431</td>\n",
       "      <td>0.296679</td>\n",
       "      <td>1.000000</td>\n",
       "    </tr>\n",
       "  </tbody>\n",
       "</table>\n",
       "</div>"
      ],
      "text/plain": [
       "                       Mthly_HH_Income  Mthly_HH_Expense  No_of_Fly_Members  \\\n",
       "Mthly_HH_Income               1.000000          0.649215           0.448317   \n",
       "Mthly_HH_Expense              0.649215          1.000000           0.639702   \n",
       "No_of_Fly_Members             0.448317          0.639702           1.000000   \n",
       "Emi_or_Rent_Amt               0.036976          0.405280           0.085808   \n",
       "Annual_HH_Income              0.970315          0.591222           0.430868   \n",
       "No_of_Earning_Members         0.347883          0.311915           0.597482   \n",
       "\n",
       "                       Emi_or_Rent_Amt  Annual_HH_Income  \\\n",
       "Mthly_HH_Income               0.036976          0.970315   \n",
       "Mthly_HH_Expense              0.405280          0.591222   \n",
       "No_of_Fly_Members             0.085808          0.430868   \n",
       "Emi_or_Rent_Amt               1.000000          0.002716   \n",
       "Annual_HH_Income              0.002716          1.000000   \n",
       "No_of_Earning_Members        -0.097431          0.296679   \n",
       "\n",
       "                       No_of_Earning_Members  \n",
       "Mthly_HH_Income                     0.347883  \n",
       "Mthly_HH_Expense                    0.311915  \n",
       "No_of_Fly_Members                   0.597482  \n",
       "Emi_or_Rent_Amt                    -0.097431  \n",
       "Annual_HH_Income                    0.296679  \n",
       "No_of_Earning_Members               1.000000  "
      ]
     },
     "execution_count": 54,
     "metadata": {},
     "output_type": "execute_result"
    }
   ],
   "source": [
    "#Using pandas function to find correlation of column Mthly_HH_Expense and Annual_HH_Income\n",
    "data.corr()"
   ]
  },
  {
   "cell_type": "markdown",
   "metadata": {},
   "source": [
    "# Normal Distribution\n",
    "\n",
    "![](https://miro.medium.com/max/24000/1*IdGgdrY_n_9_YfkaCh-dag.png)\\\\\n",
    "1. It is also known as guassian distribution or bell curve.\n",
    "2. It is symmetric in nature, the left balances exactly with the right.\n",
    "3. Fifty percent scores are above the mean and fifty percent below the mean.\n",
    "4. All the mean, median and mode lie in the centre:-\n",
    "       a) It is mean because it is arithmetic average of all scores.\n",
    "       b) It is the mode because of all the scores the mean score happens MOST often.\n",
    "       c) It is the median because when the scores are displayed from lowest to highest, the mean is the MIDDLE score, the median.\n",
    "5. Most of the scores are in the middle around the mean, and few are in the tails around the extremes.\n",
    "**Note:- Normal distribution is the most frequent distribution that occurs in the nature.**\n",
    "\n",
    "## Features of Normal Distribution\n",
    "1. The area under the curve is equal to 1.\n",
    "2. The sum of all the probabilities of event is equal to 1.\n",
    "3. $\\mu-\\sigma\\leq 68\\%\\leq\\mu+\\sigma$, Probability score within one standard deviation.\n",
    "4. $\\mu-2\\sigma\\leq 95\\%\\leq\\mu+2\\sigma$, Probability score within two standard deviation.\n",
    "5. $\\mu-3\\sigma\\leq 99.7\\%\\leq\\mu+3\\sigma$, Probability score within three standard deviation.\n",
    "\n",
    "### Function of Normal Distribution is:-\n",
    "$$f(x,\\mu,\\sigma)=\\frac{1}{\\sigma\\sqrt{2\\pi}}e^{\\frac{-(x-\\mu)^{2}}{2\\sigma^{2}}}$$\n",
    "\n",
    "### Normal distribution is denoted by:- \n",
    "$$Score\\sim N(\\mu,\\sigma^{2})\\\\\n",
    "     \\sim means follows\\\\\n",
    "     \\mu \\ is\\ the\\ mean\\\\\n",
    "      \\sigma^{2} \\ is\\ the\\ variance$$\n",
    "\n",
    "![](https://www.ijamhrjournal.org/articles/2014/1/1/images/IntJAdvMedRes_2014_1_1_30_134449_u5.jpg)\n",
    "### Skewness\n",
    "Skewness is the measure of asymmetry of probability distribution of a random variable about its mean. The skewness can be either can be positive, negative or zero. If skewness is 0 the data is perfectly symmetric, although it is very unlikely for the real world. The general tumb of rule is:-\\\\\n",
    "1. If the skewness is less than -1 and greater than +1, then it is highly skewed data.\n",
    "2. If the skewness is between -0.5 to -1 or between 0.5 to 1, then it is moderately skewed data\n",
    "3. If the skewness is between -0.5 to 0.5 then, the distribution is almost symmetric\n",
    "\n",
    "\n",
    "\n",
    "### Positively and Negatively skewed distribution\n",
    "1. A **Positive-Skewed** distribution also known as right-skewed distribution as it's long tails lies in the right side of the distribution.\\\n",
    "    a) It has a long right tail.\\\n",
    "    b) The mean is also on the right side of the peak.\n",
    "2. A **Negatively-Skewed** distribution also known as left-skewed distribution as it's long tail lies in the left side of the distribution.\\\n",
    "    a) It has a long left tail.\\\n",
    "    b)The mean is on the left side of the peak.\n",
    "\n",
    "### Effect on mean, median and mode due to skewness\n",
    "1. Positive-Skewed:-mode<median<mean\n",
    "2. Negatively-Skewed:-mean<median<mode\n",
    "\n",
    "### Kurtosis\n",
    "Kurtosis tells the height and sharpness of the central peak, relative to standard bell curve.\\\n",
    "**Note:- In Normal Distribution Kurtosis is 0.**"
   ]
  },
  {
   "cell_type": "markdown",
   "metadata": {},
   "source": [
    "# Q-Q Plot (Quartile-Quartile Plot)\n",
    "1. It checks the normality of the data.\n",
    "2. For the data, to be normally distributed all the point should lie on $45^{\\circ}$ angle."
   ]
  },
  {
   "cell_type": "code",
   "execution_count": 71,
   "metadata": {},
   "outputs": [
    {
     "data": {
      "image/png": "[encoded data removed]",
      "text/plain": [
       "<Figure size 432x288 with 1 Axes>"
      ]
     },
     "metadata": {
      "needs_background": "light"
     },
     "output_type": "display_data"
    }
   ],
   "source": [
    "#Testing normality of Mthly_HH_Income\n",
    "stats.probplot(data['Mthly_HH_Income'], dist=\"norm\",plot=plt)\n",
    "plt.grid()\n",
    "# Here data is not normally distributed, to confirm the data is normally distributed all the point should be on 45 degree angle."
   ]
  },
  {
   "cell_type": "code",
   "execution_count": 68,
   "metadata": {},
   "outputs": [
    {
     "data": {
      "image/png": "[encoded data removed]",
      "text/plain": [
       "<Figure size 432x288 with 1 Axes>"
      ]
     },
     "metadata": {
      "needs_background": "light"
     },
     "output_type": "display_data"
    }
   ],
   "source": [
    "#Testing normality of Mthly_HH_Expense\n",
    "stats.probplot(data['Mthly_HH_Expense'],dist='norm',plot=plt)\n",
    "plt.grid()\n",
    "# Here data is not normally distributed, to confirm the data is normally distributed all the point should be on 45 degree angle."
   ]
  },
  {
   "cell_type": "markdown",
   "metadata": {},
   "source": [
    "# Box-Cox Transformation\n",
    "It is used to transform the data into normal distribution."
   ]
  },
  {
   "cell_type": "code",
   "execution_count": 79,
   "metadata": {},
   "outputs": [
    {
     "name": "stdout",
     "output_type": "stream",
     "text": [
      "0.3031376789702236\n"
     ]
    }
   ],
   "source": [
    "x_t_income,l_income=stats.boxcox(data['Mthly_HH_Income'])\n",
    "print(l_income)"
   ]
  },
  {
   "cell_type": "code",
   "execution_count": 78,
   "metadata": {},
   "outputs": [
    {
     "data": {
      "image/png": "[encoded data removed]",
      "text/plain": [
       "<Figure size 432x288 with 1 Axes>"
      ]
     },
     "metadata": {
      "needs_background": "light"
     },
     "output_type": "display_data"
    }
   ],
   "source": [
    "stats.probplot(x_t_income,dist='norm',plot=plt)\n",
    "plt.grid()\n",
    "# Here, now we can see that the data \"Mthly_HH_Income\" is very much normally distributed than, previous one"
   ]
  },
  {
   "cell_type": "code",
   "execution_count": 80,
   "metadata": {},
   "outputs": [
    {
     "name": "stdout",
     "output_type": "stream",
     "text": [
      "0.18883043817938627\n"
     ]
    }
   ],
   "source": [
    "x_t_expense,l_expense=stats.boxcox(data['Mthly_HH_Expense'])\n",
    "print(l_expense)"
   ]
  },
  {
   "cell_type": "code",
   "execution_count": 81,
   "metadata": {},
   "outputs": [
    {
     "data": {
      "image/png": "[encoded data removed]",
      "text/plain": [
       "<Figure size 432x288 with 1 Axes>"
      ]
     },
     "metadata": {
      "needs_background": "light"
     },
     "output_type": "display_data"
    }
   ],
   "source": [
    "stats.probplot(x_t_expense,dist='norm',plot=plt)\n",
    "plt.grid()\n",
    "# Here, now we can see that the data \"Mthly_HH_Expense\" is very much normally distributed than, previous one"
   ]
  },
  {
   "cell_type": "markdown",
   "metadata": {},
   "source": [
    "# Some more examples types of distribution.\n",
    "**1. Uniform Distrbution:-** In unifrom distribution all the data points are normally distributed.\\\n",
    "**2. Pareto Distribution**\\\n",
    "    a) It is used in description of social, quality control, scientific, geophysical, actuarial, and many other types of observable phenomena.\\\n",
    "    b)Originally applied to describing the distribution of wealth in a society, fitting the trend that a large portion of wealth is held by a small fraction of the population."
   ]
  },
  {
   "cell_type": "code",
   "execution_count": 82,
   "metadata": {},
   "outputs": [
    {
     "data": {
      "text/plain": [
       "<seaborn.axisgrid.FacetGrid at 0x2617cbf79a0>"
      ]
     },
     "execution_count": 82,
     "metadata": {},
     "output_type": "execute_result"
    },
    {
     "data": {
      "image/png": "[encoded data removed]",
      "text/plain": [
       "<Figure size 360x360 with 1 Axes>"
      ]
     },
     "metadata": {
      "needs_background": "light"
     },
     "output_type": "display_data"
    }
   ],
   "source": [
    "#Uniform Distribution\n",
    "uniform_10000=np.random.uniform(low=10,high=250,size=10000)\n",
    "sns.displot(uniform_10000)"
   ]
  },
  {
   "cell_type": "code",
   "execution_count": 83,
   "metadata": {
    "scrolled": true
   },
   "outputs": [
    {
     "data": {
      "text/plain": [
       "<seaborn.axisgrid.FacetGrid at 0x26179bd5a00>"
      ]
     },
     "execution_count": 83,
     "metadata": {},
     "output_type": "execute_result"
    },
    {
     "data": {
      "image/png": "[encoded data removed]",
      "text/plain": [
       "<Figure size 360x360 with 1 Axes>"
      ]
     },
     "metadata": {
      "needs_background": "light"
     },
     "output_type": "display_data"
    }
   ],
   "source": [
    "# Pareto Distribution\n",
    "pareto_rv=np.random.pareto(a=4,size=500)\n",
    "sns.displot(pareto_rv)"
   ]
  }
 ],
 "metadata": {
  "kernelspec": {
   "display_name": "Python 3",
   "language": "python",
   "name": "python3"
  },
  "language_info": {
   "codemirror_mode": {
    "name": "ipython",
    "version": 3
   },
   "file_extension": ".py",
   "mimetype": "text/x-python",
   "name": "python",
   "nbconvert_exporter": "python",
   "pygments_lexer": "ipython3",
   "version": "3.8.3"
  }
 },
 "nbformat": 4,
 "nbformat_minor": 4
}
