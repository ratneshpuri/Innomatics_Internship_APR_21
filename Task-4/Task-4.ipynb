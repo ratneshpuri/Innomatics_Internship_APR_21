{
 "cells": [
  {
   "cell_type": "code",
   "execution_count": 29,
   "metadata": {},
   "outputs": [
    {
     "name": "stdout",
     "output_type": "stream",
     "text": [
      "HacKERrank.Com\n",
      "hACkerRANK.cOM\n"
     ]
    }
   ],
   "source": [
    "# Question 1) sWAP cASE\n",
    "\n",
    "def swap_case(s):\n",
    "    return s.swapcase()\n",
    "\n",
    "if __name__ == '__main__':\n",
    "    s = input()\n",
    "    result = swap_case(s)\n",
    "    print(result)"
   ]
  },
  {
   "cell_type": "code",
   "execution_count": 28,
   "metadata": {},
   "outputs": [
    {
     "name": "stdout",
     "output_type": "stream",
     "text": [
      "This is a string.\n",
      "This-is-a-string.\n"
     ]
    }
   ],
   "source": [
    "# Question 2) String Split and Join\n",
    "\n",
    "def split_and_join(line):\n",
    "    split=line.split(\" \")\n",
    "    split=\"-\".join(split)\n",
    "    return split\n",
    "    \n",
    "if __name__ == '__main__':\n",
    "    \n",
    "    line = input()\n",
    "    result = split_and_join(line)\n",
    "    print(result)"
   ]
  },
  {
   "cell_type": "code",
   "execution_count": 32,
   "metadata": {},
   "outputs": [
    {
     "name": "stdout",
     "output_type": "stream",
     "text": [
      "Ratnesh \n",
      "Puri\n",
      "Hello Ratnesh  Puri! You just delved into python.\n"
     ]
    }
   ],
   "source": [
    "# Question 3) What's your Name?\n",
    "\n",
    "def print_full_name(first, last):\n",
    "    print(f'Hello {first} {last}! You just delved into python.')\n",
    "\n",
    "if __name__ == '__main__':\n",
    "    first_name = input()\n",
    "    last_name = input()\n",
    "    print_full_name(first_name, last_name)"
   ]
  },
  {
   "cell_type": "code",
   "execution_count": 35,
   "metadata": {},
   "outputs": [
    {
     "name": "stdout",
     "output_type": "stream",
     "text": [
      "abracadabra\n",
      "5 k\n",
      "abrackdabra\n"
     ]
    }
   ],
   "source": [
    "# Question 4) Mutations\n",
    "\n",
    "def mutate_string(string, position, character):\n",
    "    string_changed=list(string)\n",
    "    string_changed[position]=character\n",
    "    return \"\".join(string_changed)\n",
    "\n",
    "if __name__ == '__main__':\n",
    "    s = input()\n",
    "    i, c = input().split()\n",
    "    s_new = mutate_string(s, int(i), c)\n",
    "    print(s_new)"
   ]
  },
  {
   "cell_type": "code",
   "execution_count": 38,
   "metadata": {},
   "outputs": [
    {
     "name": "stdout",
     "output_type": "stream",
     "text": [
      "ABCDCDC\n",
      "CDC\n",
      "2\n"
     ]
    }
   ],
   "source": [
    "# Question 5) Find a string\n",
    "\n",
    "def count_substring(string, sub_string):\n",
    "    count=0\n",
    "    for i in range(len(string)-len(sub_string)+1):\n",
    "        if(string[i:i+len(sub_string)]==sub_string):\n",
    "            count+=1\n",
    "    return count\n",
    "\n",
    "if __name__ == '__main__':\n",
    "    string = input().strip()\n",
    "    sub_string = input().strip()\n",
    "    count = count_substring(string, sub_string)\n",
    "    print(count)"
   ]
  },
  {
   "cell_type": "code",
   "execution_count": 56,
   "metadata": {},
   "outputs": [
    {
     "name": "stdout",
     "output_type": "stream",
     "text": [
      "qa2\n",
      "True\n",
      "True\n",
      "True\n",
      "True\n",
      "False\n"
     ]
    }
   ],
   "source": [
    "# Question 6) String Validators\n",
    "\n",
    "if __name__ == '__main__':\n",
    "    s = input()\n",
    "    print(any(char.isalnum() for char in s))\n",
    "    print(any(char.isalpha() for char in s))\n",
    "    print(any(char.isdigit() for char in s))\n",
    "    print(any(char.islower() for char in s))\n",
    "    print(any(char.isupper() for char in s))"
   ]
  },
  {
   "cell_type": "code",
   "execution_count": 23,
   "metadata": {},
   "outputs": [
    {
     "name": "stdout",
     "output_type": "stream",
     "text": [
      "hhfhahfafhaf\n",
      "4\n",
      "hhfh\n",
      "ahfa\n",
      "fhaf\n"
     ]
    }
   ],
   "source": [
    "# Question 7) Text Wrap\n",
    "\n",
    "import textwrap\n",
    "\n",
    "def wrap(string, max_width):\n",
    "    return textwrap.fill(string,max_width)\n",
    "    \n",
    "if __name__ == '__main__':\n",
    "    string, max_width = input(), int(input())\n",
    "    result = wrap(string, max_width)\n",
    "    print(result)"
   ]
  },
  {
   "cell_type": "code",
   "execution_count": 89,
   "metadata": {},
   "outputs": [
    {
     "name": "stdout",
     "output_type": "stream",
     "text": [
      "9 27\n",
      "------------.|.------------\n",
      "---------.|..|..|.---------\n",
      "------.|..|..|..|..|.------\n",
      "---.|..|..|..|..|..|..|.---\n",
      "----------WELCOME----------\n",
      "---.|..|..|..|..|..|..|.---\n",
      "------.|..|..|..|..|.------\n",
      "---------.|..|..|.---------\n",
      "------------.|.------------\n"
     ]
    }
   ],
   "source": [
    "# Question 8) Designer Door Mat\n",
    "\n",
    "n,m=map(int, input().split())\n",
    "s1=\".|.\"\n",
    "s2=\"WELCOME\"\n",
    "for i in range(n//2):\n",
    "    print((s1*((i*2)+1)).center(m,'-'))\n",
    "    \n",
    "print(s2.center(m,'-'))\n",
    "\n",
    "for i in range(n//2-1,-1,-1):\n",
    "    print((s1*((i*2)+1)).center(m,'-'))"
   ]
  },
  {
   "cell_type": "code",
   "execution_count": 32,
   "metadata": {},
   "outputs": [
    {
     "name": "stdout",
     "output_type": "stream",
     "text": [
      "hello world\n",
      "Hello World\n"
     ]
    }
   ],
   "source": [
    "# Question 9) Capitalize\n",
    "\n",
    "def solve(s):\n",
    "    for i in s.split():\n",
    "        s=s.replace(i,i.capitalize())\n",
    "    return s\n",
    "if __name__ == '__main__':\n",
    "    s = input()\n",
    "    result = solve(s)\n",
    "    print(result)\n",
    "\n",
    "    "
   ]
  },
  {
   "cell_type": "code",
   "execution_count": 17,
   "metadata": {},
   "outputs": [
    {
     "name": "stdout",
     "output_type": "stream",
     "text": [
      "5\n",
      "    H    \n",
      "   HHH   \n",
      "  HHHHH  \n",
      " HHHHHHH \n",
      "HHHHHHHHH\n",
      "  HHHHH               HHHHH             \n",
      "  HHHHH               HHHHH             \n",
      "  HHHHH               HHHHH             \n",
      "  HHHHH               HHHHH             \n",
      "  HHHHH               HHHHH             \n",
      "  HHHHH               HHHHH             \n",
      "  HHHHHHHHHHHHHHHHHHHHHHHHH   \n",
      "  HHHHHHHHHHHHHHHHHHHHHHHHH   \n",
      "  HHHHHHHHHHHHHHHHHHHHHHHHH   \n",
      "  HHHHH               HHHHH             \n",
      "  HHHHH               HHHHH             \n",
      "  HHHHH               HHHHH             \n",
      "  HHHHH               HHHHH             \n",
      "  HHHHH               HHHHH             \n",
      "  HHHHH               HHHHH             \n",
      "                    HHHHHHHHH \n",
      "                     HHHHHHH  \n",
      "                      HHHHH   \n",
      "                       HHH    \n",
      "                        H     \n"
     ]
    }
   ],
   "source": [
    "# Question 7) Text Alignment\n",
    "\n",
    "def main():\n",
    "    # Replace all ______ with rjust, ljust or center. \n",
    "\n",
    "    thickness = int(input())  # This must be an odd number\n",
    "    c = 'H'\n",
    "    \n",
    "    # Top Cone\n",
    "    for i in range(thickness):\n",
    "        print((c * i).rjust(thickness - 1) + c + (c * i).ljust(thickness - 1))\n",
    "    \n",
    "    # Top Pillars\n",
    "    for i in range(thickness + 1):\n",
    "        print((c * thickness).center(thickness * 2) + (c * thickness).center(thickness * 6))\n",
    "    \n",
    "    # Middle Belt\n",
    "    for i in range((thickness + 1) // 2):\n",
    "        print((c * thickness * 5).center(thickness * 6))    \n",
    "    \n",
    "    # Bottom Pillars\n",
    "    for i in range(thickness + 1):\n",
    "        print((c * thickness).center(thickness * 2) + (c * thickness).center(thickness * 6))    \n",
    "    \n",
    "    # Bottom Cone\n",
    "    for i in range(thickness):\n",
    "        print(((c * (thickness - i - 1)).rjust(thickness) + c + (c * (thickness - i - 1)).ljust(thickness)).rjust(thickness * 6))  \n",
    "\n",
    "if __name__ == '__main__':\n",
    "    main()"
   ]
  },
  {
   "cell_type": "code",
   "execution_count": 35,
   "metadata": {},
   "outputs": [
    {
     "name": "stdout",
     "output_type": "stream",
     "text": [
      "17\n",
      "    1    1    1    1\n",
      "    2    2    2   10\n",
      "    3    3    3   11\n",
      "    4    4    4  100\n",
      "    5    5    5  101\n",
      "    6    6    6  110\n",
      "    7    7    7  111\n",
      "    8   10    8 1000\n",
      "    9   11    9 1001\n",
      "   10   12    A 1010\n",
      "   11   13    B 1011\n",
      "   12   14    C 1100\n",
      "   13   15    D 1101\n",
      "   14   16    E 1110\n",
      "   15   17    F 1111\n",
      "   16   20   1010000\n",
      "   17   21   1110001\n"
     ]
    }
   ],
   "source": [
    "# Question 8) String Formatting\n",
    "\n",
    "def print_formatted(number):\n",
    "    width=len(\"{0:b}\".format(number))\n",
    "    for i in range(1,number+1):\n",
    "        print(\"{0:{w}d}{0:{w}o}{0:{w}X}{0:{w}b}\".format(i,w=width))\n",
    "\n",
    "if __name__ == '__main__':\n",
    "    n = int(input())\n",
    "    print_formatted(n)"
   ]
  },
  {
   "cell_type": "code",
   "execution_count": 59,
   "metadata": {},
   "outputs": [
    {
     "name": "stdout",
     "output_type": "stream",
     "text": [
      "BANANA\n",
      "['B', 'BA', 'BAN', 'BANA', 'BANAN', 'BANANA', 'A', 'AN', 'ANA', 'ANAN', 'ANANA', 'N', 'NA', 'NAN', 'NANA', 'A', 'AN', 'ANA', 'N', 'NA', 'A']\n",
      "Kevin: 10\n",
      "Stuart: 13\n"
     ]
    }
   ],
   "source": [
    "from itertools import combinations\n",
    "def minion_game(string):\n",
    "    # your code goes here\n",
    "    substring=[]\n",
    "    Kevin=1\n",
    "    Stuart=1\n",
    "    res = [string[x:y] for x, y in combinations(\n",
    "            range(len(string) + 1), r = 2)]\n",
    "    print(res)\n",
    "    for x in res:\n",
    "        if(x[0]=='A' or x[0]=='E' or x[0]=='I' or x[0]=='O'or x[0]=='U' ):\n",
    "            Kevin+=1\n",
    "        else:\n",
    "            Stuart+=1\n",
    "    print(\"Kevin:\",Kevin)\n",
    "    print(\"Stuart:\",Stuart)\n",
    "\n",
    "if __name__ == '__main__':\n",
    "    s = input()\n",
    "    minion_game(s)"
   ]
  },
  {
   "cell_type": "code",
   "execution_count": 67,
   "metadata": {},
   "outputs": [
    {
     "name": "stdout",
     "output_type": "stream",
     "text": [
      "BANANA\n",
      "Stuart 12 \n"
     ]
    }
   ],
   "source": [
    "# Question 9) The Minion Game\n",
    "\n",
    "def minion_game(string):\n",
    "    stuart,kevin=0,0\n",
    "    lenght=len(string)\n",
    "    for i in range(lenght):\n",
    "        if string[i] in \"AEIOU\":\n",
    "            kevin+=(lenght-i)\n",
    "        else:\n",
    "            stuart+=(lenght-i)\n",
    "    if kevin>stuart:\n",
    "        print(\"Kevin {}\".format(kevin))\n",
    "    elif kevin<stuart:\n",
    "        print(\"Stuart {} \".format(stuart))\n",
    "    else:\n",
    "        print(\"Draw \")\n",
    "if __name__ == '__main__':\n",
    "    s = input()\n",
    "    minion_game(s)"
   ]
  },
  {
   "cell_type": "code",
   "execution_count": 88,
   "metadata": {},
   "outputs": [
    {
     "name": "stdout",
     "output_type": "stream",
     "text": [
      "AABCAAADA\n",
      "3\n",
      "AB\n",
      "CA\n",
      "AD\n"
     ]
    }
   ],
   "source": [
    "# Question 10) Merge the Tools\n",
    "\n",
    "def merge_the_tools(string, k):\n",
    "    c=0\n",
    "    s=''\n",
    "    for i in string:\n",
    "        if i not in s:\n",
    "            s=s+i\n",
    "        c+=1\n",
    "        if c==k:\n",
    "            print(s)\n",
    "            c=0\n",
    "            s=''\n",
    "\n",
    "if __name__ == '__main__':\n",
    "    string, k = input(), int(input())\n",
    "    merge_the_tools(string, k)"
   ]
  },
  {
   "cell_type": "code",
   "execution_count": 90,
   "metadata": {},
   "outputs": [
    {
     "name": "stdout",
     "output_type": "stream",
     "text": [
      "5\n",
      "--------e--------\n",
      "------e-d-e------\n",
      "----e-d-c-d-e----\n",
      "--e-d-c-b-c-d-e--\n",
      "e-d-c-b-a-b-c-d-e\n",
      "--e-d-c-b-c-d-e--\n",
      "----e-d-c-d-e----\n",
      "------e-d-e------\n",
      "--------e--------\n"
     ]
    }
   ],
   "source": [
    "# Question 11) Alphabet Rangoli\n",
    "\n",
    "def print_rangoli(size):\n",
    "    n=size\n",
    "    l1=list(map(chr,range(97,123)))\n",
    "    x=l1[n-1::-1]+l1[1:n]\n",
    "    m=len('-'.join(x))\n",
    "    for i in range(1,n):\n",
    "        print('-'.join(l1[n-1:n-i:-1]+l1[n-i:n]).center(m,'-'))\n",
    "    for i in range(n,0,-1):\n",
    "        print('-'.join(l1[n-1:n-i:-1]+l1[n-i:n]).center(m,'-')) \n",
    "\n",
    "if __name__ == '__main__':\n",
    "    n = int(input())\n",
    "    print_rangoli(n)"
   ]
  },
  {
   "cell_type": "code",
   "execution_count": null,
   "metadata": {},
   "outputs": [],
   "source": []
  }
 ],
 "metadata": {
  "kernelspec": {
   "display_name": "Python 3",
   "language": "python",
   "name": "python3"
  },
  "language_info": {
   "codemirror_mode": {
    "name": "ipython",
    "version": 3
   },
   "file_extension": ".py",
   "mimetype": "text/x-python",
   "name": "python",
   "nbconvert_exporter": "python",
   "pygments_lexer": "ipython3",
   "version": "3.8.3"
  }
 },
 "nbformat": 4,
 "nbformat_minor": 4
}
