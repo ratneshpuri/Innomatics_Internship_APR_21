{
 "cells": [
  {
   "cell_type": "code",
   "execution_count": 1,
   "metadata": {},
   "outputs": [
    {
     "name": "stdout",
     "output_type": "stream",
     "text": [
      "1 \n",
      "2\n",
      "3\n",
      "4\n",
      "[[0, 0, 0], [0, 0, 1], [0, 0, 2], [0, 0, 3], [0, 1, 0], [0, 1, 1], [0, 1, 2], [0, 2, 0], [0, 2, 1], [0, 2, 3], [1, 0, 0], [1, 0, 1], [1, 0, 2], [1, 1, 0], [1, 1, 1], [1, 1, 3], [1, 2, 0], [1, 2, 2], [1, 2, 3]]\n"
     ]
    }
   ],
   "source": [
    "#Question 1) List Comprehension\n",
    "\n",
    "if __name__ == '__main__':\n",
    "    x = int(input())\n",
    "    y = int(input())\n",
    "    z = int(input())\n",
    "    n = int(input())\n",
    "    sol=[[i,j,k] for i in range(x+1) for j in range(y+1) for k in range(z+1) if i+j+k!=n]\n",
    "    print(sol)"
   ]
  },
  {
   "cell_type": "code",
   "execution_count": 108,
   "metadata": {},
   "outputs": [
    {
     "name": "stdout",
     "output_type": "stream",
     "text": [
      "4\n",
      "2 5 6 7 3\n",
      "6\n"
     ]
    }
   ],
   "source": [
    "#Question 2) Find the runner up score\n",
    "\n",
    "if __name__ == '__main__':\n",
    "    n = int(input())\n",
    "    arr = map(int, input().split())\n",
    "    lst=list(set(list(arr)))\n",
    "    lst.sort()\n",
    "    l=len(lst)\n",
    "    print(lst[l-2])      "
   ]
  },
  {
   "cell_type": "code",
   "execution_count": 114,
   "metadata": {},
   "outputs": [
    {
     "name": "stdout",
     "output_type": "stream",
     "text": [
      "4\n",
      "Ram\n",
      "78\n",
      "Ganesh\n",
      "65\n",
      "Venu\n",
      "56\n",
      "Gopal\n",
      "65\n",
      "Answer is Ganesh\n",
      "Answer is Gopal\n"
     ]
    }
   ],
   "source": [
    "#Question 3) Nested lists\n",
    "\n",
    "records=[]\n",
    "marks=[]\n",
    "if __name__ == '__main__':\n",
    "    for _ in range(int(input())):\n",
    "        name = input()\n",
    "        score = float(input())\n",
    "        records+=[[name,score]]\n",
    "        marks+=[score]\n",
    "    x=sorted(set(marks))[1]\n",
    "    for name,marks in sorted(records):\n",
    "        if(x==marks):\n",
    "            print(\"Answer is\",name)"
   ]
  },
  {
   "cell_type": "code",
   "execution_count": 18,
   "metadata": {},
   "outputs": [
    {
     "name": "stdout",
     "output_type": "stream",
     "text": [
      "2\n",
      "Harsh 25 26.5 28\n",
      "Anurag 26 28 30\n",
      "Harsh\n",
      "26.50\n"
     ]
    }
   ],
   "source": [
    "#Question 4) Find Percentage\n",
    "\n",
    "if __name__ == '__main__':\n",
    "    n = int(input())\n",
    "    student_marks = {}\n",
    "    for _ in range(n):\n",
    "        name, *line = input().split()\n",
    "        scores = list(map(float, line))\n",
    "        student_marks[name] = scores\n",
    "    query_name = input()\n",
    "    access=student_marks[query_name]\n",
    "    cal=sum(access)/len(student_marks[query_name])\n",
    "    print('%.2f'%cal)\n",
    "    \n"
   ]
  },
  {
   "cell_type": "code",
   "execution_count": 39,
   "metadata": {},
   "outputs": [
    {
     "name": "stdout",
     "output_type": "stream",
     "text": [
      "4\n",
      "insert 2 3\n",
      "append 3\n",
      "print\n",
      "[3, 3]\n",
      "pop 3\n"
     ]
    }
   ],
   "source": [
    "#Question 5) Lists\n",
    "\n",
    "if __name__ == '__main__':\n",
    "    N = int(input())\n",
    "    output=[]\n",
    "    for i in range(0,N):\n",
    "        query=input().split()\n",
    "        if(query[0]=='insert'):\n",
    "            output.insert(int(query[1]),int(query[2]))\n",
    "        elif(query[0]=='print'):\n",
    "            print(output)\n",
    "        elif(query[0]=='remove'):\n",
    "            output.remove(int(query[1]))\n",
    "        elif(query[0]=='append'):\n",
    "            output.append(int(query[1]))\n",
    "        elif(query[0]=='pop'):\n",
    "            output.pop()\n",
    "        elif(query[0]=='sort'):\n",
    "            output.sort()\n",
    "        else:\n",
    "            output.reverse()   "
   ]
  },
  {
   "cell_type": "code",
   "execution_count": 8,
   "metadata": {},
   "outputs": [
    {
     "name": "stdout",
     "output_type": "stream",
     "text": [
      "1\n",
      "1 2\n",
      "-3550055125485641917\n"
     ]
    }
   ],
   "source": [
    "#Question 6) Tuples\n",
    "\n",
    "if __name__ == '__main__':\n",
    "    n = int(input())\n",
    "    integer_list =tuple( map(int, input().split()))\n",
    "    print(hash(integer_list))  "
   ]
  },
  {
   "cell_type": "code",
   "execution_count": 12,
   "metadata": {},
   "outputs": [
    {
     "name": "stdout",
     "output_type": "stream",
     "text": [
      "10\n",
      "161 182 161 154 176 170 167 171 170 174\n",
      "169.375\n"
     ]
    }
   ],
   "source": [
    "#Question 7) Intriduction to Sets\n",
    "\n",
    "def average(array):\n",
    "    st=set(array)\n",
    "    return sum(st)/len(st)\n",
    "    \n",
    "if __name__ == '__main__':\n",
    "    n = int(input())\n",
    "    arr = list(map(int, input().split()))\n",
    "    result = average(arr)\n",
    "    print(result)"
   ]
  },
  {
   "cell_type": "code",
   "execution_count": 42,
   "metadata": {},
   "outputs": [
    {
     "name": "stdout",
     "output_type": "stream",
     "text": [
      "3 2\n",
      "1 5 3\n",
      "3 1\n",
      "5 7 \n",
      "1\n"
     ]
    }
   ],
   "source": [
    "# Question 8) No Idea!\n",
    "\n",
    "if __name__ == '__main__':\n",
    "    m,n=map(int, input().split())\n",
    "    n=list(map(int, input().split()))\n",
    "    set_a=set(map(int,input().split()))\n",
    "    set_b=set(map(int,input().split()))\n",
    "    happiness=0\n",
    "    for i in n:\n",
    "        if i in set_a:\n",
    "            happiness+=1\n",
    "        elif i in set_b:\n",
    "            happiness-=1\n",
    "    print(happiness)"
   ]
  },
  {
   "cell_type": "code",
   "execution_count": 23,
   "metadata": {},
   "outputs": [
    {
     "name": "stdout",
     "output_type": "stream",
     "text": [
      "4\n",
      "2 4 5 9\n",
      "4\n",
      "2 4 11 12\n",
      "5\n",
      "9\n",
      "11\n",
      "12\n"
     ]
    }
   ],
   "source": [
    "#Question 9) Symmetric Difference\n",
    "\n",
    "if __name__=='__main__':\n",
    "    m=int(input())\n",
    "    set_m=set(map(int,input().split()))\n",
    "    n=int(input())\n",
    "    set_n=set(map(int, input().split()))\n",
    "    c=set_m.union(set_n)-set_m.intersection(set_n)\n",
    "    sort_c=sorted(c)\n",
    "    for i in sort_c:\n",
    "        print(i)\n",
    "    "
   ]
  },
  {
   "cell_type": "code",
   "execution_count": 39,
   "metadata": {},
   "outputs": [
    {
     "name": "stdout",
     "output_type": "stream",
     "text": [
      "7\n",
      "USA\n",
      "UK\n",
      "Whuan\n",
      "France\n",
      "New Zeland\n",
      "UK\n",
      "France\n",
      "5\n"
     ]
    }
   ],
   "source": [
    "#Question 10) Set.add()\n",
    "\n",
    "if __name__=='__main__':\n",
    "    n=int(input())\n",
    "    set_n=set()\n",
    "    for i in range(n):\n",
    "        element=input()\n",
    "        set_n.add(element)\n",
    "    print(len(set_n))"
   ]
  },
  {
   "cell_type": "code",
   "execution_count": 69,
   "metadata": {},
   "outputs": [
    {
     "name": "stdout",
     "output_type": "stream",
     "text": [
      "5\n",
      "1 2 3 4 5\n",
      "2\n",
      "pop\n",
      "remove 3\n",
      "11\n"
     ]
    }
   ],
   "source": [
    "#Question 11) Set.discard(),.remove() and .pop()\n",
    "\n",
    "n = int(input())\n",
    "s = set(map(int, input().split()))\n",
    "m=int(input())\n",
    "for i in range(m):\n",
    "    query=input().split()\n",
    "    if(query[0]=='pop'):\n",
    "        s.pop()\n",
    "    elif(query[0]=='discard'):\n",
    "        s.discard(int(query[1]))\n",
    "    elif(query[0]=='remove'):\n",
    "        s.remove(int(query[1]))\n",
    "    \n",
    "if(len(s)==0):\n",
    "    print(0)\n",
    "else:\n",
    "    print(sum(s))"
   ]
  },
  {
   "cell_type": "code",
   "execution_count": 70,
   "metadata": {},
   "outputs": [
    {
     "name": "stdout",
     "output_type": "stream",
     "text": [
      "9\n",
      "1 2 3 4 5 6 7 8 9\n",
      "9\n",
      "10 1 2 3 11 21 55 6 8\n",
      "13\n"
     ]
    }
   ],
   "source": [
    "#Question 12) Set .union() Operation\n",
    "\n",
    "if __name__=='__main__':\n",
    "    n=int(input())\n",
    "    set_n=set(map(int, input().split()))\n",
    "    m=int(input())\n",
    "    set_m=set(map(int, input().split()))\n",
    "    find_union=set_n.union(set_m)\n",
    "    print(len(find_union))"
   ]
  },
  {
   "cell_type": "code",
   "execution_count": 72,
   "metadata": {},
   "outputs": [
    {
     "name": "stdout",
     "output_type": "stream",
     "text": [
      "9\n",
      "1 2 3 4 5 6 7 8 9\n",
      "9\n",
      "10 1 2 3 11 21 55 6 8\n",
      "5\n"
     ]
    }
   ],
   "source": [
    "#Question 13) Set .intersection() Operation\n",
    "\n",
    "if __name__=='__main__':\n",
    "    n=int(input())\n",
    "    set_n=set(map(int, input().split()))\n",
    "    m=int(input())\n",
    "    set_m=set(map(int, input().split()))\n",
    "    find_intersection=set_n.intersection(set_m)\n",
    "    print(len(find_intersection))"
   ]
  },
  {
   "cell_type": "code",
   "execution_count": 73,
   "metadata": {},
   "outputs": [
    {
     "name": "stdout",
     "output_type": "stream",
     "text": [
      "9\n",
      "1 2 3 4 5 6 7 8 9\n",
      "9\n",
      "10 1 2 3 11 21 55 6 8\n",
      "4\n"
     ]
    }
   ],
   "source": [
    "#Question 14) Set .difference() Operation\n",
    "\n",
    "if __name__=='__main__':\n",
    "    n=int(input())\n",
    "    set_n=set(map(int, input().split()))\n",
    "    m=int(input())\n",
    "    set_m=set(map(int, input().split()))\n",
    "    find_difference=set_n.difference(set_m)\n",
    "    print(len(find_difference))"
   ]
  },
  {
   "cell_type": "code",
   "execution_count": 74,
   "metadata": {},
   "outputs": [
    {
     "name": "stdout",
     "output_type": "stream",
     "text": [
      "9\n",
      "1 2 3 4 5 6 7 8 9\n",
      "9\n",
      "10 1 2 3 11 21 55 6 8\n",
      "8\n"
     ]
    }
   ],
   "source": [
    "#Question 15) Set symmetric_difference() Operation\n",
    "\n",
    "if __name__=='__main__':\n",
    "    n=int(input())\n",
    "    set_n=set(map(int, input().split()))\n",
    "    m=int(input())\n",
    "    set_m=set(map(int, input().split()))\n",
    "    find_symmetric_difference=set_n.symmetric_difference(set_m)\n",
    "    print(len(find_symmetric_difference))"
   ]
  },
  {
   "cell_type": "code",
   "execution_count": 78,
   "metadata": {
    "scrolled": true
   },
   "outputs": [
    {
     "name": "stdout",
     "output_type": "stream",
     "text": [
      "16\n",
      " 1 2 3 4 5 6 7 8 9 10 11 12 13 14 24 52\n",
      "4\n",
      "intersection_update 10\n",
      "2 3 5 6 8 9 1 4 7 11\n",
      "update 2\n",
      "55 66\n",
      "symmetric_difference_update 5\n",
      "22 7 35 62 58\n",
      "difference_update 7\n",
      "11 22 35 55 58 62 66\n",
      "38\n"
     ]
    }
   ],
   "source": [
    "#Question 16) Set Mutation\n",
    "\n",
    "n= int(input())\n",
    "set_n=set(input().split())\n",
    "for _ in range(int(input())):\n",
    "    option, set_B = input().split(), input().split()\n",
    "    if option[0] == 'intersection_update':\n",
    "        set_n.intersection_update(set_B)\n",
    "    elif option[0] == 'difference_update':\n",
    "        set_n.difference_update(set_B)\n",
    "    elif option[0] == 'symmetric_difference_update':\n",
    "        set_n.symmetric_difference_update(set_B)\n",
    "    elif option[0] == 'update':\n",
    "        set_n.update(set_B)\n",
    "print(sum(map(int, set_n)))"
   ]
  },
  {
   "cell_type": "code",
   "execution_count": 12,
   "metadata": {},
   "outputs": [
    {
     "name": "stdout",
     "output_type": "stream",
     "text": [
      "5\n",
      "1 2 3 6 5 4 4 2 5 3 6 1 6 5 3 2 4 1 2 5 1 4 3 6 8 4 3 1 5 6 2 \n",
      "8\n"
     ]
    }
   ],
   "source": [
    "#Question 17) The Captain's Room\n",
    "\n",
    "if __name__=='__main__':\n",
    "    k=int(input())\n",
    "    rooms=list(map(int,input().split()))\n",
    "    a=set()\n",
    "    b=set()\n",
    "    for room in rooms:\n",
    "        if room not in a:\n",
    "            a.add(room)\n",
    "            b.add(room)\n",
    "        else:\n",
    "            b.discard(room)\n",
    "    for i in b:\n",
    "        print(i)"
   ]
  },
  {
   "cell_type": "code",
   "execution_count": 16,
   "metadata": {},
   "outputs": [
    {
     "name": "stdout",
     "output_type": "stream",
     "text": [
      "3\n",
      "5\n",
      "1 2 3 5 6\n",
      "9\n",
      "9 8 5 6 3 2 1 4 7\n",
      "True\n",
      "1\n",
      "2\n",
      "5\n",
      "3 6 5 4 1\n",
      "False\n",
      "7\n",
      "1 2 3 5 6 8 9\n",
      "3\n",
      "9 8 2\n",
      "False\n"
     ]
    }
   ],
   "source": [
    "#Question 18) Check Subset\n",
    "\n",
    "if __name__=='__main__':\n",
    "    t=int(input())\n",
    "    for i in range(t):\n",
    "        a=int(input())\n",
    "        set_a=set(map(int, input().split()))\n",
    "        b=int(input())\n",
    "        set_b=set(map(int,input().split()))\n",
    "        print(set_a.issubset(set_b))"
   ]
  },
  {
   "cell_type": "code",
   "execution_count": 21,
   "metadata": {},
   "outputs": [
    {
     "name": "stdout",
     "output_type": "stream",
     "text": [
      "1 2 3 4 5 6 7 8 9 10 11 12 23 45 84 78\n",
      "2\n",
      "1 2 3 4 5\n",
      "100 11 12\n",
      "False\n"
     ]
    }
   ],
   "source": [
    "#Question 19) Check Strict Superset\n",
    "\n",
    "if __name__=='__main__':\n",
    "    set_a=set(map(int, input().split()))\n",
    "    n=int(input())\n",
    "    check=True\n",
    "    for i in range(n):\n",
    "        set_b=set(map(int, input().split()))\n",
    "        if(set_a &set_b !=set_b) or(set_a==set_b):\n",
    "            check=False\n",
    "            break\n",
    "    print(check)"
   ]
  },
  {
   "cell_type": "code",
   "execution_count": null,
   "metadata": {},
   "outputs": [],
   "source": []
  }
 ],
 "metadata": {
  "kernelspec": {
   "display_name": "Python 3",
   "language": "python",
   "name": "python3"
  },
  "language_info": {
   "codemirror_mode": {
    "name": "ipython",
    "version": 3
   },
   "file_extension": ".py",
   "mimetype": "text/x-python",
   "name": "python",
   "nbconvert_exporter": "python",
   "pygments_lexer": "ipython3",
   "version": "3.8.3"
  }
 },
 "nbformat": 4,
 "nbformat_minor": 4
}
