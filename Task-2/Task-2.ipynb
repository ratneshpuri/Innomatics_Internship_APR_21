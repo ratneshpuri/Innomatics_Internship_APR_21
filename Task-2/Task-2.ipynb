{
 "cells": [
  {
   "cell_type": "code",
   "execution_count": 1,
   "metadata": {},
   "outputs": [
    {
     "name": "stdout",
     "output_type": "stream",
     "text": [
      "1 \n",
      "2\n",
      "3\n",
      "4\n",
      "[[0, 0, 0], [0, 0, 1], [0, 0, 2], [0, 0, 3], [0, 1, 0], [0, 1, 1], [0, 1, 2], [0, 2, 0], [0, 2, 1], [0, 2, 3], [1, 0, 0], [1, 0, 1], [1, 0, 2], [1, 1, 0], [1, 1, 1], [1, 1, 3], [1, 2, 0], [1, 2, 2], [1, 2, 3]]\n"
     ]
    }
   ],
   "source": [
    "#Question 1) List Comprehension\n",
    "\n",
    "if __name__ == '__main__':\n",
    "    x = int(input())\n",
    "    y = int(input())\n",
    "    z = int(input())\n",
    "    n = int(input())\n",
    "    sol=[[i,j,k] for i in range(x+1) for j in range(y+1) for k in range(z+1) if i+j+k!=n]\n",
    "    print(sol)"
   ]
  },
  {
   "cell_type": "code",
   "execution_count": 108,
   "metadata": {},
   "outputs": [
    {
     "name": "stdout",
     "output_type": "stream",
     "text": [
      "4\n",
      "2 5 6 7 3\n",
      "6\n"
     ]
    }
   ],
   "source": [
    "#Question 2) Find the runner up score\n",
    "\n",
    "if __name__ == '__main__':\n",
    "    n = int(input())\n",
    "    arr = map(int, input().split())\n",
    "    lst=list(set(list(arr)))\n",
    "    lst.sort()\n",
    "    l=len(lst)\n",
    "    print(lst[l-2])      "
   ]
  },
  {
   "cell_type": "code",
   "execution_count": 114,
   "metadata": {},
   "outputs": [
    {
     "name": "stdout",
     "output_type": "stream",
     "text": [
      "4\n",
      "Ram\n",
      "78\n",
      "Ganesh\n",
      "65\n",
      "Venu\n",
      "56\n",
      "Gopal\n",
      "65\n",
      "Answer is Ganesh\n",
      "Answer is Gopal\n"
     ]
    }
   ],
   "source": [
    "#Question 3) Nested lists\n",
    "\n",
    "records=[]\n",
    "marks=[]\n",
    "if __name__ == '__main__':\n",
    "    for _ in range(int(input())):\n",
    "        name = input()\n",
    "        score = float(input())\n",
    "        records+=[[name,score]]\n",
    "        marks+=[score]\n",
    "    x=sorted(set(marks))[1]\n",
    "    for name,marks in sorted(records):\n",
    "        if(x==marks):\n",
    "            print(\"Answer is\",name)"
   ]
  },
  {
   "cell_type": "code",
   "execution_count": 18,
   "metadata": {},
   "outputs": [
    {
     "name": "stdout",
     "output_type": "stream",
     "text": [
      "2\n",
      "Harsh 25 26.5 28\n",
      "Anurag 26 28 30\n",
      "Harsh\n",
      "26.50\n"
     ]
    }
   ],
   "source": [
    "#Question 4) Find Percentage\n",
    "\n",
    "if __name__ == '__main__':\n",
    "    n = int(input())\n",
    "    student_marks = {}\n",
    "    for _ in range(n):\n",
    "        name, *line = input().split()\n",
    "        scores = list(map(float, line))\n",
    "        student_marks[name] = scores\n",
    "    query_name = input()\n",
    "    access=student_marks[query_name]\n",
    "    cal=sum(access)/len(student_marks[query_name])\n",
    "    print('%.2f'%cal)\n",
    "    \n"
   ]
  },
  {
   "cell_type": "code",
   "execution_count": 39,
   "metadata": {},
   "outputs": [
    {
     "name": "stdout",
     "output_type": "stream",
     "text": [
      "4\n",
      "insert 2 3\n",
      "append 3\n",
      "print\n",
      "[3, 3]\n",
      "pop 3\n"
     ]
    }
   ],
   "source": [
    "#Question 5) Lists\n",
    "\n",
    "if __name__ == '__main__':\n",
    "    N = int(input())\n",
    "    output=[]\n",
    "    for i in range(0,N):\n",
    "        query=input().split()\n",
    "        if(query[0]=='insert'):\n",
    "            output.insert(int(query[1]),int(query[2]))\n",
    "        elif(query[0]=='print'):\n",
    "            print(output)\n",
    "        elif(query[0]=='remove'):\n",
    "            output.remove(int(query[1]))\n",
    "        elif(query[0]=='append'):\n",
    "            output.append(int(query[1]))\n",
    "        elif(query[0]=='pop'):\n",
    "            output.pop()\n",
    "        elif(query[0]=='sort'):\n",
    "            output.sort()\n",
    "        else:\n",
    "            output.reverse()   "
   ]
  },
  {
   "cell_type": "code",
   "execution_count": 8,
   "metadata": {},
   "outputs": [
    {
     "name": "stdout",
     "output_type": "stream",
     "text": [
      "1\n",
      "1 2\n",
      "-3550055125485641917\n"
     ]
    }
   ],
   "source": [
    "#Question 6) Tuples\n",
    "\n",
    "if __name__ == '__main__':\n",
    "    n = int(input())\n",
    "    integer_list =tuple( map(int, input().split()))\n",
    "    print(hash(integer_list))  "
   ]
  },
  {
   "cell_type": "code",
   "execution_count": 12,
   "metadata": {},
   "outputs": [
    {
     "name": "stdout",
     "output_type": "stream",
     "text": [
      "10\n",
      "161 182 161 154 176 170 167 171 170 174\n",
      "169.375\n"
     ]
    }
   ],
   "source": [
    "#Question 7) Intriduction to Sets\n",
    "\n",
    "def average(array):\n",
    "    st=set(array)\n",
    "    return sum(st)/len(st)\n",
    "    \n",
    "if __name__ == '__main__':\n",
    "    n = int(input())\n",
    "    arr = list(map(int, input().split()))\n",
    "    result = average(arr)\n",
    "    print(result)"
   ]
  },
  {
   "cell_type": "code",
   "execution_count": null,
   "metadata": {},
   "outputs": [],
   "source": [
    "# Question 8) No Idea!\n",
    "\n"
   ]
  },
  {
   "cell_type": "code",
   "execution_count": 23,
   "metadata": {},
   "outputs": [
    {
     "name": "stdout",
     "output_type": "stream",
     "text": [
      "4\n",
      "2 4 5 9\n",
      "4\n",
      "2 4 11 12\n",
      "5\n",
      "9\n",
      "11\n",
      "12\n"
     ]
    }
   ],
   "source": [
    "#Question 9) Symmetric Difference\n",
    "\n",
    "if __name__=='__main__':\n",
    "    m=int(input())\n",
    "    set_m=set(map(int,input().split()))\n",
    "    n=int(input())\n",
    "    set_n=set(map(int, input().split()))\n",
    "    c=set_m.union(set_n)-set_m.intersection(set_n)\n",
    "    sort_c=sorted(c)\n",
    "    for i in sort_c:\n",
    "        print(i)\n",
    "    "
   ]
  },
  {
   "cell_type": "code",
   "execution_count": 39,
   "metadata": {},
   "outputs": [
    {
     "name": "stdout",
     "output_type": "stream",
     "text": [
      "7\n",
      "USA\n",
      "UK\n",
      "Whuan\n",
      "France\n",
      "New Zeland\n",
      "UK\n",
      "France\n",
      "5\n"
     ]
    }
   ],
   "source": [
    "#Question 10) Set.add()\n",
    "\n",
    "if __name__=='__main__':\n",
    "    n=int(input())\n",
    "    set_n=set()\n",
    "    for i in range(n):\n",
    "        element=input()\n",
    "        set_n.add(element)\n",
    "    print(len(set_n))"
   ]
  },
  {
   "cell_type": "code",
   "execution_count": 69,
   "metadata": {},
   "outputs": [
    {
     "name": "stdout",
     "output_type": "stream",
     "text": [
      "5\n",
      "1 2 3 4 5\n",
      "2\n",
      "pop\n",
      "remove 3\n",
      "11\n"
     ]
    }
   ],
   "source": [
    "#Question 11) Set.discard(),.remove() and .pop()\n",
    "\n",
    "n = int(input())\n",
    "s = set(map(int, input().split()))\n",
    "m=int(input())\n",
    "for i in range(m):\n",
    "    query=input().split()\n",
    "    if(query[0]=='pop'):\n",
    "        s.pop()\n",
    "    elif(query[0]=='discard'):\n",
    "        s.discard(int(query[1]))\n",
    "    elif(query[0]=='remove'):\n",
    "        s.remove(int(query[1]))\n",
    "    \n",
    "if(len(s)==0):\n",
    "    print(0)\n",
    "else:\n",
    "    print(sum(s))"
   ]
  },
  {
   "cell_type": "code",
   "execution_count": 70,
   "metadata": {},
   "outputs": [
    {
     "name": "stdout",
     "output_type": "stream",
     "text": [
      "9\n",
      "1 2 3 4 5 6 7 8 9\n",
      "9\n",
      "10 1 2 3 11 21 55 6 8\n",
      "13\n"
     ]
    }
   ],
   "source": [
    "#Question 12) Set .union() Operation\n",
    "\n",
    "if __name__=='__main__':\n",
    "    n=int(input())\n",
    "    set_n=set(map(int, input().split()))\n",
    "    m=int(input())\n",
    "    set_m=set(map(int, input().split()))\n",
    "    find_union=set_n.union(set_m)\n",
    "    print(len(find_union))"
   ]
  },
  {
   "cell_type": "code",
   "execution_count": 72,
   "metadata": {},
   "outputs": [
    {
     "name": "stdout",
     "output_type": "stream",
     "text": [
      "9\n",
      "1 2 3 4 5 6 7 8 9\n",
      "9\n",
      "10 1 2 3 11 21 55 6 8\n",
      "5\n"
     ]
    }
   ],
   "source": [
    "#Question 13) Set .intersection() Operation\n",
    "\n",
    "if __name__=='__main__':\n",
    "    n=int(input())\n",
    "    set_n=set(map(int, input().split()))\n",
    "    m=int(input())\n",
    "    set_m=set(map(int, input().split()))\n",
    "    find_intersection=set_n.intersection(set_m)\n",
    "    print(len(find_intersection))"
   ]
  },
  {
   "cell_type": "code",
   "execution_count": 73,
   "metadata": {},
   "outputs": [
    {
     "name": "stdout",
     "output_type": "stream",
     "text": [
      "9\n",
      "1 2 3 4 5 6 7 8 9\n",
      "9\n",
      "10 1 2 3 11 21 55 6 8\n",
      "4\n"
     ]
    }
   ],
   "source": [
    "#Question 14) Set .difference() Operation\n",
    "\n",
    "if __name__=='__main__':\n",
    "    n=int(input())\n",
    "    set_n=set(map(int, input().split()))\n",
    "    m=int(input())\n",
    "    set_m=set(map(int, input().split()))\n",
    "    find_difference=set_n.difference(set_m)\n",
    "    print(len(find_difference))"
   ]
  },
  {
   "cell_type": "code",
   "execution_count": 74,
   "metadata": {},
   "outputs": [
    {
     "name": "stdout",
     "output_type": "stream",
     "text": [
      "9\n",
      "1 2 3 4 5 6 7 8 9\n",
      "9\n",
      "10 1 2 3 11 21 55 6 8\n",
      "8\n"
     ]
    }
   ],
   "source": [
    "#Question 15) Set symmetric_difference() Operation\n",
    "\n",
    "if __name__=='__main__':\n",
    "    n=int(input())\n",
    "    set_n=set(map(int, input().split()))\n",
    "    m=int(input())\n",
    "    set_m=set(map(int, input().split()))\n",
    "    find_symmetric_difference=set_n.symmetric_difference(set_m)\n",
    "    print(len(find_symmetric_difference))"
   ]
  },
  {
   "cell_type": "code",
   "execution_count": 77,
   "metadata": {},
   "outputs": [],
   "source": [
    "#Question 16) Set Mutation\n",
    "\n"
   ]
  },
  {
   "cell_type": "code",
   "execution_count": null,
   "metadata": {},
   "outputs": [],
   "source": []
  },
  {
   "cell_type": "code",
   "execution_count": null,
   "metadata": {},
   "outputs": [],
   "source": []
  },
  {
   "cell_type": "code",
   "execution_count": null,
   "metadata": {},
   "outputs": [],
   "source": []
  },
  {
   "cell_type": "code",
   "execution_count": null,
   "metadata": {},
   "outputs": [],
   "source": []
  },
  {
   "cell_type": "code",
   "execution_count": null,
   "metadata": {},
   "outputs": [],
   "source": []
  }
 ],
 "metadata": {
  "kernelspec": {
   "display_name": "Python 3",
   "language": "python",
   "name": "python3"
  },
  "language_info": {
   "codemirror_mode": {
    "name": "ipython",
    "version": 3
   },
   "file_extension": ".py",
   "mimetype": "text/x-python",
   "name": "python",
   "nbconvert_exporter": "python",
   "pygments_lexer": "ipython3",
   "version": "3.8.3"
  }
 },
 "nbformat": 4,
 "nbformat_minor": 4
}
