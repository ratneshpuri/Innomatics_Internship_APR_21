{
 "cells": [
  {
   "cell_type": "code",
   "execution_count": 11,
   "metadata": {},
   "outputs": [
    {
     "name": "stdout",
     "output_type": "stream",
     "text": [
      "1 2 3 4 -8 -10\n",
      "[-10.  -8.   4.   3.   2.   1.]\n"
     ]
    }
   ],
   "source": [
    "#Question 1) Arrays\n",
    "\n",
    "import numpy\n",
    "\n",
    "def arrays(arr):\n",
    "    arr_1=numpy.array(arr,float)\n",
    "    return arr_1[-1::-1]\n",
    "\n",
    "arr = input().strip().split(' ')\n",
    "result = arrays(arr)\n",
    "print(result)"
   ]
  },
  {
   "cell_type": "code",
   "execution_count": 28,
   "metadata": {},
   "outputs": [
    {
     "name": "stdout",
     "output_type": "stream",
     "text": [
      "1 2 3 4 5 6 7 8 9\n",
      "[[1 2 3]\n",
      " [4 5 6]\n",
      " [7 8 9]]\n"
     ]
    }
   ],
   "source": [
    "#Question 2) Shape and Reshape\n",
    "\n",
    "import numpy\n",
    "arr=input().split()\n",
    "arr_1=numpy.array(arr,int)\n",
    "arr_2=numpy.reshape(arr_1,(3,3))\n",
    "print(arr_2)"
   ]
  },
  {
   "cell_type": "code",
   "execution_count": 13,
   "metadata": {},
   "outputs": [
    {
     "name": "stdout",
     "output_type": "stream",
     "text": [
      "2 3\n",
      "4 5 6\n",
      "2 3 4\n",
      "[[4 2]\n",
      " [5 3]\n",
      " [6 4]]\n",
      "[4 5 6 2 3 4]\n"
     ]
    }
   ],
   "source": [
    "#Question 3) Transpose and Flatten\n",
    "\n",
    "import numpy\n",
    "n,m=map(int,input().split())\n",
    "arr=numpy.array([input().strip().split() for _ in range(n)],int)\n",
    "print(numpy.transpose(arr))\n",
    "print(arr.flatten())"
   ]
  },
  {
   "cell_type": "code",
   "execution_count": 17,
   "metadata": {},
   "outputs": [
    {
     "name": "stdout",
     "output_type": "stream",
     "text": [
      "4 3 2\n",
      "1 4\n",
      "1 4\n",
      "1 4\n",
      "1 4\n",
      "3 4\n",
      "3 4\n",
      "3 4\n",
      "[[1 4]\n",
      " [1 4]\n",
      " [1 4]\n",
      " [1 4]\n",
      " [3 4]\n",
      " [3 4]\n",
      " [3 4]]\n"
     ]
    }
   ],
   "source": [
    "#Question 4) Concatenate\n",
    "\n",
    "import numpy\n",
    "n,m,p=map(int,input().split())\n",
    "arr_1=numpy.array([input().strip().split() for _ in range(n)],int)\n",
    "arr_2=numpy.array([input().strip().split() for _ in range(m)],int)\n",
    "concatenate=numpy.concatenate((arr_1,arr_2),axis=0)\n",
    "print(concatenate)"
   ]
  },
  {
   "cell_type": "code",
   "execution_count": 7,
   "metadata": {},
   "outputs": [
    {
     "name": "stdout",
     "output_type": "stream",
     "text": [
      "3 3 3\n",
      "[[[0 0 0]\n",
      "  [0 0 0]\n",
      "  [0 0 0]]\n",
      "\n",
      " [[0 0 0]\n",
      "  [0 0 0]\n",
      "  [0 0 0]]\n",
      "\n",
      " [[0 0 0]\n",
      "  [0 0 0]\n",
      "  [0 0 0]]]\n",
      "[[[1 1 1]\n",
      "  [1 1 1]\n",
      "  [1 1 1]]\n",
      "\n",
      " [[1 1 1]\n",
      "  [1 1 1]\n",
      "  [1 1 1]]\n",
      "\n",
      " [[1 1 1]\n",
      "  [1 1 1]\n",
      "  [1 1 1]]]\n"
     ]
    }
   ],
   "source": [
    "#Question 5) Zeros and Onnes\n",
    "\n",
    "import numpy\n",
    "dimensions=tuple(map(int,input().strip().split()))\n",
    "x=numpy.zeros(dimensions,int)\n",
    "z=numpy.ones(dimensions,int)\n",
    "print(x)\n",
    "print(z)"
   ]
  },
  {
   "cell_type": "code",
   "execution_count": 9,
   "metadata": {},
   "outputs": [
    {
     "name": "stdout",
     "output_type": "stream",
     "text": [
      "3 3\n",
      "[[ 1.  0.  0.]\n",
      " [ 0.  1.  0.]\n",
      " [ 0.  0.  1.]]\n"
     ]
    }
   ],
   "source": [
    "#Question 6) Eye and Identity\n",
    "\n",
    "import numpy\n",
    "numpy.set_printoptions(legacy='1.13')\n",
    "n,m=map(int,input().strip().split())\n",
    "print(numpy.eye(n,m,0))"
   ]
  },
  {
   "cell_type": "code",
   "execution_count": 15,
   "metadata": {},
   "outputs": [
    {
     "name": "stdout",
     "output_type": "stream",
     "text": [
      "1 4\n",
      "1 2 3 4\n",
      "5 6 7 8\n",
      "[[ 6  8 10 12]]\n",
      "[[-4 -4 -4 -4]]\n",
      "[[ 5 12 21 32]]\n",
      "[[0 0 0 0]]\n",
      "[[1 2 3 4]]\n",
      "[[    1    64  2187 65536]]\n"
     ]
    }
   ],
   "source": [
    "#Question 7) Array Mathematics\n",
    "\n",
    "import numpy\n",
    "n,m=map(int,input().strip().split())\n",
    "a=numpy.array([input().strip().split() for i in range(n)],int)\n",
    "b=numpy.array([input().strip().split() for j in range(n)],int)\n",
    "print(numpy.add(a,b))\n",
    "print(numpy.subtract(a,b))\n",
    "print(numpy.multiply(a,b))\n",
    "print(numpy.floor_divide(a,b))\n",
    "print(numpy.mod(a,b))\n",
    "print(numpy.power(a,b))"
   ]
  },
  {
   "cell_type": "code",
   "execution_count": 27,
   "metadata": {},
   "outputs": [
    {
     "name": "stdout",
     "output_type": "stream",
     "text": [
      "1.1 2.2 3.3 4.4 5.5 6.6 7.7 8.8 9.9\n",
      "[ 1.  2.  3.  4.  5.  6.  7.  8.  9.]\n",
      "[  2.   3.   4.   5.   6.   7.   8.   9.  10.]\n",
      "[  1.   2.   3.   4.   6.   7.   8.   9.  10.]\n"
     ]
    }
   ],
   "source": [
    "#Question 8) Floor,Ceil and Rint\n",
    "\n",
    "import numpy\n",
    "numpy.set_printoptions(legacy=\"1.13\")\n",
    "elements=input().strip().split(\" \")\n",
    "array=numpy.array(elements,float)\n",
    "print(numpy.floor(array))\n",
    "print(numpy.ceil(array))\n",
    "print(numpy.rint(array))"
   ]
  },
  {
   "cell_type": "code",
   "execution_count": 32,
   "metadata": {},
   "outputs": [
    {
     "name": "stdout",
     "output_type": "stream",
     "text": [
      "2 2\n",
      "1 2\n",
      "3 4\n",
      "24\n"
     ]
    }
   ],
   "source": [
    "#Question 9) Sum and Prod\n",
    "\n",
    "import numpy\n",
    "n,m=map(int,input().strip().split())\n",
    "a=numpy.array([input().strip().split() for i in range(n)],int)\n",
    "sum_of_a=numpy.sum(a,axis=0)\n",
    "product=numpy.prod(sum_of_a)\n",
    "print(product)"
   ]
  },
  {
   "cell_type": "code",
   "execution_count": 36,
   "metadata": {},
   "outputs": [
    {
     "name": "stdout",
     "output_type": "stream",
     "text": [
      "4 2\n",
      "2 5\n",
      "3 7\n",
      "1 3\n",
      "4 0\n",
      "3\n"
     ]
    }
   ],
   "source": [
    "#Question 10) Min and Max\n",
    "\n",
    "import numpy\n",
    "n,m=map(int,input().strip().split())\n",
    "array=numpy.array([input().strip().split() for i in range(n)],int)\n",
    "minimum=numpy.min(array,axis=1)\n",
    "maximum=numpy.max(minimum)\n",
    "print(maximum)"
   ]
  },
  {
   "cell_type": "code",
   "execution_count": 38,
   "metadata": {},
   "outputs": [
    {
     "name": "stdout",
     "output_type": "stream",
     "text": [
      "2 2\n",
      "1 2\n",
      "3 4\n",
      "[ 1.5  3.5]\n",
      "[ 1.  1.]\n",
      "1.11803398875\n"
     ]
    }
   ],
   "source": [
    "#Question 11) Mean,Var and Std\n",
    "\n",
    "import numpy\n",
    "n,m=map(int,input().strip().split())\n",
    "array=numpy.array([input().strip().split() for i in range(n)],int)\n",
    "compute_mean=numpy.mean(array,axis=1)\n",
    "compute_var=numpy.var(array,axis=0)\n",
    "compute_std=round(numpy.std(array),11)\n",
    "print(compute_mean)\n",
    "print(compute_var)\n",
    "print(compute_std)"
   ]
  },
  {
   "cell_type": "code",
   "execution_count": 41,
   "metadata": {},
   "outputs": [
    {
     "name": "stdout",
     "output_type": "stream",
     "text": [
      "2\n",
      "1 2\n",
      "3 4\n",
      "1 2\n",
      "3 4\n",
      "[[ 7 10]\n",
      " [15 22]]\n"
     ]
    }
   ],
   "source": [
    "#Question 12) Dot and Cross\n",
    "\n",
    "import numpy\n",
    "n=int(input())\n",
    "a=numpy.array([input().strip().split() for i in range(n)],int)\n",
    "b=numpy.array([input().strip().split() for i in range(n)],int)\n",
    "print(numpy.dot(a,b))"
   ]
  },
  {
   "cell_type": "code",
   "execution_count": 45,
   "metadata": {},
   "outputs": [
    {
     "name": "stdout",
     "output_type": "stream",
     "text": [
      "0 1\n",
      "2 3\n",
      "3\n",
      "[[0 0]\n",
      " [2 3]]\n"
     ]
    }
   ],
   "source": [
    "#Question 13) Inner and Outer\n",
    "\n",
    "import numpy\n",
    "a=input().strip().split()\n",
    "b=input().strip().split()\n",
    "array_a=numpy.array(a,int)\n",
    "array_b=numpy.array(b,int)\n",
    "print(numpy.inner(array_a,array_b))\n",
    "print(numpy.outer(array_a,array_b))"
   ]
  },
  {
   "cell_type": "code",
   "execution_count": 58,
   "metadata": {},
   "outputs": [
    {
     "name": "stdout",
     "output_type": "stream",
     "text": [
      "1.1 2 3\n",
      "0\n",
      "3.0\n"
     ]
    }
   ],
   "source": [
    "#Question 14) Polynomials\n",
    "\n",
    "import numpy\n",
    "p=input().strip().split()\n",
    "p_array=numpy.array(p,float)\n",
    "x=float(input())\n",
    "print(numpy.polyval(p_array,x))"
   ]
  },
  {
   "cell_type": "code",
   "execution_count": 56,
   "metadata": {},
   "outputs": [
    {
     "name": "stdout",
     "output_type": "stream",
     "text": [
      "2\n",
      "1.1 1.1\n",
      "1.1 1.1\n",
      "0.0\n"
     ]
    }
   ],
   "source": [
    "# Question 15) Linear Algebra\n",
    "\n",
    "import numpy\n",
    "n=int(input())\n",
    "arr=numpy.array([input().strip().split() for i in range(n)],float)\n",
    "determinant=round(numpy.linalg.det(arr),2)\n",
    "print(determinant)"
   ]
  }
 ],
 "metadata": {
  "kernelspec": {
   "display_name": "Python 3",
   "language": "python",
   "name": "python3"
  },
  "language_info": {
   "codemirror_mode": {
    "name": "ipython",
    "version": 3
   },
   "file_extension": ".py",
   "mimetype": "text/x-python",
   "name": "python",
   "nbconvert_exporter": "python",
   "pygments_lexer": "ipython3",
   "version": "3.8.3"
  }
 },
 "nbformat": 4,
 "nbformat_minor": 4
}
