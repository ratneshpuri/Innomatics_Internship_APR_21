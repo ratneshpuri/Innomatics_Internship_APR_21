{
  "nbformat": 4,
  "nbformat_minor": 0,
  "metadata": {
    "accelerator": "TPU",
    "colab": {
      "name": "Recommendation system project",
      "provenance": [],
      "collapsed_sections": []
    },
    "kernelspec": {
      "display_name": "Python 3",
      "name": "python3"
    },
    "language_info": {
      "name": "python"
    }
  },
  "cells": [
    {
      "cell_type": "code",
      "metadata": {
        "id": "yZyg4AT8jkDb"
      },
      "source": [
        "#created the link for all the dataset, no need to mount drive, directly run the cell to upload datasets"
      ],
      "execution_count": null,
      "outputs": []
    },
    {
      "cell_type": "code",
      "metadata": {
        "id": "woQJaXOcDkdi"
      },
      "source": [
        "songs_url ='https://raw.githubusercontent.com/ashoksihag/mrsdataset/main/kaggle_songs.txt?token=AQ2SHN3GKPQGQXCY4MVSIITAYZVJ6'\n",
        "users_url = 'https://raw.githubusercontent.com/ashoksihag/mrsdataset/main/kaggle_users.txt?token=AQ2SHN6IUSKLVJSQXHG2CN3AYZVLQ'\n",
        "vet_url = 'https://raw.githubusercontent.com/ashoksihag/mrsdataset/main/kaggle_visible_evaluation_triplets.txt?token=AQ2SHN5Y4CFDXJV2DHCRCA3AYZVMW'\n",
        "tps_url = 'https://raw.githubusercontent.com/ashoksihag/mrsdataset/main/taste_profile_song_to_tracks.txt?token=AQ2SHN5DW3J6EPR7Z7YQ4RLAYZVS2'\n",
        "ut_url = 'https://raw.githubusercontent.com/ashoksihag/mrsdataset/main/unique_tracks.txt?token=AQ2SHN2PF3PVYWEH34F7WY3AYZVYS'"
      ],
      "execution_count": null,
      "outputs": []
    },
    {
      "cell_type": "code",
      "metadata": {
        "id": "qCx1-4b7LsfK"
      },
      "source": [
        "import warnings\n",
        "warnings.filterwarnings('ignore')"
      ],
      "execution_count": null,
      "outputs": []
    },
    {
      "cell_type": "code",
      "metadata": {
        "id": "2c7PSqrzXbs9"
      },
      "source": [
        "import numpy as np\n",
        "import pandas as pd\n",
        "import seaborn as sns\n",
        "import matplotlib.pyplot as plt\n",
        "%matplotlib inline\n",
        "import time\n",
        "from datetime import datetime\n",
        " \n",
        "from scipy import sparse\n",
        "from scipy.sparse import csr_matrix\n",
        "#in case matrices contain mostly zero values its Compressed Sparse Row matrix i.e csr_matrix()\n",
        " \n",
        "from sklearn.decomposition import TruncatedSVD\n",
        "#for convenience, projecting to a lower dimensional space, basically a dimensionality reduction(PCA) using Singular Value Decompostion(SVD)\n",
        "from sklearn.metrics.pairwise import cosine_similarity\n",
        "#for finding the cosine of the angle between two vectors projected in a multi-dimensional space"
      ],
      "execution_count": null,
      "outputs": []
    },
    {
      "cell_type": "code",
      "metadata": {
        "id": "gV4aI0H88s7O"
      },
      "source": [
        "songs = pd.read_table(songs_url, sep= ' ', names = ['songs', 'count'])"
      ],
      "execution_count": null,
      "outputs": []
    },
    {
      "cell_type": "code",
      "metadata": {
        "colab": {
          "base_uri": "https://localhost:8080/"
        },
        "id": "43A1epBLPlHk",
        "outputId": "51d91cd5-5797-4e17-b38c-ed356f9a0b98"
      },
      "source": [
        "songs.shape"
      ],
      "execution_count": null,
      "outputs": [
        {
          "output_type": "execute_result",
          "data": {
            "text/plain": [
              "(386213, 2)"
            ]
          },
          "metadata": {
            "tags": []
          },
          "execution_count": 22
        }
      ]
    },
    {
      "cell_type": "code",
      "metadata": {
        "colab": {
          "base_uri": "https://localhost:8080/",
          "height": 112
        },
        "id": "nXWyaLyv8zDU",
        "outputId": "edf1eb65-d2fa-4550-b0c0-82f266541798"
      },
      "source": [
        "songs.head(2)"
      ],
      "execution_count": null,
      "outputs": [
        {
          "output_type": "execute_result",
          "data": {
            "text/html": [
              "<div>\n",
              "<style scoped>\n",
              "    .dataframe tbody tr th:only-of-type {\n",
              "        vertical-align: middle;\n",
              "    }\n",
              "\n",
              "    .dataframe tbody tr th {\n",
              "        vertical-align: top;\n",
              "    }\n",
              "\n",
              "    .dataframe thead th {\n",
              "        text-align: right;\n",
              "    }\n",
              "</style>\n",
              "<table border=\"1\" class=\"dataframe\">\n",
              "  <thead>\n",
              "    <tr style=\"text-align: right;\">\n",
              "      <th></th>\n",
              "      <th>songs</th>\n",
              "      <th>count</th>\n",
              "    </tr>\n",
              "  </thead>\n",
              "  <tbody>\n",
              "    <tr>\n",
              "      <th>0</th>\n",
              "      <td>SOAAADD12AB018A9DD</td>\n",
              "      <td>1</td>\n",
              "    </tr>\n",
              "    <tr>\n",
              "      <th>1</th>\n",
              "      <td>SOAAADE12A6D4F80CC</td>\n",
              "      <td>2</td>\n",
              "    </tr>\n",
              "  </tbody>\n",
              "</table>\n",
              "</div>"
            ],
            "text/plain": [
              "                songs  count\n",
              "0  SOAAADD12AB018A9DD      1\n",
              "1  SOAAADE12A6D4F80CC      2"
            ]
          },
          "metadata": {
            "tags": []
          },
          "execution_count": 23
        }
      ]
    },
    {
      "cell_type": "code",
      "metadata": {
        "colab": {
          "base_uri": "https://localhost:8080/",
          "height": 112
        },
        "id": "SPvjryRLPdpX",
        "outputId": "9c735f2d-5c1d-47c7-f4d4-8faaa4f9c5e7"
      },
      "source": [
        "songs.tail(2)"
      ],
      "execution_count": null,
      "outputs": [
        {
          "output_type": "execute_result",
          "data": {
            "text/html": [
              "<div>\n",
              "<style scoped>\n",
              "    .dataframe tbody tr th:only-of-type {\n",
              "        vertical-align: middle;\n",
              "    }\n",
              "\n",
              "    .dataframe tbody tr th {\n",
              "        vertical-align: top;\n",
              "    }\n",
              "\n",
              "    .dataframe thead th {\n",
              "        text-align: right;\n",
              "    }\n",
              "</style>\n",
              "<table border=\"1\" class=\"dataframe\">\n",
              "  <thead>\n",
              "    <tr style=\"text-align: right;\">\n",
              "      <th></th>\n",
              "      <th>songs</th>\n",
              "      <th>count</th>\n",
              "    </tr>\n",
              "  </thead>\n",
              "  <tbody>\n",
              "    <tr>\n",
              "      <th>386211</th>\n",
              "      <td>SOZZZWD12A6D4F6624</td>\n",
              "      <td>386212</td>\n",
              "    </tr>\n",
              "    <tr>\n",
              "      <th>386212</th>\n",
              "      <td>SOZZZWN12AF72A1E29</td>\n",
              "      <td>386213</td>\n",
              "    </tr>\n",
              "  </tbody>\n",
              "</table>\n",
              "</div>"
            ],
            "text/plain": [
              "                     songs   count\n",
              "386211  SOZZZWD12A6D4F6624  386212\n",
              "386212  SOZZZWN12AF72A1E29  386213"
            ]
          },
          "metadata": {
            "tags": []
          },
          "execution_count": 24
        }
      ]
    },
    {
      "cell_type": "markdown",
      "metadata": {
        "id": "JLJIAQrpbPOF"
      },
      "source": [
        "**Total number of songs are 386213**"
      ]
    },
    {
      "cell_type": "code",
      "metadata": {
        "id": "zVVOt3MOMGyd"
      },
      "source": [
        "users = pd.read_table(users_url, names=['users'])"
      ],
      "execution_count": null,
      "outputs": []
    },
    {
      "cell_type": "code",
      "metadata": {
        "colab": {
          "base_uri": "https://localhost:8080/",
          "height": 143
        },
        "id": "2UEuFTRliU0B",
        "outputId": "7e62ae0e-5833-4f99-b6e2-22455906e174"
      },
      "source": [
        "users.head(3)"
      ],
      "execution_count": null,
      "outputs": [
        {
          "output_type": "execute_result",
          "data": {
            "text/html": [
              "<div>\n",
              "<style scoped>\n",
              "    .dataframe tbody tr th:only-of-type {\n",
              "        vertical-align: middle;\n",
              "    }\n",
              "\n",
              "    .dataframe tbody tr th {\n",
              "        vertical-align: top;\n",
              "    }\n",
              "\n",
              "    .dataframe thead th {\n",
              "        text-align: right;\n",
              "    }\n",
              "</style>\n",
              "<table border=\"1\" class=\"dataframe\">\n",
              "  <thead>\n",
              "    <tr style=\"text-align: right;\">\n",
              "      <th></th>\n",
              "      <th>users</th>\n",
              "    </tr>\n",
              "  </thead>\n",
              "  <tbody>\n",
              "    <tr>\n",
              "      <th>0</th>\n",
              "      <td>fd50c4007b68a3737fe052d5a4f78ce8aa117f3d</td>\n",
              "    </tr>\n",
              "    <tr>\n",
              "      <th>1</th>\n",
              "      <td>d7083f5e1d50c264277d624340edaaf3dc16095b</td>\n",
              "    </tr>\n",
              "    <tr>\n",
              "      <th>2</th>\n",
              "      <td>d68dc6fc25248234590d7668a11e3335534ae4b4</td>\n",
              "    </tr>\n",
              "  </tbody>\n",
              "</table>\n",
              "</div>"
            ],
            "text/plain": [
              "                                      users\n",
              "0  fd50c4007b68a3737fe052d5a4f78ce8aa117f3d\n",
              "1  d7083f5e1d50c264277d624340edaaf3dc16095b\n",
              "2  d68dc6fc25248234590d7668a11e3335534ae4b4"
            ]
          },
          "metadata": {
            "tags": []
          },
          "execution_count": 26
        }
      ]
    },
    {
      "cell_type": "code",
      "metadata": {
        "colab": {
          "base_uri": "https://localhost:8080/"
        },
        "id": "6rsvId2yMTiu",
        "outputId": "5d102152-9d5c-44b0-ffcd-62847f3cf940"
      },
      "source": [
        "users.shape"
      ],
      "execution_count": null,
      "outputs": [
        {
          "output_type": "execute_result",
          "data": {
            "text/plain": [
              "(110000, 1)"
            ]
          },
          "metadata": {
            "tags": []
          },
          "execution_count": 27
        }
      ]
    },
    {
      "cell_type": "markdown",
      "metadata": {
        "id": "Bbk-7ISRa_aO"
      },
      "source": [
        " **Total number of user's are 110000**"
      ]
    },
    {
      "cell_type": "code",
      "metadata": {
        "colab": {
          "base_uri": "https://localhost:8080/",
          "height": 206
        },
        "id": "Cc2AY6f_MdBm",
        "outputId": "6081f033-3630-4baa-f57b-1ddfcd10f2d9"
      },
      "source": [
        "kvet = pd.read_csv(vet_url,sep='\\t',  names=['user_id','song_id','freq'])\n",
        "kvet.head()"
      ],
      "execution_count": null,
      "outputs": [
        {
          "output_type": "execute_result",
          "data": {
            "text/html": [
              "<div>\n",
              "<style scoped>\n",
              "    .dataframe tbody tr th:only-of-type {\n",
              "        vertical-align: middle;\n",
              "    }\n",
              "\n",
              "    .dataframe tbody tr th {\n",
              "        vertical-align: top;\n",
              "    }\n",
              "\n",
              "    .dataframe thead th {\n",
              "        text-align: right;\n",
              "    }\n",
              "</style>\n",
              "<table border=\"1\" class=\"dataframe\">\n",
              "  <thead>\n",
              "    <tr style=\"text-align: right;\">\n",
              "      <th></th>\n",
              "      <th>user_id</th>\n",
              "      <th>song_id</th>\n",
              "      <th>freq</th>\n",
              "    </tr>\n",
              "  </thead>\n",
              "  <tbody>\n",
              "    <tr>\n",
              "      <th>0</th>\n",
              "      <td>fd50c4007b68a3737fe052d5a4f78ce8aa117f3d</td>\n",
              "      <td>SOBONKR12A58A7A7E0</td>\n",
              "      <td>1</td>\n",
              "    </tr>\n",
              "    <tr>\n",
              "      <th>1</th>\n",
              "      <td>fd50c4007b68a3737fe052d5a4f78ce8aa117f3d</td>\n",
              "      <td>SOEGIYH12A6D4FC0E3</td>\n",
              "      <td>1</td>\n",
              "    </tr>\n",
              "    <tr>\n",
              "      <th>2</th>\n",
              "      <td>fd50c4007b68a3737fe052d5a4f78ce8aa117f3d</td>\n",
              "      <td>SOFLJQZ12A6D4FADA6</td>\n",
              "      <td>1</td>\n",
              "    </tr>\n",
              "    <tr>\n",
              "      <th>3</th>\n",
              "      <td>fd50c4007b68a3737fe052d5a4f78ce8aa117f3d</td>\n",
              "      <td>SOHTKMO12AB01843B0</td>\n",
              "      <td>1</td>\n",
              "    </tr>\n",
              "    <tr>\n",
              "      <th>4</th>\n",
              "      <td>fd50c4007b68a3737fe052d5a4f78ce8aa117f3d</td>\n",
              "      <td>SODQZCY12A6D4F9D11</td>\n",
              "      <td>1</td>\n",
              "    </tr>\n",
              "  </tbody>\n",
              "</table>\n",
              "</div>"
            ],
            "text/plain": [
              "                                    user_id             song_id  freq\n",
              "0  fd50c4007b68a3737fe052d5a4f78ce8aa117f3d  SOBONKR12A58A7A7E0     1\n",
              "1  fd50c4007b68a3737fe052d5a4f78ce8aa117f3d  SOEGIYH12A6D4FC0E3     1\n",
              "2  fd50c4007b68a3737fe052d5a4f78ce8aa117f3d  SOFLJQZ12A6D4FADA6     1\n",
              "3  fd50c4007b68a3737fe052d5a4f78ce8aa117f3d  SOHTKMO12AB01843B0     1\n",
              "4  fd50c4007b68a3737fe052d5a4f78ce8aa117f3d  SODQZCY12A6D4F9D11     1"
            ]
          },
          "metadata": {
            "tags": []
          },
          "execution_count": 28
        }
      ]
    },
    {
      "cell_type": "code",
      "metadata": {
        "colab": {
          "base_uri": "https://localhost:8080/"
        },
        "id": "yMZd7iCnBS1k",
        "outputId": "e43cc6e7-9049-41b4-b3b1-506c05f1908d"
      },
      "source": [
        "kvet.shape"
      ],
      "execution_count": null,
      "outputs": [
        {
          "output_type": "execute_result",
          "data": {
            "text/plain": [
              "(1450933, 3)"
            ]
          },
          "metadata": {
            "tags": []
          },
          "execution_count": 29
        }
      ]
    },
    {
      "cell_type": "code",
      "metadata": {
        "colab": {
          "base_uri": "https://localhost:8080/",
          "height": 143
        },
        "id": "qyl0f0_XBOvD",
        "outputId": "d4ae1472-2dd6-49f3-cfe1-c80ef5103248"
      },
      "source": [
        "kvet.tail(3)"
      ],
      "execution_count": null,
      "outputs": [
        {
          "output_type": "execute_result",
          "data": {
            "text/html": [
              "<div>\n",
              "<style scoped>\n",
              "    .dataframe tbody tr th:only-of-type {\n",
              "        vertical-align: middle;\n",
              "    }\n",
              "\n",
              "    .dataframe tbody tr th {\n",
              "        vertical-align: top;\n",
              "    }\n",
              "\n",
              "    .dataframe thead th {\n",
              "        text-align: right;\n",
              "    }\n",
              "</style>\n",
              "<table border=\"1\" class=\"dataframe\">\n",
              "  <thead>\n",
              "    <tr style=\"text-align: right;\">\n",
              "      <th></th>\n",
              "      <th>user_id</th>\n",
              "      <th>song_id</th>\n",
              "      <th>freq</th>\n",
              "    </tr>\n",
              "  </thead>\n",
              "  <tbody>\n",
              "    <tr>\n",
              "      <th>1450930</th>\n",
              "      <td>5e650759ebf89012044c6d52121eeada8b0ec814</td>\n",
              "      <td>SOBRHVR12A8C133F35</td>\n",
              "      <td>2</td>\n",
              "    </tr>\n",
              "    <tr>\n",
              "      <th>1450931</th>\n",
              "      <td>5e650759ebf89012044c6d52121eeada8b0ec814</td>\n",
              "      <td>SOMGVYU12A8C1314FF</td>\n",
              "      <td>2</td>\n",
              "    </tr>\n",
              "    <tr>\n",
              "      <th>1450932</th>\n",
              "      <td>5e650759ebf89012044c6d52121eeada8b0ec814</td>\n",
              "      <td>SOTCMDJ12A6D4F8528</td>\n",
              "      <td>3</td>\n",
              "    </tr>\n",
              "  </tbody>\n",
              "</table>\n",
              "</div>"
            ],
            "text/plain": [
              "                                          user_id             song_id  freq\n",
              "1450930  5e650759ebf89012044c6d52121eeada8b0ec814  SOBRHVR12A8C133F35     2\n",
              "1450931  5e650759ebf89012044c6d52121eeada8b0ec814  SOMGVYU12A8C1314FF     2\n",
              "1450932  5e650759ebf89012044c6d52121eeada8b0ec814  SOTCMDJ12A6D4F8528     3"
            ]
          },
          "metadata": {
            "tags": []
          },
          "execution_count": 30
        }
      ]
    },
    {
      "cell_type": "code",
      "metadata": {
        "colab": {
          "base_uri": "https://localhost:8080/",
          "height": 206
        },
        "id": "9-bDBYh7JG8g",
        "outputId": "7f71f7a9-5d4f-4083-b44c-0f2f833b0ef4"
      },
      "source": [
        "ut = pd.read_csv(ut_url,sep='<SEP>',names=['track_id','song_id','artist_name','release'])\n",
        "ut.head()"
      ],
      "execution_count": null,
      "outputs": [
        {
          "output_type": "execute_result",
          "data": {
            "text/html": [
              "<div>\n",
              "<style scoped>\n",
              "    .dataframe tbody tr th:only-of-type {\n",
              "        vertical-align: middle;\n",
              "    }\n",
              "\n",
              "    .dataframe tbody tr th {\n",
              "        vertical-align: top;\n",
              "    }\n",
              "\n",
              "    .dataframe thead th {\n",
              "        text-align: right;\n",
              "    }\n",
              "</style>\n",
              "<table border=\"1\" class=\"dataframe\">\n",
              "  <thead>\n",
              "    <tr style=\"text-align: right;\">\n",
              "      <th></th>\n",
              "      <th>track_id</th>\n",
              "      <th>song_id</th>\n",
              "      <th>artist_name</th>\n",
              "      <th>release</th>\n",
              "    </tr>\n",
              "  </thead>\n",
              "  <tbody>\n",
              "    <tr>\n",
              "      <th>0</th>\n",
              "      <td>TRMMMYQ128F932D901</td>\n",
              "      <td>SOQMMHC12AB0180CB8</td>\n",
              "      <td>Faster Pussy cat</td>\n",
              "      <td>Silent Night</td>\n",
              "    </tr>\n",
              "    <tr>\n",
              "      <th>1</th>\n",
              "      <td>TRMMMKD128F425225D</td>\n",
              "      <td>SOVFVAK12A8C1350D9</td>\n",
              "      <td>Karkkiautomaatti</td>\n",
              "      <td>Tanssi vaan</td>\n",
              "    </tr>\n",
              "    <tr>\n",
              "      <th>2</th>\n",
              "      <td>TRMMMRX128F93187D9</td>\n",
              "      <td>SOGTUKN12AB017F4F1</td>\n",
              "      <td>Hudson Mohawke</td>\n",
              "      <td>No One Could Ever</td>\n",
              "    </tr>\n",
              "    <tr>\n",
              "      <th>3</th>\n",
              "      <td>TRMMMCH128F425532C</td>\n",
              "      <td>SOBNYVR12A8C13558C</td>\n",
              "      <td>Yerba Brava</td>\n",
              "      <td>Si Vos Querés</td>\n",
              "    </tr>\n",
              "    <tr>\n",
              "      <th>4</th>\n",
              "      <td>TRMMMWA128F426B589</td>\n",
              "      <td>SOHSBXH12A8C13B0DF</td>\n",
              "      <td>Der Mystic</td>\n",
              "      <td>Tangle Of Aspens</td>\n",
              "    </tr>\n",
              "  </tbody>\n",
              "</table>\n",
              "</div>"
            ],
            "text/plain": [
              "             track_id             song_id       artist_name            release\n",
              "0  TRMMMYQ128F932D901  SOQMMHC12AB0180CB8  Faster Pussy cat       Silent Night\n",
              "1  TRMMMKD128F425225D  SOVFVAK12A8C1350D9  Karkkiautomaatti        Tanssi vaan\n",
              "2  TRMMMRX128F93187D9  SOGTUKN12AB017F4F1    Hudson Mohawke  No One Could Ever\n",
              "3  TRMMMCH128F425532C  SOBNYVR12A8C13558C       Yerba Brava      Si Vos Querés\n",
              "4  TRMMMWA128F426B589  SOHSBXH12A8C13B0DF        Der Mystic   Tangle Of Aspens"
            ]
          },
          "metadata": {
            "tags": []
          },
          "execution_count": 31
        }
      ]
    },
    {
      "cell_type": "code",
      "metadata": {
        "colab": {
          "base_uri": "https://localhost:8080/",
          "height": 206
        },
        "id": "HqlJJ4xJBisv",
        "outputId": "7e7b41db-8c02-4b56-f544-1b63222f4bac"
      },
      "source": [
        "ut.tail()"
      ],
      "execution_count": null,
      "outputs": [
        {
          "output_type": "execute_result",
          "data": {
            "text/html": [
              "<div>\n",
              "<style scoped>\n",
              "    .dataframe tbody tr th:only-of-type {\n",
              "        vertical-align: middle;\n",
              "    }\n",
              "\n",
              "    .dataframe tbody tr th {\n",
              "        vertical-align: top;\n",
              "    }\n",
              "\n",
              "    .dataframe thead th {\n",
              "        text-align: right;\n",
              "    }\n",
              "</style>\n",
              "<table border=\"1\" class=\"dataframe\">\n",
              "  <thead>\n",
              "    <tr style=\"text-align: right;\">\n",
              "      <th></th>\n",
              "      <th>track_id</th>\n",
              "      <th>song_id</th>\n",
              "      <th>artist_name</th>\n",
              "      <th>release</th>\n",
              "    </tr>\n",
              "  </thead>\n",
              "  <tbody>\n",
              "    <tr>\n",
              "      <th>999995</th>\n",
              "      <td>TRYYYUS12903CD2DF0</td>\n",
              "      <td>SOTXAME12AB018F136</td>\n",
              "      <td>Kiko Navarro</td>\n",
              "      <td>O Samba Da Vida</td>\n",
              "    </tr>\n",
              "    <tr>\n",
              "      <th>999996</th>\n",
              "      <td>TRYYYJO128F426DA37</td>\n",
              "      <td>SOXQYIQ12A8C137FBB</td>\n",
              "      <td>Kuldeep Manak</td>\n",
              "      <td>Jago Chhadeo</td>\n",
              "    </tr>\n",
              "    <tr>\n",
              "      <th>999997</th>\n",
              "      <td>TRYYYMG128F4260ECA</td>\n",
              "      <td>SOHODZI12A8C137BB3</td>\n",
              "      <td>Gabriel Le Mar</td>\n",
              "      <td>Novemba</td>\n",
              "    </tr>\n",
              "    <tr>\n",
              "      <th>999998</th>\n",
              "      <td>TRYYYDJ128F9310A21</td>\n",
              "      <td>SOLXGOR12A81C21EB7</td>\n",
              "      <td>Elude</td>\n",
              "      <td>Faraday</td>\n",
              "    </tr>\n",
              "    <tr>\n",
              "      <th>999999</th>\n",
              "      <td>TRYYYVU12903CD01E3</td>\n",
              "      <td>SOWXJXQ12AB0189F43</td>\n",
              "      <td>Texta</td>\n",
              "      <td>Fernweh feat. Sektion Kuchikäschtli</td>\n",
              "    </tr>\n",
              "  </tbody>\n",
              "</table>\n",
              "</div>"
            ],
            "text/plain": [
              "                  track_id  ...                              release\n",
              "999995  TRYYYUS12903CD2DF0  ...                      O Samba Da Vida\n",
              "999996  TRYYYJO128F426DA37  ...                         Jago Chhadeo\n",
              "999997  TRYYYMG128F4260ECA  ...                              Novemba\n",
              "999998  TRYYYDJ128F9310A21  ...                              Faraday\n",
              "999999  TRYYYVU12903CD01E3  ...  Fernweh feat. Sektion Kuchikäschtli\n",
              "\n",
              "[5 rows x 4 columns]"
            ]
          },
          "metadata": {
            "tags": []
          },
          "execution_count": 32
        }
      ]
    },
    {
      "cell_type": "code",
      "metadata": {
        "id": "7meY4upk-qX6"
      },
      "source": [
        "#del ut['track_id']"
      ],
      "execution_count": null,
      "outputs": []
    },
    {
      "cell_type": "markdown",
      "metadata": {
        "id": "tLK9EiEuAdzd"
      },
      "source": [
        "Since the track_id column is of least importance, it can be deleted"
      ]
    },
    {
      "cell_type": "code",
      "metadata": {
        "colab": {
          "base_uri": "https://localhost:8080/"
        },
        "id": "Kudd5McUBWmq",
        "outputId": "d8b38996-c032-469a-8475-17c07ae3e7fa"
      },
      "source": [
        "ut.shape"
      ],
      "execution_count": null,
      "outputs": [
        {
          "output_type": "execute_result",
          "data": {
            "text/plain": [
              "(1000000, 4)"
            ]
          },
          "metadata": {
            "tags": []
          },
          "execution_count": 34
        }
      ]
    },
    {
      "cell_type": "code",
      "metadata": {
        "colab": {
          "base_uri": "https://localhost:8080/",
          "height": 206
        },
        "id": "45uTO2-JJ5SK",
        "outputId": "1caa8e73-7302-413b-a708-6289fc679522"
      },
      "source": [
        "tps = pd.read_table(tps_url, sep='\\t', names=['song_id', 'track_id'])\n",
        "tps.head()"
      ],
      "execution_count": null,
      "outputs": [
        {
          "output_type": "execute_result",
          "data": {
            "text/html": [
              "<div>\n",
              "<style scoped>\n",
              "    .dataframe tbody tr th:only-of-type {\n",
              "        vertical-align: middle;\n",
              "    }\n",
              "\n",
              "    .dataframe tbody tr th {\n",
              "        vertical-align: top;\n",
              "    }\n",
              "\n",
              "    .dataframe thead th {\n",
              "        text-align: right;\n",
              "    }\n",
              "</style>\n",
              "<table border=\"1\" class=\"dataframe\">\n",
              "  <thead>\n",
              "    <tr style=\"text-align: right;\">\n",
              "      <th></th>\n",
              "      <th>song_id</th>\n",
              "      <th>track_id</th>\n",
              "    </tr>\n",
              "  </thead>\n",
              "  <tbody>\n",
              "    <tr>\n",
              "      <th>0</th>\n",
              "      <td>SOAAADD12AB018A9DD</td>\n",
              "      <td>TRNCENP12903C9EF3A</td>\n",
              "    </tr>\n",
              "    <tr>\n",
              "      <th>1</th>\n",
              "      <td>SOAAADE12A6D4F80CC</td>\n",
              "      <td>TRSKKFK128F148B615</td>\n",
              "    </tr>\n",
              "    <tr>\n",
              "      <th>2</th>\n",
              "      <td>SOAAADF12A8C13DF62</td>\n",
              "      <td>TRCQMSP128F428A6F7</td>\n",
              "    </tr>\n",
              "    <tr>\n",
              "      <th>3</th>\n",
              "      <td>SOAAADZ12A8C1334FB</td>\n",
              "      <td>TRMDNZY128F425A532</td>\n",
              "    </tr>\n",
              "    <tr>\n",
              "      <th>4</th>\n",
              "      <td>SOAAAFI12A6D4F9C66</td>\n",
              "      <td>TRZEXLQ128F1491D17</td>\n",
              "    </tr>\n",
              "  </tbody>\n",
              "</table>\n",
              "</div>"
            ],
            "text/plain": [
              "              song_id            track_id\n",
              "0  SOAAADD12AB018A9DD  TRNCENP12903C9EF3A\n",
              "1  SOAAADE12A6D4F80CC  TRSKKFK128F148B615\n",
              "2  SOAAADF12A8C13DF62  TRCQMSP128F428A6F7\n",
              "3  SOAAADZ12A8C1334FB  TRMDNZY128F425A532\n",
              "4  SOAAAFI12A6D4F9C66  TRZEXLQ128F1491D17"
            ]
          },
          "metadata": {
            "tags": []
          },
          "execution_count": 35
        }
      ]
    },
    {
      "cell_type": "code",
      "metadata": {
        "colab": {
          "base_uri": "https://localhost:8080/"
        },
        "id": "NzEQXQwhJ-Ao",
        "outputId": "24616d8f-4cec-4cf0-9439-90d138789343"
      },
      "source": [
        "tps.shape"
      ],
      "execution_count": null,
      "outputs": [
        {
          "output_type": "execute_result",
          "data": {
            "text/plain": [
              "(386213, 2)"
            ]
          },
          "metadata": {
            "tags": []
          },
          "execution_count": 36
        }
      ]
    },
    {
      "cell_type": "markdown",
      "metadata": {
        "id": "scsLcdU-xX3y"
      },
      "source": [
        "#Missing Values : Check & Treat"
      ]
    },
    {
      "cell_type": "code",
      "metadata": {
        "colab": {
          "base_uri": "https://localhost:8080/"
        },
        "id": "xXkVaZoEoEN5",
        "outputId": "e479e009-d73e-47f8-81b2-1cadbb8a3fab"
      },
      "source": [
        "print(len(ut[ut['release'].isnull()].index.tolist()))\n",
        "x = ut[ut['release'].isnull()].index.tolist()\n",
        "print(x)"
      ],
      "execution_count": null,
      "outputs": [
        {
          "output_type": "stream",
          "text": [
            "15\n",
            "[64262, 114672, 229353, 264639, 458083, 557125, 578241, 652287, 697789, 697813, 725270, 795481, 853170, 857992, 925868]\n"
          ],
          "name": "stdout"
        }
      ]
    },
    {
      "cell_type": "code",
      "metadata": {
        "colab": {
          "base_uri": "https://localhost:8080/",
          "height": 520
        },
        "id": "SNMcdjwkoE2W",
        "outputId": "b8e1cc4f-822e-4d59-a9e1-7f8315fd30cc"
      },
      "source": [
        "ut[ut['release'].isna()]"
      ],
      "execution_count": null,
      "outputs": [
        {
          "output_type": "execute_result",
          "data": {
            "text/html": [
              "<div>\n",
              "<style scoped>\n",
              "    .dataframe tbody tr th:only-of-type {\n",
              "        vertical-align: middle;\n",
              "    }\n",
              "\n",
              "    .dataframe tbody tr th {\n",
              "        vertical-align: top;\n",
              "    }\n",
              "\n",
              "    .dataframe thead th {\n",
              "        text-align: right;\n",
              "    }\n",
              "</style>\n",
              "<table border=\"1\" class=\"dataframe\">\n",
              "  <thead>\n",
              "    <tr style=\"text-align: right;\">\n",
              "      <th></th>\n",
              "      <th>track_id</th>\n",
              "      <th>song_id</th>\n",
              "      <th>artist_name</th>\n",
              "      <th>release</th>\n",
              "    </tr>\n",
              "  </thead>\n",
              "  <tbody>\n",
              "    <tr>\n",
              "      <th>64262</th>\n",
              "      <td>TRWEQAA128EF36407B</td>\n",
              "      <td>SOVICLT12A58A7C4D0</td>\n",
              "      <td>Milton</td>\n",
              "      <td>NaN</td>\n",
              "    </tr>\n",
              "    <tr>\n",
              "      <th>114672</th>\n",
              "      <td>TRGYSOE12903CDCA99</td>\n",
              "      <td>SOAGRAA12AB018D567</td>\n",
              "      <td>Sébastien Roch</td>\n",
              "      <td>NaN</td>\n",
              "    </tr>\n",
              "    <tr>\n",
              "      <th>229353</th>\n",
              "      <td>TRRYWZX12903CDCAD0</td>\n",
              "      <td>SOOAFJX12AB018A028</td>\n",
              "      <td>Sébastien Roch</td>\n",
              "      <td>NaN</td>\n",
              "    </tr>\n",
              "    <tr>\n",
              "      <th>264639</th>\n",
              "      <td>TRBXMXG12903CDCA7F</td>\n",
              "      <td>SOLDTFD12AB018AFE6</td>\n",
              "      <td>Sébastien Roch</td>\n",
              "      <td>NaN</td>\n",
              "    </tr>\n",
              "    <tr>\n",
              "      <th>458083</th>\n",
              "      <td>TRAXBZR12903CDCA82</td>\n",
              "      <td>SOAUTVB12AB018AFF0</td>\n",
              "      <td>Sébastien Roch</td>\n",
              "      <td>NaN</td>\n",
              "    </tr>\n",
              "    <tr>\n",
              "      <th>557125</th>\n",
              "      <td>TRTNWIY12903CDCA7C</td>\n",
              "      <td>SOMPGYE12AB018AFE0</td>\n",
              "      <td>Sébastien Roch</td>\n",
              "      <td>NaN</td>\n",
              "    </tr>\n",
              "    <tr>\n",
              "      <th>578241</th>\n",
              "      <td>TRUMISC12903CDCAB3</td>\n",
              "      <td>SOVHAZH12AB018D5B3</td>\n",
              "      <td>Sébastien Roch</td>\n",
              "      <td>NaN</td>\n",
              "    </tr>\n",
              "    <tr>\n",
              "      <th>652287</th>\n",
              "      <td>TRLKLLK12903CDCAA2</td>\n",
              "      <td>SOECGBQ12AB018D582</td>\n",
              "      <td>Sébastien Roch</td>\n",
              "      <td>NaN</td>\n",
              "    </tr>\n",
              "    <tr>\n",
              "      <th>697789</th>\n",
              "      <td>TRJHIKS12903CDCAAD</td>\n",
              "      <td>SOTJWHR12AB018D5A0</td>\n",
              "      <td>Sébastien Roch</td>\n",
              "      <td>NaN</td>\n",
              "    </tr>\n",
              "    <tr>\n",
              "      <th>697813</th>\n",
              "      <td>TRJHIYF12903CB7FCF</td>\n",
              "      <td>SOBDDHR12AB01888A6</td>\n",
              "      <td>Remute</td>\n",
              "      <td>NaN</td>\n",
              "    </tr>\n",
              "    <tr>\n",
              "      <th>725270</th>\n",
              "      <td>TRJOMUD12903CED473</td>\n",
              "      <td>SOFDILP12AC960A4EF</td>\n",
              "      <td>Fobia</td>\n",
              "      <td>NaN</td>\n",
              "    </tr>\n",
              "    <tr>\n",
              "      <th>795481</th>\n",
              "      <td>TRVEUCB12903CDCAB8</td>\n",
              "      <td>SOSFNKO12AB018D5BB</td>\n",
              "      <td>Sébastien Roch</td>\n",
              "      <td>NaN</td>\n",
              "    </tr>\n",
              "    <tr>\n",
              "      <th>853170</th>\n",
              "      <td>TROCNBR12903CDCA78</td>\n",
              "      <td>SOASSAS12AB018AFCF</td>\n",
              "      <td>Sébastien Roch</td>\n",
              "      <td>NaN</td>\n",
              "    </tr>\n",
              "    <tr>\n",
              "      <th>857992</th>\n",
              "      <td>TROFVVS12903CDCA87</td>\n",
              "      <td>SOZDBDL12AB018AFFF</td>\n",
              "      <td>Sébastien Roch</td>\n",
              "      <td>NaN</td>\n",
              "    </tr>\n",
              "    <tr>\n",
              "      <th>925868</th>\n",
              "      <td>TRKWDUM12903CDCA92</td>\n",
              "      <td>SOQUGMS12AB018B01D</td>\n",
              "      <td>Sébastien Roch</td>\n",
              "      <td>NaN</td>\n",
              "    </tr>\n",
              "  </tbody>\n",
              "</table>\n",
              "</div>"
            ],
            "text/plain": [
              "                  track_id             song_id     artist_name release\n",
              "64262   TRWEQAA128EF36407B  SOVICLT12A58A7C4D0          Milton     NaN\n",
              "114672  TRGYSOE12903CDCA99  SOAGRAA12AB018D567  Sébastien Roch     NaN\n",
              "229353  TRRYWZX12903CDCAD0  SOOAFJX12AB018A028  Sébastien Roch     NaN\n",
              "264639  TRBXMXG12903CDCA7F  SOLDTFD12AB018AFE6  Sébastien Roch     NaN\n",
              "458083  TRAXBZR12903CDCA82  SOAUTVB12AB018AFF0  Sébastien Roch     NaN\n",
              "557125  TRTNWIY12903CDCA7C  SOMPGYE12AB018AFE0  Sébastien Roch     NaN\n",
              "578241  TRUMISC12903CDCAB3  SOVHAZH12AB018D5B3  Sébastien Roch     NaN\n",
              "652287  TRLKLLK12903CDCAA2  SOECGBQ12AB018D582  Sébastien Roch     NaN\n",
              "697789  TRJHIKS12903CDCAAD  SOTJWHR12AB018D5A0  Sébastien Roch     NaN\n",
              "697813  TRJHIYF12903CB7FCF  SOBDDHR12AB01888A6          Remute     NaN\n",
              "725270  TRJOMUD12903CED473  SOFDILP12AC960A4EF           Fobia     NaN\n",
              "795481  TRVEUCB12903CDCAB8  SOSFNKO12AB018D5BB  Sébastien Roch     NaN\n",
              "853170  TROCNBR12903CDCA78  SOASSAS12AB018AFCF  Sébastien Roch     NaN\n",
              "857992  TROFVVS12903CDCA87  SOZDBDL12AB018AFFF  Sébastien Roch     NaN\n",
              "925868  TRKWDUM12903CDCA92  SOQUGMS12AB018B01D  Sébastien Roch     NaN"
            ]
          },
          "metadata": {
            "tags": []
          },
          "execution_count": 38
        }
      ]
    },
    {
      "cell_type": "code",
      "metadata": {
        "colab": {
          "base_uri": "https://localhost:8080/",
          "height": 426
        },
        "id": "fmPkFUXYoE6M",
        "outputId": "5c4afe34-9b17-4582-e37d-f066428e27fb"
      },
      "source": [
        "ut.loc[ut['artist_name'] == 'Sébastien Roch']"
      ],
      "execution_count": null,
      "outputs": [
        {
          "output_type": "execute_result",
          "data": {
            "text/html": [
              "<div>\n",
              "<style scoped>\n",
              "    .dataframe tbody tr th:only-of-type {\n",
              "        vertical-align: middle;\n",
              "    }\n",
              "\n",
              "    .dataframe tbody tr th {\n",
              "        vertical-align: top;\n",
              "    }\n",
              "\n",
              "    .dataframe thead th {\n",
              "        text-align: right;\n",
              "    }\n",
              "</style>\n",
              "<table border=\"1\" class=\"dataframe\">\n",
              "  <thead>\n",
              "    <tr style=\"text-align: right;\">\n",
              "      <th></th>\n",
              "      <th>track_id</th>\n",
              "      <th>song_id</th>\n",
              "      <th>artist_name</th>\n",
              "      <th>release</th>\n",
              "    </tr>\n",
              "  </thead>\n",
              "  <tbody>\n",
              "    <tr>\n",
              "      <th>114672</th>\n",
              "      <td>TRGYSOE12903CDCA99</td>\n",
              "      <td>SOAGRAA12AB018D567</td>\n",
              "      <td>Sébastien Roch</td>\n",
              "      <td>NaN</td>\n",
              "    </tr>\n",
              "    <tr>\n",
              "      <th>229353</th>\n",
              "      <td>TRRYWZX12903CDCAD0</td>\n",
              "      <td>SOOAFJX12AB018A028</td>\n",
              "      <td>Sébastien Roch</td>\n",
              "      <td>NaN</td>\n",
              "    </tr>\n",
              "    <tr>\n",
              "      <th>264639</th>\n",
              "      <td>TRBXMXG12903CDCA7F</td>\n",
              "      <td>SOLDTFD12AB018AFE6</td>\n",
              "      <td>Sébastien Roch</td>\n",
              "      <td>NaN</td>\n",
              "    </tr>\n",
              "    <tr>\n",
              "      <th>458083</th>\n",
              "      <td>TRAXBZR12903CDCA82</td>\n",
              "      <td>SOAUTVB12AB018AFF0</td>\n",
              "      <td>Sébastien Roch</td>\n",
              "      <td>NaN</td>\n",
              "    </tr>\n",
              "    <tr>\n",
              "      <th>557125</th>\n",
              "      <td>TRTNWIY12903CDCA7C</td>\n",
              "      <td>SOMPGYE12AB018AFE0</td>\n",
              "      <td>Sébastien Roch</td>\n",
              "      <td>NaN</td>\n",
              "    </tr>\n",
              "    <tr>\n",
              "      <th>578241</th>\n",
              "      <td>TRUMISC12903CDCAB3</td>\n",
              "      <td>SOVHAZH12AB018D5B3</td>\n",
              "      <td>Sébastien Roch</td>\n",
              "      <td>NaN</td>\n",
              "    </tr>\n",
              "    <tr>\n",
              "      <th>652287</th>\n",
              "      <td>TRLKLLK12903CDCAA2</td>\n",
              "      <td>SOECGBQ12AB018D582</td>\n",
              "      <td>Sébastien Roch</td>\n",
              "      <td>NaN</td>\n",
              "    </tr>\n",
              "    <tr>\n",
              "      <th>697789</th>\n",
              "      <td>TRJHIKS12903CDCAAD</td>\n",
              "      <td>SOTJWHR12AB018D5A0</td>\n",
              "      <td>Sébastien Roch</td>\n",
              "      <td>NaN</td>\n",
              "    </tr>\n",
              "    <tr>\n",
              "      <th>795481</th>\n",
              "      <td>TRVEUCB12903CDCAB8</td>\n",
              "      <td>SOSFNKO12AB018D5BB</td>\n",
              "      <td>Sébastien Roch</td>\n",
              "      <td>NaN</td>\n",
              "    </tr>\n",
              "    <tr>\n",
              "      <th>853170</th>\n",
              "      <td>TROCNBR12903CDCA78</td>\n",
              "      <td>SOASSAS12AB018AFCF</td>\n",
              "      <td>Sébastien Roch</td>\n",
              "      <td>NaN</td>\n",
              "    </tr>\n",
              "    <tr>\n",
              "      <th>857992</th>\n",
              "      <td>TROFVVS12903CDCA87</td>\n",
              "      <td>SOZDBDL12AB018AFFF</td>\n",
              "      <td>Sébastien Roch</td>\n",
              "      <td>NaN</td>\n",
              "    </tr>\n",
              "    <tr>\n",
              "      <th>925868</th>\n",
              "      <td>TRKWDUM12903CDCA92</td>\n",
              "      <td>SOQUGMS12AB018B01D</td>\n",
              "      <td>Sébastien Roch</td>\n",
              "      <td>NaN</td>\n",
              "    </tr>\n",
              "  </tbody>\n",
              "</table>\n",
              "</div>"
            ],
            "text/plain": [
              "                  track_id             song_id     artist_name release\n",
              "114672  TRGYSOE12903CDCA99  SOAGRAA12AB018D567  Sébastien Roch     NaN\n",
              "229353  TRRYWZX12903CDCAD0  SOOAFJX12AB018A028  Sébastien Roch     NaN\n",
              "264639  TRBXMXG12903CDCA7F  SOLDTFD12AB018AFE6  Sébastien Roch     NaN\n",
              "458083  TRAXBZR12903CDCA82  SOAUTVB12AB018AFF0  Sébastien Roch     NaN\n",
              "557125  TRTNWIY12903CDCA7C  SOMPGYE12AB018AFE0  Sébastien Roch     NaN\n",
              "578241  TRUMISC12903CDCAB3  SOVHAZH12AB018D5B3  Sébastien Roch     NaN\n",
              "652287  TRLKLLK12903CDCAA2  SOECGBQ12AB018D582  Sébastien Roch     NaN\n",
              "697789  TRJHIKS12903CDCAAD  SOTJWHR12AB018D5A0  Sébastien Roch     NaN\n",
              "795481  TRVEUCB12903CDCAB8  SOSFNKO12AB018D5BB  Sébastien Roch     NaN\n",
              "853170  TROCNBR12903CDCA78  SOASSAS12AB018AFCF  Sébastien Roch     NaN\n",
              "857992  TROFVVS12903CDCA87  SOZDBDL12AB018AFFF  Sébastien Roch     NaN\n",
              "925868  TRKWDUM12903CDCA92  SOQUGMS12AB018B01D  Sébastien Roch     NaN"
            ]
          },
          "metadata": {
            "tags": []
          },
          "execution_count": 39
        }
      ]
    },
    {
      "cell_type": "code",
      "metadata": {
        "colab": {
          "base_uri": "https://localhost:8080/"
        },
        "id": "GhbtoXPVoE-n",
        "outputId": "3692745b-9329-4e41-b2f1-8877e55ca827"
      },
      "source": [
        "ut['release'] = ut['release'].fillna((ut['release'].mode()[0]))\n",
        "ut.iloc[857992,:]"
      ],
      "execution_count": null,
      "outputs": [
        {
          "output_type": "execute_result",
          "data": {
            "text/plain": [
              "track_id       TROFVVS12903CDCA87\n",
              "song_id        SOZDBDL12AB018AFFF\n",
              "artist_name        Sébastien Roch\n",
              "release                     Intro\n",
              "Name: 857992, dtype: object"
            ]
          },
          "metadata": {
            "tags": []
          },
          "execution_count": 40
        }
      ]
    },
    {
      "cell_type": "code",
      "metadata": {
        "colab": {
          "base_uri": "https://localhost:8080/"
        },
        "id": "voM7SFhkoFC9",
        "outputId": "405e0995-8f85-49a2-dc06-daead44d0fdf"
      },
      "source": [
        "print(len(ut[ut['release'].isnull()].index.tolist()))"
      ],
      "execution_count": null,
      "outputs": [
        {
          "output_type": "stream",
          "text": [
            "0\n"
          ],
          "name": "stdout"
        }
      ]
    },
    {
      "cell_type": "markdown",
      "metadata": {
        "id": "-F_Tj2KYve0U"
      },
      "source": [
        "Successfully replaced all the NaN values in the release column with the mode of the same column, i.e 'Intro'"
      ]
    },
    {
      "cell_type": "markdown",
      "metadata": {
        "id": "_2P3vglFKkXa"
      },
      "source": [
        "#Checking Duplicates Values"
      ]
    },
    {
      "cell_type": "code",
      "metadata": {
        "colab": {
          "base_uri": "https://localhost:8080/"
        },
        "id": "r14GagKd4FhH",
        "outputId": "6b23ae81-bf03-4066-ce63-2dc648f6c552"
      },
      "source": [
        "duplicated = kvet.duplicated()\n",
        "sum(duplicated)"
      ],
      "execution_count": null,
      "outputs": [
        {
          "output_type": "execute_result",
          "data": {
            "text/plain": [
              "0"
            ]
          },
          "metadata": {
            "tags": []
          },
          "execution_count": 42
        }
      ]
    },
    {
      "cell_type": "code",
      "metadata": {
        "colab": {
          "base_uri": "https://localhost:8080/"
        },
        "id": "Nz7lMhfbK36O",
        "outputId": "6ae795c9-9642-4113-b5bd-515002d5aa96"
      },
      "source": [
        "duplicated = ut.duplicated()\n",
        "sum(duplicated)"
      ],
      "execution_count": null,
      "outputs": [
        {
          "output_type": "execute_result",
          "data": {
            "text/plain": [
              "0"
            ]
          },
          "metadata": {
            "tags": []
          },
          "execution_count": 43
        }
      ]
    },
    {
      "cell_type": "code",
      "metadata": {
        "colab": {
          "base_uri": "https://localhost:8080/"
        },
        "id": "tOPPeDAw4P_1",
        "outputId": "c8f319bb-d14d-41c4-a694-7c1ae3c74375"
      },
      "source": [
        "print(sum(kvet.isnull().any()),sum(ut.isnull().any()))"
      ],
      "execution_count": null,
      "outputs": [
        {
          "output_type": "stream",
          "text": [
            "0 0\n"
          ],
          "name": "stdout"
        }
      ]
    },
    {
      "cell_type": "code",
      "metadata": {
        "colab": {
          "base_uri": "https://localhost:8080/"
        },
        "id": "Mi1_eXAYLdsV",
        "outputId": "cd3c7b0a-34ed-43fb-c450-0fcdae416f01"
      },
      "source": [
        "duplicated = ut['song_id'].duplicated()\n",
        "sum(duplicated)"
      ],
      "execution_count": null,
      "outputs": [
        {
          "output_type": "execute_result",
          "data": {
            "text/plain": [
              "944"
            ]
          },
          "metadata": {
            "tags": []
          },
          "execution_count": 45
        }
      ]
    },
    {
      "cell_type": "code",
      "metadata": {
        "colab": {
          "base_uri": "https://localhost:8080/",
          "height": 206
        },
        "id": "1--CrkeDVeve",
        "outputId": "425fcd52-97f5-4f05-82ed-68a7c16bbe04"
      },
      "source": [
        "duplicated_song=ut[ut['song_id'].duplicated()]\n",
        "duplicated_song.head()"
      ],
      "execution_count": null,
      "outputs": [
        {
          "output_type": "execute_result",
          "data": {
            "text/html": [
              "<div>\n",
              "<style scoped>\n",
              "    .dataframe tbody tr th:only-of-type {\n",
              "        vertical-align: middle;\n",
              "    }\n",
              "\n",
              "    .dataframe tbody tr th {\n",
              "        vertical-align: top;\n",
              "    }\n",
              "\n",
              "    .dataframe thead th {\n",
              "        text-align: right;\n",
              "    }\n",
              "</style>\n",
              "<table border=\"1\" class=\"dataframe\">\n",
              "  <thead>\n",
              "    <tr style=\"text-align: right;\">\n",
              "      <th></th>\n",
              "      <th>track_id</th>\n",
              "      <th>song_id</th>\n",
              "      <th>artist_name</th>\n",
              "      <th>release</th>\n",
              "    </tr>\n",
              "  </thead>\n",
              "  <tbody>\n",
              "    <tr>\n",
              "      <th>18309</th>\n",
              "      <td>TRMNFVE128F932907E</td>\n",
              "      <td>SOPFBUZ12AF729C896</td>\n",
              "      <td>Snow Patrol</td>\n",
              "      <td>Spitting Games</td>\n",
              "    </tr>\n",
              "    <tr>\n",
              "      <th>32760</th>\n",
              "      <td>TRMDYQQ128F428080C</td>\n",
              "      <td>SOJHKXX12A8C139798</td>\n",
              "      <td>Incubus</td>\n",
              "      <td>A Crow Left Of The Murder</td>\n",
              "    </tr>\n",
              "    <tr>\n",
              "      <th>33033</th>\n",
              "      <td>TRMOHMT128F92FD3D3</td>\n",
              "      <td>SOLTAEJ12A8C13F793</td>\n",
              "      <td>Foo Fighters</td>\n",
              "      <td>What If I Do?</td>\n",
              "    </tr>\n",
              "    <tr>\n",
              "      <th>49718</th>\n",
              "      <td>TRWFAGT128F4213B6E</td>\n",
              "      <td>SONEJDQ12A6D4FA71C</td>\n",
              "      <td>Snow Patrol</td>\n",
              "      <td>Starfighter Pilot</td>\n",
              "    </tr>\n",
              "    <tr>\n",
              "      <th>54218</th>\n",
              "      <td>TRWIPEU128E078997D</td>\n",
              "      <td>SONVJUL12A6701FB7A</td>\n",
              "      <td>Weezer</td>\n",
              "      <td>The Damage In Your Heart</td>\n",
              "    </tr>\n",
              "  </tbody>\n",
              "</table>\n",
              "</div>"
            ],
            "text/plain": [
              "                 track_id  ...                    release\n",
              "18309  TRMNFVE128F932907E  ...             Spitting Games\n",
              "32760  TRMDYQQ128F428080C  ...  A Crow Left Of The Murder\n",
              "33033  TRMOHMT128F92FD3D3  ...              What If I Do?\n",
              "49718  TRWFAGT128F4213B6E  ...          Starfighter Pilot\n",
              "54218  TRWIPEU128E078997D  ...   The Damage In Your Heart\n",
              "\n",
              "[5 rows x 4 columns]"
            ]
          },
          "metadata": {
            "tags": []
          },
          "execution_count": 46
        }
      ]
    },
    {
      "cell_type": "code",
      "metadata": {
        "id": "9J24FdXZVexL"
      },
      "source": [
        "#Dropping the duplicates values\n",
        "ut_clean=pd.DataFrame() #Created an empty dataframe\n",
        "ut_clean=ut.drop_duplicates(subset='song_id') #Dropped the duplicated values"
      ],
      "execution_count": null,
      "outputs": []
    },
    {
      "cell_type": "code",
      "metadata": {
        "colab": {
          "base_uri": "https://localhost:8080/"
        },
        "id": "4JUDNBxhWiXu",
        "outputId": "3302c576-73c3-4e4c-e4b6-0571085be4f6"
      },
      "source": [
        "ut_clean['song_id'].duplicated().sum() # Now no duplicated values is present"
      ],
      "execution_count": null,
      "outputs": [
        {
          "output_type": "execute_result",
          "data": {
            "text/plain": [
              "0"
            ]
          },
          "metadata": {
            "tags": []
          },
          "execution_count": 48
        }
      ]
    },
    {
      "cell_type": "code",
      "metadata": {
        "colab": {
          "base_uri": "https://localhost:8080/"
        },
        "id": "N7dRy7cscvar",
        "outputId": "a2467028-a34c-4d91-8dc7-d4243aa313c5"
      },
      "source": [
        "ut_clean['track_id'].duplicated().sum()"
      ],
      "execution_count": null,
      "outputs": [
        {
          "output_type": "execute_result",
          "data": {
            "text/plain": [
              "0"
            ]
          },
          "metadata": {
            "tags": []
          },
          "execution_count": 49
        }
      ]
    },
    {
      "cell_type": "code",
      "metadata": {
        "colab": {
          "base_uri": "https://localhost:8080/"
        },
        "id": "CKsY5ulgWiLA",
        "outputId": "b29a3663-5585-4174-b61a-7fa1a3a51a47"
      },
      "source": [
        "ut_clean.shape #Shape of the cleaned dataframe"
      ],
      "execution_count": null,
      "outputs": [
        {
          "output_type": "execute_result",
          "data": {
            "text/plain": [
              "(999056, 4)"
            ]
          },
          "metadata": {
            "tags": []
          },
          "execution_count": 50
        }
      ]
    },
    {
      "cell_type": "code",
      "metadata": {
        "colab": {
          "base_uri": "https://localhost:8080/"
        },
        "id": "0MGB-fC-WiC-",
        "outputId": "2549c2ad-8ab3-43ef-f006-1557ccb4ecee"
      },
      "source": [
        "kvet.shape"
      ],
      "execution_count": null,
      "outputs": [
        {
          "output_type": "execute_result",
          "data": {
            "text/plain": [
              "(1450933, 3)"
            ]
          },
          "metadata": {
            "tags": []
          },
          "execution_count": 51
        }
      ]
    },
    {
      "cell_type": "markdown",
      "metadata": {
        "id": "YzMQDQLIaT1I"
      },
      "source": [
        "**From kvet dataframe we will only take first 999056 which will be equal to the total values from ut_clean dataframe**"
      ]
    },
    {
      "cell_type": "code",
      "metadata": {
        "id": "p1LESWYGWh0m"
      },
      "source": [
        "kvet_new=kvet.head(999056)"
      ],
      "execution_count": null,
      "outputs": []
    },
    {
      "cell_type": "code",
      "metadata": {
        "colab": {
          "base_uri": "https://localhost:8080/"
        },
        "id": "Dzz2WZ5NawYA",
        "outputId": "2bcd598c-7c07-492d-9147-e7f1e2bb239d"
      },
      "source": [
        "kvet_new.shape"
      ],
      "execution_count": null,
      "outputs": [
        {
          "output_type": "execute_result",
          "data": {
            "text/plain": [
              "(999056, 3)"
            ]
          },
          "metadata": {
            "tags": []
          },
          "execution_count": 53
        }
      ]
    },
    {
      "cell_type": "markdown",
      "metadata": {
        "id": "ar55RQQ7a1Tj"
      },
      "source": [
        "Now both ut_clean and kvet_new have same shape and can be merged together"
      ]
    },
    {
      "cell_type": "markdown",
      "metadata": {
        "id": "hv5zWr4oAIrD"
      },
      "source": [
        "#Merging the DataFrames"
      ]
    },
    {
      "cell_type": "code",
      "metadata": {
        "colab": {
          "base_uri": "https://localhost:8080/",
          "height": 206
        },
        "id": "X7FVLQTHAChf",
        "outputId": "ba326e46-f937-4385-9658-d13cfb220b23"
      },
      "source": [
        "song_df=pd.merge(kvet,ut_clean.drop_duplicates([\"song_id\"]),on=\"song_id\",how='left')\n",
        "song_df.head()"
      ],
      "execution_count": null,
      "outputs": [
        {
          "output_type": "execute_result",
          "data": {
            "text/html": [
              "<div>\n",
              "<style scoped>\n",
              "    .dataframe tbody tr th:only-of-type {\n",
              "        vertical-align: middle;\n",
              "    }\n",
              "\n",
              "    .dataframe tbody tr th {\n",
              "        vertical-align: top;\n",
              "    }\n",
              "\n",
              "    .dataframe thead th {\n",
              "        text-align: right;\n",
              "    }\n",
              "</style>\n",
              "<table border=\"1\" class=\"dataframe\">\n",
              "  <thead>\n",
              "    <tr style=\"text-align: right;\">\n",
              "      <th></th>\n",
              "      <th>user_id</th>\n",
              "      <th>song_id</th>\n",
              "      <th>freq</th>\n",
              "      <th>track_id</th>\n",
              "      <th>artist_name</th>\n",
              "      <th>release</th>\n",
              "    </tr>\n",
              "  </thead>\n",
              "  <tbody>\n",
              "    <tr>\n",
              "      <th>0</th>\n",
              "      <td>fd50c4007b68a3737fe052d5a4f78ce8aa117f3d</td>\n",
              "      <td>SOBONKR12A58A7A7E0</td>\n",
              "      <td>1</td>\n",
              "      <td>TRAEHHJ12903CF492F</td>\n",
              "      <td>Dwight Yoakam</td>\n",
              "      <td>You're The One</td>\n",
              "    </tr>\n",
              "    <tr>\n",
              "      <th>1</th>\n",
              "      <td>fd50c4007b68a3737fe052d5a4f78ce8aa117f3d</td>\n",
              "      <td>SOEGIYH12A6D4FC0E3</td>\n",
              "      <td>1</td>\n",
              "      <td>TRLGMFJ128F4217DBE</td>\n",
              "      <td>Barry Tuckwell/Academy of St Martin-in-the-Fie...</td>\n",
              "      <td>Horn Concerto No. 4 in E flat K495: II. Romanc...</td>\n",
              "    </tr>\n",
              "    <tr>\n",
              "      <th>2</th>\n",
              "      <td>fd50c4007b68a3737fe052d5a4f78ce8aa117f3d</td>\n",
              "      <td>SOFLJQZ12A6D4FADA6</td>\n",
              "      <td>1</td>\n",
              "      <td>TRTNDNE128F1486812</td>\n",
              "      <td>Cartola</td>\n",
              "      <td>Tive Sim</td>\n",
              "    </tr>\n",
              "    <tr>\n",
              "      <th>3</th>\n",
              "      <td>fd50c4007b68a3737fe052d5a4f78ce8aa117f3d</td>\n",
              "      <td>SOHTKMO12AB01843B0</td>\n",
              "      <td>1</td>\n",
              "      <td>TRASTUE128F930D488</td>\n",
              "      <td>Lonnie Gordon</td>\n",
              "      <td>Catch You Baby (Steve Pitron &amp; Max Sanna Radio...</td>\n",
              "    </tr>\n",
              "    <tr>\n",
              "      <th>4</th>\n",
              "      <td>fd50c4007b68a3737fe052d5a4f78ce8aa117f3d</td>\n",
              "      <td>SODQZCY12A6D4F9D11</td>\n",
              "      <td>1</td>\n",
              "      <td>TRFPLWO128F1486B9E</td>\n",
              "      <td>Miguel Calo</td>\n",
              "      <td>El Cuatrero</td>\n",
              "    </tr>\n",
              "  </tbody>\n",
              "</table>\n",
              "</div>"
            ],
            "text/plain": [
              "                                    user_id  ...                                            release\n",
              "0  fd50c4007b68a3737fe052d5a4f78ce8aa117f3d  ...                                     You're The One\n",
              "1  fd50c4007b68a3737fe052d5a4f78ce8aa117f3d  ...  Horn Concerto No. 4 in E flat K495: II. Romanc...\n",
              "2  fd50c4007b68a3737fe052d5a4f78ce8aa117f3d  ...                                           Tive Sim\n",
              "3  fd50c4007b68a3737fe052d5a4f78ce8aa117f3d  ...  Catch You Baby (Steve Pitron & Max Sanna Radio...\n",
              "4  fd50c4007b68a3737fe052d5a4f78ce8aa117f3d  ...                                        El Cuatrero\n",
              "\n",
              "[5 rows x 6 columns]"
            ]
          },
          "metadata": {
            "tags": []
          },
          "execution_count": 54
        }
      ]
    },
    {
      "cell_type": "code",
      "metadata": {
        "colab": {
          "base_uri": "https://localhost:8080/",
          "height": 206
        },
        "id": "7LviDordBOUa",
        "outputId": "8484644f-8329-4c54-c1de-1b90c47acd00"
      },
      "source": [
        "song_df.tail()"
      ],
      "execution_count": null,
      "outputs": [
        {
          "output_type": "execute_result",
          "data": {
            "text/html": [
              "<div>\n",
              "<style scoped>\n",
              "    .dataframe tbody tr th:only-of-type {\n",
              "        vertical-align: middle;\n",
              "    }\n",
              "\n",
              "    .dataframe tbody tr th {\n",
              "        vertical-align: top;\n",
              "    }\n",
              "\n",
              "    .dataframe thead th {\n",
              "        text-align: right;\n",
              "    }\n",
              "</style>\n",
              "<table border=\"1\" class=\"dataframe\">\n",
              "  <thead>\n",
              "    <tr style=\"text-align: right;\">\n",
              "      <th></th>\n",
              "      <th>user_id</th>\n",
              "      <th>song_id</th>\n",
              "      <th>freq</th>\n",
              "      <th>track_id</th>\n",
              "      <th>artist_name</th>\n",
              "      <th>release</th>\n",
              "    </tr>\n",
              "  </thead>\n",
              "  <tbody>\n",
              "    <tr>\n",
              "      <th>1450928</th>\n",
              "      <td>5e650759ebf89012044c6d52121eeada8b0ec814</td>\n",
              "      <td>SOVLNXV12A6D4F706E</td>\n",
              "      <td>1</td>\n",
              "      <td>TRPLXFD128F1454961</td>\n",
              "      <td>Mos Def</td>\n",
              "      <td>Ms. Fat Booty</td>\n",
              "    </tr>\n",
              "    <tr>\n",
              "      <th>1450929</th>\n",
              "      <td>5e650759ebf89012044c6d52121eeada8b0ec814</td>\n",
              "      <td>SOVDSJC12A58A7A271</td>\n",
              "      <td>2</td>\n",
              "      <td>TRRBUQL12903CCE501</td>\n",
              "      <td>Sam Cooke</td>\n",
              "      <td>Ain't Misbehavin</td>\n",
              "    </tr>\n",
              "    <tr>\n",
              "      <th>1450930</th>\n",
              "      <td>5e650759ebf89012044c6d52121eeada8b0ec814</td>\n",
              "      <td>SOBRHVR12A8C133F35</td>\n",
              "      <td>2</td>\n",
              "      <td>TRHNKAU128F9300856</td>\n",
              "      <td>Southside Spinners</td>\n",
              "      <td>Luvstruck</td>\n",
              "    </tr>\n",
              "    <tr>\n",
              "      <th>1450931</th>\n",
              "      <td>5e650759ebf89012044c6d52121eeada8b0ec814</td>\n",
              "      <td>SOMGVYU12A8C1314FF</td>\n",
              "      <td>2</td>\n",
              "      <td>TRDULYN128F4248762</td>\n",
              "      <td>J. Karjalainen &amp; Mustat Lasit</td>\n",
              "      <td>Sinisten tähtien alla</td>\n",
              "    </tr>\n",
              "    <tr>\n",
              "      <th>1450932</th>\n",
              "      <td>5e650759ebf89012044c6d52121eeada8b0ec814</td>\n",
              "      <td>SOTCMDJ12A6D4F8528</td>\n",
              "      <td>3</td>\n",
              "      <td>TRZJNDO128EF343498</td>\n",
              "      <td>Angels and Airwaves</td>\n",
              "      <td>The Gift</td>\n",
              "    </tr>\n",
              "  </tbody>\n",
              "</table>\n",
              "</div>"
            ],
            "text/plain": [
              "                                          user_id  ...                release\n",
              "1450928  5e650759ebf89012044c6d52121eeada8b0ec814  ...          Ms. Fat Booty\n",
              "1450929  5e650759ebf89012044c6d52121eeada8b0ec814  ...       Ain't Misbehavin\n",
              "1450930  5e650759ebf89012044c6d52121eeada8b0ec814  ...              Luvstruck\n",
              "1450931  5e650759ebf89012044c6d52121eeada8b0ec814  ...  Sinisten tähtien alla\n",
              "1450932  5e650759ebf89012044c6d52121eeada8b0ec814  ...               The Gift\n",
              "\n",
              "[5 rows x 6 columns]"
            ]
          },
          "metadata": {
            "tags": []
          },
          "execution_count": 55
        }
      ]
    },
    {
      "cell_type": "code",
      "metadata": {
        "colab": {
          "base_uri": "https://localhost:8080/"
        },
        "id": "jGKnTvVVCWF4",
        "outputId": "b51f2e9c-0e28-496b-9c89-1a10877aa8f5"
      },
      "source": [
        "song_df.shape"
      ],
      "execution_count": null,
      "outputs": [
        {
          "output_type": "execute_result",
          "data": {
            "text/plain": [
              "(1450933, 6)"
            ]
          },
          "metadata": {
            "tags": []
          },
          "execution_count": 56
        }
      ]
    },
    {
      "cell_type": "code",
      "metadata": {
        "colab": {
          "base_uri": "https://localhost:8080/"
        },
        "id": "KiUG0nbyb_S4",
        "outputId": "9348a82c-ac0b-4f1b-e7ec-085650b022d9"
      },
      "source": [
        "song_df['song_id'].duplicated().sum()"
      ],
      "execution_count": null,
      "outputs": [
        {
          "output_type": "execute_result",
          "data": {
            "text/plain": [
              "1287727"
            ]
          },
          "metadata": {
            "tags": []
          },
          "execution_count": 57
        }
      ]
    },
    {
      "cell_type": "code",
      "metadata": {
        "colab": {
          "base_uri": "https://localhost:8080/"
        },
        "id": "6BDCfGyYb_Ui",
        "outputId": "bb4df438-c152-4ec7-c812-285e3e9ee8fd"
      },
      "source": [
        "song_df.isnull().sum()"
      ],
      "execution_count": null,
      "outputs": [
        {
          "output_type": "execute_result",
          "data": {
            "text/plain": [
              "user_id        0\n",
              "song_id        0\n",
              "freq           0\n",
              "track_id       0\n",
              "artist_name    0\n",
              "release        0\n",
              "dtype: int64"
            ]
          },
          "metadata": {
            "tags": []
          },
          "execution_count": 58
        }
      ]
    },
    {
      "cell_type": "code",
      "metadata": {
        "id": "zkQvIQ6Tg9Tv"
      },
      "source": [
        "song_df.dropna(inplace=True)"
      ],
      "execution_count": null,
      "outputs": []
    },
    {
      "cell_type": "code",
      "metadata": {
        "colab": {
          "base_uri": "https://localhost:8080/"
        },
        "id": "21ZP5zHGg-Px",
        "outputId": "58de569f-0175-4265-b30d-7c7d1dba7600"
      },
      "source": [
        "print(\"Shape: \",song_df.shape)\n",
        "song_df.isnull().sum()"
      ],
      "execution_count": null,
      "outputs": [
        {
          "output_type": "stream",
          "text": [
            "Shape:  (1450933, 6)\n"
          ],
          "name": "stdout"
        },
        {
          "output_type": "execute_result",
          "data": {
            "text/plain": [
              "user_id        0\n",
              "song_id        0\n",
              "freq           0\n",
              "track_id       0\n",
              "artist_name    0\n",
              "release        0\n",
              "dtype: int64"
            ]
          },
          "metadata": {
            "tags": []
          },
          "execution_count": 60
        }
      ]
    },
    {
      "cell_type": "code",
      "metadata": {
        "colab": {
          "base_uri": "https://localhost:8080/"
        },
        "id": "jN7ndTAwhfr9",
        "outputId": "11ec72eb-2794-4b0f-c013-54690a317da0"
      },
      "source": [
        "print(\"Total data points\",song_df.shape[0])\n",
        "print(\"Total number of unique user:\",song_df[\"user_id\"].unique().shape[0])\n",
        "print(\"Total number of unique Tracks:\",song_df[\"track_id\"].unique().shape[0])\n",
        "print(\"Toal number of unique song id:\",song_df['song_id'].unique().shape[0])"
      ],
      "execution_count": null,
      "outputs": [
        {
          "output_type": "stream",
          "text": [
            "Total data points 1450933\n",
            "Total number of unique user: 110000\n",
            "Total number of unique Tracks: 163206\n",
            "Toal number of unique song id: 163206\n"
          ],
          "name": "stdout"
        }
      ]
    },
    {
      "cell_type": "code",
      "metadata": {
        "colab": {
          "base_uri": "https://localhost:8080/"
        },
        "id": "8Io4d5gwWgtD",
        "outputId": "9d9b92fb-4b87-4d51-8253-b98872299c14"
      },
      "source": [
        "print(\"Number of Unique releases:\",song_df[\"release\"].unique().shape[0])\n",
        "print(\"Number of Unique Artist :\",song_df[\"artist_name\"].unique().shape[0])"
      ],
      "execution_count": null,
      "outputs": [
        {
          "output_type": "stream",
          "text": [
            "Number of Unique releases: 137622\n",
            "Number of Unique Artist : 28361\n"
          ],
          "name": "stdout"
        }
      ]
    },
    {
      "cell_type": "code",
      "metadata": {
        "id": "KzqnR1S-cvUn"
      },
      "source": [
        "pd.set_option('display.float_format', lambda x:'%.3f'%x)"
      ],
      "execution_count": null,
      "outputs": []
    },
    {
      "cell_type": "code",
      "metadata": {
        "colab": {
          "base_uri": "https://localhost:8080/",
          "height": 300
        },
        "id": "Z94t9aBAaNvx",
        "outputId": "749c87fd-7bfc-49f3-e55a-a8783351db39"
      },
      "source": [
        "song_df.describe()"
      ],
      "execution_count": null,
      "outputs": [
        {
          "output_type": "execute_result",
          "data": {
            "text/html": [
              "<div>\n",
              "<style scoped>\n",
              "    .dataframe tbody tr th:only-of-type {\n",
              "        vertical-align: middle;\n",
              "    }\n",
              "\n",
              "    .dataframe tbody tr th {\n",
              "        vertical-align: top;\n",
              "    }\n",
              "\n",
              "    .dataframe thead th {\n",
              "        text-align: right;\n",
              "    }\n",
              "</style>\n",
              "<table border=\"1\" class=\"dataframe\">\n",
              "  <thead>\n",
              "    <tr style=\"text-align: right;\">\n",
              "      <th></th>\n",
              "      <th>freq</th>\n",
              "    </tr>\n",
              "  </thead>\n",
              "  <tbody>\n",
              "    <tr>\n",
              "      <th>count</th>\n",
              "      <td>1450933.000</td>\n",
              "    </tr>\n",
              "    <tr>\n",
              "      <th>mean</th>\n",
              "      <td>3.187</td>\n",
              "    </tr>\n",
              "    <tr>\n",
              "      <th>std</th>\n",
              "      <td>7.052</td>\n",
              "    </tr>\n",
              "    <tr>\n",
              "      <th>min</th>\n",
              "      <td>1.000</td>\n",
              "    </tr>\n",
              "    <tr>\n",
              "      <th>25%</th>\n",
              "      <td>1.000</td>\n",
              "    </tr>\n",
              "    <tr>\n",
              "      <th>50%</th>\n",
              "      <td>1.000</td>\n",
              "    </tr>\n",
              "    <tr>\n",
              "      <th>75%</th>\n",
              "      <td>3.000</td>\n",
              "    </tr>\n",
              "    <tr>\n",
              "      <th>max</th>\n",
              "      <td>923.000</td>\n",
              "    </tr>\n",
              "  </tbody>\n",
              "</table>\n",
              "</div>"
            ],
            "text/plain": [
              "             freq\n",
              "count 1450933.000\n",
              "mean        3.187\n",
              "std         7.052\n",
              "min         1.000\n",
              "25%         1.000\n",
              "50%         1.000\n",
              "75%         3.000\n",
              "max       923.000"
            ]
          },
          "metadata": {
            "tags": []
          },
          "execution_count": 64
        }
      ]
    },
    {
      "cell_type": "code",
      "metadata": {
        "colab": {
          "base_uri": "https://localhost:8080/",
          "height": 297
        },
        "id": "rftLBWUVaRGY",
        "outputId": "ac5e3c75-f52c-4aa7-e721-7d4bbe39466d"
      },
      "source": [
        "sns.kdeplot(data=song_df,x=\"freq\")"
      ],
      "execution_count": null,
      "outputs": [
        {
          "output_type": "execute_result",
          "data": {
            "text/plain": [
              "<matplotlib.axes._subplots.AxesSubplot at 0x7fa0ab4717d0>"
            ]
          },
          "metadata": {
            "tags": []
          },
          "execution_count": 65
        },
        {
          "output_type": "display_data",
          "data": {
            "image/png": "[encoded data removed]",
            "text/plain": [
              "<Figure size 432x288 with 1 Axes>"
            ]
          },
          "metadata": {
            "tags": []
          }
        }
      ]
    },
    {
      "cell_type": "markdown",
      "metadata": {
        "id": "MaB4_HOC4nvN"
      },
      "source": [
        "Number of song per user : \n",
        "The kde plot depicts the play count is close to 1 for many songs."
      ]
    },
    {
      "cell_type": "code",
      "metadata": {
        "colab": {
          "base_uri": "https://localhost:8080/"
        },
        "id": "4VECrdiZaVEf",
        "outputId": "30da5887-2ae3-40e3-fca2-34820993e4c0"
      },
      "source": [
        "songs_per_user=song_df.groupby(\"user_id\")[\"freq\"].count()\n",
        "songs_per_user.head()"
      ],
      "execution_count": null,
      "outputs": [
        {
          "output_type": "execute_result",
          "data": {
            "text/plain": [
              "user_id\n",
              "00007a02388c208ea7176479f6ae06f8224355b3     9\n",
              "00014a76ed063e1a749171a253bca9d9a0ff1782    11\n",
              "00015189668691680bb1a2e58afde1541ec92ced    17\n",
              "0001ff7aa2667c8d8b945317b88adaed1c0b9dc2     9\n",
              "00020fcd8b01986a6a85b896ccde6c49f35142ad    32\n",
              "Name: freq, dtype: int64"
            ]
          },
          "metadata": {
            "tags": []
          },
          "execution_count": 66
        }
      ]
    },
    {
      "cell_type": "code",
      "metadata": {
        "colab": {
          "base_uri": "https://localhost:8080/"
        },
        "id": "AOtrdcME4rz9",
        "outputId": "719d9644-b1af-4029-a5a1-ef48c92af095"
      },
      "source": [
        "songs_per_user.sort_values().head()"
      ],
      "execution_count": null,
      "outputs": [
        {
          "output_type": "execute_result",
          "data": {
            "text/plain": [
              "user_id\n",
              "336c306c5df497a9cb4067c14d5b840ba1a1e272    5\n",
              "47b83637c7726c40218552445e1dc9b906f0ad6d    5\n",
              "5519a61514f2248435a70afad322568c1a1173eb    5\n",
              "ae7a9eaf03f35908b8ffc420241f99e9c6057bf2    5\n",
              "18cb5d68334667324a9bac0a66f6579f34f43a31    5\n",
              "Name: freq, dtype: int64"
            ]
          },
          "metadata": {
            "tags": []
          },
          "execution_count": 67
        }
      ]
    },
    {
      "cell_type": "code",
      "metadata": {
        "colab": {
          "base_uri": "https://localhost:8080/"
        },
        "id": "Ymbpzwwr4uAY",
        "outputId": "936e119b-b02f-4288-f278-eafe64f7beec"
      },
      "source": [
        "songs_per_user.sort_values().tail()"
      ],
      "execution_count": null,
      "outputs": [
        {
          "output_type": "execute_result",
          "data": {
            "text/plain": [
              "user_id\n",
              "0f8308935bcbb9a1e04ebb7c4d41c037e5f23b90    52\n",
              "03ad93fdb01506ce205f4708decf8e4b1ae90fff    52\n",
              "016a24e91a72c159a5048ab1b9b2ba5ce761b526    52\n",
              "d30e18323f15426c3cdc8585252ed34459916f51    52\n",
              "7d90be8dfdbde170f036ce8a4b915440137cb11c    53\n",
              "Name: freq, dtype: int64"
            ]
          },
          "metadata": {
            "tags": []
          },
          "execution_count": 68
        }
      ]
    },
    {
      "cell_type": "code",
      "metadata": {
        "colab": {
          "base_uri": "https://localhost:8080/"
        },
        "id": "h0FComXt4wGQ",
        "outputId": "2ca0d4e8-1f34-47fc-a46a-0e82d73b1d07"
      },
      "source": [
        "songs_per_user.describe()"
      ],
      "execution_count": null,
      "outputs": [
        {
          "output_type": "execute_result",
          "data": {
            "text/plain": [
              "count   110000.000\n",
              "mean        13.190\n",
              "std          8.071\n",
              "min          5.000\n",
              "25%          7.000\n",
              "50%         11.000\n",
              "75%         17.000\n",
              "max         53.000\n",
              "Name: freq, dtype: float64"
            ]
          },
          "metadata": {
            "tags": []
          },
          "execution_count": 69
        }
      ]
    },
    {
      "cell_type": "markdown",
      "metadata": {
        "id": "LFjNmlQzdYol"
      },
      "source": [
        "* Average number of songs heard by per user is 13.563\n",
        "* Median songs heard by per user is 11\n",
        "\n",
        "\n",
        "\n"
      ]
    },
    {
      "cell_type": "code",
      "metadata": {
        "colab": {
          "base_uri": "https://localhost:8080/",
          "height": 279
        },
        "id": "9TYqErzu4yny",
        "outputId": "97f703dd-f36d-48c9-c993-b0a4a24efa93"
      },
      "source": [
        "plt.xlabel(\"Number of songs per user\")\n",
        "sns.kdeplot(songs_per_user)\n",
        "plt.show()"
      ],
      "execution_count": null,
      "outputs": [
        {
          "output_type": "display_data",
          "data": {
            "image/png": "[encoded data removed]",
            "text/plain": [
              "<Figure size 432x288 with 1 Axes>"
            ]
          },
          "metadata": {
            "tags": []
          }
        }
      ]
    },
    {
      "cell_type": "markdown",
      "metadata": {
        "id": "H8be5wApndi-"
      },
      "source": [
        "#Analysis of Popular Artist"
      ]
    },
    {
      "cell_type": "code",
      "metadata": {
        "colab": {
          "base_uri": "https://localhost:8080/"
        },
        "id": "PfMG5geHnlR0",
        "outputId": "0e036e58-4056-4477-8db2-6eddf821822b"
      },
      "source": [
        "artist_popularity=song_df.groupby(\"artist_name\")[\"freq\"].count()\n",
        "artist_popularity.head()"
      ],
      "execution_count": null,
      "outputs": [
        {
          "output_type": "execute_result",
          "data": {
            "text/plain": [
              "artist_name\n",
              "!!!                     109\n",
              "!Deladap                  3\n",
              "& And Oceans              2\n",
              "'68 Comeback             22\n",
              "'N Sync/Phil Collins     48\n",
              "Name: freq, dtype: int64"
            ]
          },
          "metadata": {
            "tags": []
          },
          "execution_count": 71
        }
      ]
    },
    {
      "cell_type": "code",
      "metadata": {
        "colab": {
          "base_uri": "https://localhost:8080/"
        },
        "id": "aSNmCakSnlUY",
        "outputId": "02490c11-8da6-45cd-d380-0ea4bc0ac3de"
      },
      "source": [
        "artist_popularity.tail()"
      ],
      "execution_count": null,
      "outputs": [
        {
          "output_type": "execute_result",
          "data": {
            "text/plain": [
              "artist_name\n",
              "Étienne Daho      45\n",
              "Íon                5\n",
              "Ólafur Arnalds    78\n",
              "Órla Fallon        1\n",
              "Özlem Tekin        1\n",
              "Name: freq, dtype: int64"
            ]
          },
          "metadata": {
            "tags": []
          },
          "execution_count": 72
        }
      ]
    },
    {
      "cell_type": "code",
      "metadata": {
        "colab": {
          "base_uri": "https://localhost:8080/"
        },
        "id": "xWt2hp2EnlW0",
        "outputId": "15f614cb-0992-4d79-b1ac-4dc68e2eeceb"
      },
      "source": [
        "artist_popularity.sort_values().head()"
      ],
      "execution_count": null,
      "outputs": [
        {
          "output_type": "execute_result",
          "data": {
            "text/plain": [
              "artist_name\n",
              "Özlem Tekin                      1\n",
              "Chris Connelly and the Bells     1\n",
              "Mad Professor / Mafia & Fluxy    1\n",
              "Maddox Brothers & Rose           1\n",
              "Madreblu                         1\n",
              "Name: freq, dtype: int64"
            ]
          },
          "metadata": {
            "tags": []
          },
          "execution_count": 73
        }
      ]
    },
    {
      "cell_type": "code",
      "metadata": {
        "colab": {
          "base_uri": "https://localhost:8080/"
        },
        "id": "c9exz0w4nlaU",
        "outputId": "34eac992-2308-4b96-b377-de60708d3ca3"
      },
      "source": [
        "artist_popularity.sort_values().tail(20)"
      ],
      "execution_count": null,
      "outputs": [
        {
          "output_type": "execute_result",
          "data": {
            "text/plain": [
              "artist_name\n",
              "Black Eyed Peas            4299\n",
              "Metallica                  4970\n",
              "Harmonia                   5046\n",
              "Björk                      5144\n",
              "John Mayer                 5282\n",
              "Daft Punk                  5379\n",
              "The Killers                5391\n",
              "Radiohead                  5408\n",
              "Linkin Park                5623\n",
              "Taylor Swift               5648\n",
              "Muse                       5849\n",
              "OneRepublic                6027\n",
              "Eminem                     6297\n",
              "The Black Keys             6507\n",
              "Train                      6617\n",
              "Jack Johnson               6784\n",
              "Justin Bieber              7669\n",
              "Florence + The Machine     8213\n",
              "Kings Of Leon              8514\n",
              "Coldplay                  12279\n",
              "Name: freq, dtype: int64"
            ]
          },
          "metadata": {
            "tags": []
          },
          "execution_count": 74
        }
      ]
    },
    {
      "cell_type": "code",
      "metadata": {
        "colab": {
          "base_uri": "https://localhost:8080/"
        },
        "id": "YRQsyPyIHy3d",
        "outputId": "29882567-4cf2-4c98-e1dd-dff49e191625"
      },
      "source": [
        "song_df.columns"
      ],
      "execution_count": null,
      "outputs": [
        {
          "output_type": "execute_result",
          "data": {
            "text/plain": [
              "Index(['user_id', 'song_id', 'freq', 'track_id', 'artist_name', 'release'], dtype='object')"
            ]
          },
          "metadata": {
            "tags": []
          },
          "execution_count": 75
        }
      ]
    },
    {
      "cell_type": "code",
      "metadata": {
        "colab": {
          "base_uri": "https://localhost:8080/",
          "height": 36
        },
        "id": "kj9PbEU34012",
        "outputId": "076fed50-e7f8-460a-f087-2a2dc7128c18"
      },
      "source": [
        "song_df.mode()['artist_name'][0]"
      ],
      "execution_count": null,
      "outputs": [
        {
          "output_type": "execute_result",
          "data": {
            "application/vnd.google.colaboratory.intrinsic+json": {
              "type": "string"
            },
            "text/plain": [
              "'Coldplay'"
            ]
          },
          "metadata": {
            "tags": []
          },
          "execution_count": 76
        }
      ]
    },
    {
      "cell_type": "code",
      "metadata": {
        "colab": {
          "base_uri": "https://localhost:8080/",
          "height": 36
        },
        "id": "DXsdM802H5b3",
        "outputId": "43cbbf0f-be7e-491d-b61d-e8c9737ac298"
      },
      "source": [
        "song_df.mode()['release'][0]"
      ],
      "execution_count": null,
      "outputs": [
        {
          "output_type": "execute_result",
          "data": {
            "application/vnd.google.colaboratory.intrinsic+json": {
              "type": "string"
            },
            "text/plain": [
              "'Sehr kosmisch'"
            ]
          },
          "metadata": {
            "tags": []
          },
          "execution_count": 77
        }
      ]
    },
    {
      "cell_type": "markdown",
      "metadata": {
        "id": "STwzPGEoJT5Y"
      },
      "source": [
        "Insights drawn till now : \n",
        "\n",
        "1. The play count most of the cases is close to 2.\n",
        "2. No of songs per user are between 3 and 7.\n",
        "3. Max no of songs for a particular user are 57\n",
        "4. On an average , the user listens to 13 songs ; & min being of 5 songs.\n",
        "5. The artist 'Coldplay' has max plays.\n",
        "6. The song 'Sehr kosmisch' is most played song.\n",
        "7. There are 28367 Number of Unique Artists.\n"
      ]
    },
    {
      "cell_type": "code",
      "metadata": {
        "colab": {
          "base_uri": "https://localhost:8080/"
        },
        "id": "wxWaM1siqInZ",
        "outputId": "1869e08e-af29-43bb-d3fe-92ab654fbbc3"
      },
      "source": [
        "all_release=song_df.groupby(\"artist_name\")\n",
        "print(all_release.get_group(\"Coldplay\")[\"release\"])"
      ],
      "execution_count": null,
      "outputs": [
        {
          "output_type": "stream",
          "text": [
            "122                Yellow\n",
            "336         The Scientist\n",
            "353               Fix You\n",
            "360         The Scientist\n",
            "365                Yellow\n",
            "                ...      \n",
            "1450525     The Scientist\n",
            "1450545    Speed Of Sound\n",
            "1450651            Yellow\n",
            "1450655            Shiver\n",
            "1450841     White Shadows\n",
            "Name: release, Length: 12279, dtype: object\n"
          ],
          "name": "stdout"
        }
      ]
    },
    {
      "cell_type": "code",
      "metadata": {
        "colab": {
          "base_uri": "https://localhost:8080/"
        },
        "id": "J0YGGfXisQsq",
        "outputId": "229668b2-e537-4b3a-a77b-3deeb5051f04"
      },
      "source": [
        "print(all_release.get_group(\"Justin Bieber\")[\"release\"])"
      ],
      "execution_count": null,
      "outputs": [
        {
          "output_type": "stream",
          "text": [
            "707           Somebody To Love\n",
            "799              Down To Earth\n",
            "839                   One Time\n",
            "840                    U Smile\n",
            "842              Favorite Girl\n",
            "                  ...         \n",
            "1449740     Common Denominator\n",
            "1449877          Down To Earth\n",
            "1449886       Never Let You Go\n",
            "1450081           Runaway Love\n",
            "1450097    Stuck In The Moment\n",
            "Name: release, Length: 7669, dtype: object\n"
          ],
          "name": "stdout"
        }
      ]
    },
    {
      "cell_type": "code",
      "metadata": {
        "id": "JC4ROnACyluv"
      },
      "source": [
        "sorted_artist_popularity=artist_popularity.sort_values(ascending=False)"
      ],
      "execution_count": null,
      "outputs": []
    },
    {
      "cell_type": "code",
      "metadata": {
        "colab": {
          "base_uri": "https://localhost:8080/"
        },
        "id": "_HVPMhmM0fDR",
        "outputId": "0603cd68-fc3f-44cf-f90e-18202043b0e6"
      },
      "source": [
        "sorted_artist_popularity.head()"
      ],
      "execution_count": null,
      "outputs": [
        {
          "output_type": "execute_result",
          "data": {
            "text/plain": [
              "artist_name\n",
              "Coldplay                  12279\n",
              "Kings Of Leon              8514\n",
              "Florence + The Machine     8213\n",
              "Justin Bieber              7669\n",
              "Jack Johnson               6784\n",
              "Name: freq, dtype: int64"
            ]
          },
          "metadata": {
            "tags": []
          },
          "execution_count": 81
        }
      ]
    },
    {
      "cell_type": "code",
      "metadata": {
        "colab": {
          "base_uri": "https://localhost:8080/",
          "height": 279
        },
        "id": "iHYGlCTdoXHX",
        "outputId": "ee599179-1c03-442c-8a4b-39502b537743"
      },
      "source": [
        "plt.xlabel(\"Number of artist\")\n",
        "sns.kdeplot(artist_popularity)\n",
        "plt.show()"
      ],
      "execution_count": null,
      "outputs": [
        {
          "output_type": "display_data",
          "data": {
            "image/png": "[encoded data removed]",
            "text/plain": [
              "<Figure size 432x288 with 1 Axes>"
            ]
          },
          "metadata": {
            "tags": []
          }
        }
      ]
    },
    {
      "cell_type": "markdown",
      "metadata": {
        "id": "w75VQqXAoxui"
      },
      "source": [
        "* Only very few artist are very popular\n",
        "* Around 250-350 artist are very popular out of 28367"
      ]
    },
    {
      "cell_type": "markdown",
      "metadata": {
        "id": "2Ksr4_mEnWhD"
      },
      "source": [
        "### Analysing the most popular track"
      ]
    },
    {
      "cell_type": "code",
      "metadata": {
        "colab": {
          "base_uri": "https://localhost:8080/"
        },
        "id": "4GrBsoIgevg-",
        "outputId": "dbdee990-e4c4-45bf-86fb-8750bc4f2edc"
      },
      "source": [
        "popular_track=song_df['track_id'].mode()[0]\n",
        "print(popular_track)"
      ],
      "execution_count": null,
      "outputs": [
        {
          "output_type": "stream",
          "text": [
            "TRDMBIJ128F4290431\n"
          ],
          "name": "stdout"
        }
      ]
    },
    {
      "cell_type": "code",
      "metadata": {
        "id": "-Fo6zqvAfZIZ"
      },
      "source": [
        "track_groupby=song_df.groupby('track_id')\n",
        "popular_track_info=track_groupby.get_group(popular_track)"
      ],
      "execution_count": null,
      "outputs": []
    },
    {
      "cell_type": "code",
      "metadata": {
        "colab": {
          "base_uri": "https://localhost:8080/"
        },
        "id": "8Du0z6KZjAib",
        "outputId": "2dd8dde7-459c-4097-fe6f-404184a764f2"
      },
      "source": [
        "popular_track_info.shape"
      ],
      "execution_count": null,
      "outputs": [
        {
          "output_type": "execute_result",
          "data": {
            "text/plain": [
              "(5043, 6)"
            ]
          },
          "metadata": {
            "tags": []
          },
          "execution_count": 85
        }
      ]
    },
    {
      "cell_type": "code",
      "metadata": {
        "colab": {
          "base_uri": "https://localhost:8080/",
          "height": 206
        },
        "id": "clmqNZplmg6a",
        "outputId": "a1d4a961-0408-4b80-8309-bc4b98488c1e"
      },
      "source": [
        "popular_track_info.head()"
      ],
      "execution_count": null,
      "outputs": [
        {
          "output_type": "execute_result",
          "data": {
            "text/html": [
              "<div>\n",
              "<style scoped>\n",
              "    .dataframe tbody tr th:only-of-type {\n",
              "        vertical-align: middle;\n",
              "    }\n",
              "\n",
              "    .dataframe tbody tr th {\n",
              "        vertical-align: top;\n",
              "    }\n",
              "\n",
              "    .dataframe thead th {\n",
              "        text-align: right;\n",
              "    }\n",
              "</style>\n",
              "<table border=\"1\" class=\"dataframe\">\n",
              "  <thead>\n",
              "    <tr style=\"text-align: right;\">\n",
              "      <th></th>\n",
              "      <th>user_id</th>\n",
              "      <th>song_id</th>\n",
              "      <th>freq</th>\n",
              "      <th>track_id</th>\n",
              "      <th>artist_name</th>\n",
              "      <th>release</th>\n",
              "    </tr>\n",
              "  </thead>\n",
              "  <tbody>\n",
              "    <tr>\n",
              "      <th>22</th>\n",
              "      <td>d68dc6fc25248234590d7668a11e3335534ae4b4</td>\n",
              "      <td>SOFRQTD12A81C233C0</td>\n",
              "      <td>1</td>\n",
              "      <td>TRDMBIJ128F4290431</td>\n",
              "      <td>Harmonia</td>\n",
              "      <td>Sehr kosmisch</td>\n",
              "    </tr>\n",
              "    <tr>\n",
              "      <th>366</th>\n",
              "      <td>c732f882aa8d6db3bfaf8037d6418f27d3e07fc8</td>\n",
              "      <td>SOFRQTD12A81C233C0</td>\n",
              "      <td>2</td>\n",
              "      <td>TRDMBIJ128F4290431</td>\n",
              "      <td>Harmonia</td>\n",
              "      <td>Sehr kosmisch</td>\n",
              "    </tr>\n",
              "    <tr>\n",
              "      <th>455</th>\n",
              "      <td>bdbf8ddd82fa83ef4538a15298dfca19bfc4a3ca</td>\n",
              "      <td>SOFRQTD12A81C233C0</td>\n",
              "      <td>11</td>\n",
              "      <td>TRDMBIJ128F4290431</td>\n",
              "      <td>Harmonia</td>\n",
              "      <td>Sehr kosmisch</td>\n",
              "    </tr>\n",
              "    <tr>\n",
              "      <th>564</th>\n",
              "      <td>6493c305190b52657d4ea3f4adf367ffcf3427af</td>\n",
              "      <td>SOFRQTD12A81C233C0</td>\n",
              "      <td>3</td>\n",
              "      <td>TRDMBIJ128F4290431</td>\n",
              "      <td>Harmonia</td>\n",
              "      <td>Sehr kosmisch</td>\n",
              "    </tr>\n",
              "    <tr>\n",
              "      <th>693</th>\n",
              "      <td>a5d92e23cf3f711dfc473f1c3b296492ec02effd</td>\n",
              "      <td>SOFRQTD12A81C233C0</td>\n",
              "      <td>7</td>\n",
              "      <td>TRDMBIJ128F4290431</td>\n",
              "      <td>Harmonia</td>\n",
              "      <td>Sehr kosmisch</td>\n",
              "    </tr>\n",
              "  </tbody>\n",
              "</table>\n",
              "</div>"
            ],
            "text/plain": [
              "                                      user_id  ...        release\n",
              "22   d68dc6fc25248234590d7668a11e3335534ae4b4  ...  Sehr kosmisch\n",
              "366  c732f882aa8d6db3bfaf8037d6418f27d3e07fc8  ...  Sehr kosmisch\n",
              "455  bdbf8ddd82fa83ef4538a15298dfca19bfc4a3ca  ...  Sehr kosmisch\n",
              "564  6493c305190b52657d4ea3f4adf367ffcf3427af  ...  Sehr kosmisch\n",
              "693  a5d92e23cf3f711dfc473f1c3b296492ec02effd  ...  Sehr kosmisch\n",
              "\n",
              "[5 rows x 6 columns]"
            ]
          },
          "metadata": {
            "tags": []
          },
          "execution_count": 86
        }
      ]
    },
    {
      "cell_type": "code",
      "metadata": {
        "colab": {
          "base_uri": "https://localhost:8080/"
        },
        "id": "Gry6uBVImkMx",
        "outputId": "678651e7-f991-47b6-e02e-97bd4ce0db11"
      },
      "source": [
        "print(\"Name of artist with most popular track:\",popular_track_info['artist_name'].unique()[0])\n",
        "print(\"Name of release with most popular track:\",popular_track_info['release'].unique()[0])\n",
        "print(\"No of unique users listening to the popular track is:\",popular_track_info['user_id'].shape[0])"
      ],
      "execution_count": null,
      "outputs": [
        {
          "output_type": "stream",
          "text": [
            "Name of artist with most popular track: Harmonia\n",
            "Name of release with most popular track: Sehr kosmisch\n",
            "No of unique users listening to the popular track is: 5043\n"
          ],
          "name": "stdout"
        }
      ]
    },
    {
      "cell_type": "markdown",
      "metadata": {
        "id": "XYjE9UV6vxCN"
      },
      "source": [
        "### Analysing frequency"
      ]
    },
    {
      "cell_type": "code",
      "metadata": {
        "colab": {
          "base_uri": "https://localhost:8080/"
        },
        "id": "hrskbST2v02V",
        "outputId": "8289607f-f1cb-45fb-d279-8fe624772888"
      },
      "source": [
        "song_df['freq'].describe()"
      ],
      "execution_count": null,
      "outputs": [
        {
          "output_type": "execute_result",
          "data": {
            "text/plain": [
              "count   1450933.000\n",
              "mean          3.187\n",
              "std           7.052\n",
              "min           1.000\n",
              "25%           1.000\n",
              "50%           1.000\n",
              "75%           3.000\n",
              "max         923.000\n",
              "Name: freq, dtype: float64"
            ]
          },
          "metadata": {
            "tags": []
          },
          "execution_count": 88
        }
      ]
    },
    {
      "cell_type": "code",
      "metadata": {
        "colab": {
          "base_uri": "https://localhost:8080/",
          "height": 487
        },
        "id": "TyB-JTqAv04B",
        "outputId": "4edb90ef-aa9b-4de8-d5e2-134bce1a2aa2"
      },
      "source": [
        "plt.figure(figsize=(8,8))\n",
        "sns.boxplot(y=song_df['freq'],palette='rainbow')"
      ],
      "execution_count": null,
      "outputs": [
        {
          "output_type": "execute_result",
          "data": {
            "text/plain": [
              "<matplotlib.axes._subplots.AxesSubplot at 0x7fa0ab071690>"
            ]
          },
          "metadata": {
            "tags": []
          },
          "execution_count": 89
        },
        {
          "output_type": "display_data",
          "data": {
            "image/png": "[encoded data removed]",
            "text/plain": [
              "<Figure size 576x576 with 1 Axes>"
            ]
          },
          "metadata": {
            "tags": []
          }
        }
      ]
    },
    {
      "cell_type": "code",
      "metadata": {
        "colab": {
          "base_uri": "https://localhost:8080/"
        },
        "id": "5qx3s9u-v086",
        "outputId": "6180b4f9-3c1b-4916-8b0b-cccb6e33fc53"
      },
      "source": [
        "print(\"Song which was palyed maximum times by a user:\",song_df['release'][song_df['freq'].max()])\n",
        "print(\"The artist of song Mondo Bongo:\",song_df['artist_name'][song_df['freq'].max()])"
      ],
      "execution_count": null,
      "outputs": [
        {
          "output_type": "stream",
          "text": [
            "Song which was palyed maximum times by a user: Son Of Dragon\n",
            "The artist of song Mondo Bongo: Liquid People\n"
          ],
          "name": "stdout"
        }
      ]
    },
    {
      "cell_type": "markdown",
      "metadata": {
        "id": "FzOHqdj_02FL"
      },
      "source": [
        "### Visualization of top 10 artist and top 10 song"
      ]
    },
    {
      "cell_type": "code",
      "metadata": {
        "colab": {
          "base_uri": "https://localhost:8080/"
        },
        "id": "v99DmJZU0-Ea",
        "outputId": "3606dbb4-3dad-444a-ab78-62e626513336"
      },
      "source": [
        "artist_top_10=song_df['artist_name'].value_counts().head(10)\n",
        "print(artist_top_10)\n",
        "x_artist=['Coldplay','Kings Of Leon','Justin Bieber','Florence + The Machine','Eminem','Muse','Jack Johnson','Taylor Swift','Train','The Black Keys']\n",
        "y_artist=[13675,11586,9259,8213,8160,7916,7465,7435,6617,6507]"
      ],
      "execution_count": null,
      "outputs": [
        {
          "output_type": "stream",
          "text": [
            "Coldplay                  12279\n",
            "Kings Of Leon              8514\n",
            "Florence + The Machine     8213\n",
            "Justin Bieber              7669\n",
            "Jack Johnson               6784\n",
            "Train                      6617\n",
            "The Black Keys             6507\n",
            "Eminem                     6297\n",
            "OneRepublic                6027\n",
            "Muse                       5849\n",
            "Name: artist_name, dtype: int64\n"
          ],
          "name": "stdout"
        }
      ]
    },
    {
      "cell_type": "code",
      "metadata": {
        "colab": {
          "base_uri": "https://localhost:8080/",
          "height": 630
        },
        "id": "HdL6Cnb40-F_",
        "outputId": "de10ecf1-7bcb-4eb8-8add-989493520905"
      },
      "source": [
        "plt.figure(figsize=(8,8))\n",
        "sns.barplot(x=x_artist,y=y_artist,palette='rainbow')\n",
        "plt.xticks(rotation=90)"
      ],
      "execution_count": null,
      "outputs": [
        {
          "output_type": "execute_result",
          "data": {
            "text/plain": [
              "(array([0, 1, 2, 3, 4, 5, 6, 7, 8, 9]),\n",
              " <a list of 10 Text major ticklabel objects>)"
            ]
          },
          "metadata": {
            "tags": []
          },
          "execution_count": 92
        },
        {
          "output_type": "display_data",
          "data": {
            "image/png": "[encoded data removed]",
            "text/plain": [
              "<Figure size 576x576 with 1 Axes>"
            ]
          },
          "metadata": {
            "tags": []
          }
        }
      ]
    },
    {
      "cell_type": "code",
      "metadata": {
        "colab": {
          "base_uri": "https://localhost:8080/"
        },
        "id": "gpOn896W0-LQ",
        "outputId": "ba1fad5e-f8d9-466c-857e-1c817dc9cbe0"
      },
      "source": [
        "song_top_10=song_df['release'].value_counts().head(10)\n",
        "print(song_top_10)\n",
        "x_songs=['Sehr kosmisch','Undo',\"You're The One\",'Use Somebody','Dog Days Are Over (Radio Edit)','Revelry','Secrets','Horn Concerto No. 4 in E flat K495: II. Romance (Andante cantabile)','Somebosy To Love','Hey_ Soul Sister']\n",
        "y_songs=[5043,4483,4270,3822,3780,3672,3456,3272,3263,2791]"
      ],
      "execution_count": null,
      "outputs": [
        {
          "output_type": "stream",
          "text": [
            "Sehr kosmisch                                                          5043\n",
            "Undo                                                                   4483\n",
            "You're The One                                                         4270\n",
            "Dog Days Are Over (Radio Edit)                                         3780\n",
            "Revelry                                                                3672\n",
            "Secrets                                                                3456\n",
            "Horn Concerto No. 4 in E flat K495: II. Romance (Andante cantabile)    3272\n",
            "Hey_ Soul Sister                                                       2791\n",
            "Fireflies                                                              2745\n",
            "Tive Sim                                                               2669\n",
            "Name: release, dtype: int64\n"
          ],
          "name": "stdout"
        }
      ]
    },
    {
      "cell_type": "code",
      "metadata": {
        "colab": {
          "base_uri": "https://localhost:8080/",
          "height": 847
        },
        "id": "KSEwxMeG0-MW",
        "outputId": "83af3266-3e26-4813-b293-8604156d7006"
      },
      "source": [
        "plt.figure(figsize=(8,8))\n",
        "sns.barplot(x=x_songs,y=y_songs,palette='rainbow')\n",
        "plt.xticks(rotation=90)"
      ],
      "execution_count": null,
      "outputs": [
        {
          "output_type": "execute_result",
          "data": {
            "text/plain": [
              "(array([0, 1, 2, 3, 4, 5, 6, 7, 8, 9]),\n",
              " <a list of 10 Text major ticklabel objects>)"
            ]
          },
          "metadata": {
            "tags": []
          },
          "execution_count": 94
        },
        {
          "output_type": "display_data",
          "data": {
            "image/png": "[encoded data removed]",
            "text/plain": [
              "<Figure size 576x576 with 1 Axes>"
            ]
          },
          "metadata": {
            "tags": []
          }
        }
      ]
    },
    {
      "cell_type": "markdown",
      "metadata": {
        "id": "FgN3q4nEwgtF"
      },
      "source": [
        "**Important takeout from frequency Analysis**\n",
        "\n",
        "*   Maximum time any song has been played by a user is 923\n",
        "*   The song which has been palyed maximum times by a user is 'Mondo Bongo'\n",
        "*   The artist of song Mondo Bongo: Joe Strummer & The Mescaleros\n",
        "\n"
      ]
    },
    {
      "cell_type": "markdown",
      "metadata": {
        "id": "BNwWCQMBmkP8"
      },
      "source": [
        "**Dropping the track_id and creating the new dataframe song_df_new**"
      ]
    },
    {
      "cell_type": "markdown",
      "metadata": {
        "id": "0XEaW-t3m02A"
      },
      "source": [
        "#Implementing Recommender System Models"
      ]
    },
    {
      "cell_type": "code",
      "metadata": {
        "id": "57Ya1Y6_nOrs"
      },
      "source": [
        "song_df_new=song_df.drop('track_id',axis=1)"
      ],
      "execution_count": null,
      "outputs": []
    },
    {
      "cell_type": "code",
      "metadata": {
        "colab": {
          "base_uri": "https://localhost:8080/"
        },
        "id": "enS-JsgkvERT",
        "outputId": "099d5576-b046-41e7-f7fb-dba8707334b9"
      },
      "source": [
        "song_df_new.columns"
      ],
      "execution_count": null,
      "outputs": [
        {
          "output_type": "execute_result",
          "data": {
            "text/plain": [
              "Index(['user_id', 'song_id', 'freq', 'artist_name', 'release'], dtype='object')"
            ]
          },
          "metadata": {
            "tags": []
          },
          "execution_count": 96
        }
      ]
    },
    {
      "cell_type": "code",
      "metadata": {
        "colab": {
          "base_uri": "https://localhost:8080/"
        },
        "id": "_KYAerxRvHcO",
        "outputId": "064e2f92-cec2-475c-e987-dc0cfec1926e"
      },
      "source": [
        "song_df_new.shape"
      ],
      "execution_count": null,
      "outputs": [
        {
          "output_type": "execute_result",
          "data": {
            "text/plain": [
              "(1450933, 5)"
            ]
          },
          "metadata": {
            "tags": []
          },
          "execution_count": 97
        }
      ]
    },
    {
      "cell_type": "code",
      "metadata": {
        "colab": {
          "base_uri": "https://localhost:8080/",
          "height": 206
        },
        "id": "qYn9qf8JvLlM",
        "outputId": "4ab79b6b-1308-42d8-e0e9-833257895148"
      },
      "source": [
        "song_df_new.head()"
      ],
      "execution_count": null,
      "outputs": [
        {
          "output_type": "execute_result",
          "data": {
            "text/html": [
              "<div>\n",
              "<style scoped>\n",
              "    .dataframe tbody tr th:only-of-type {\n",
              "        vertical-align: middle;\n",
              "    }\n",
              "\n",
              "    .dataframe tbody tr th {\n",
              "        vertical-align: top;\n",
              "    }\n",
              "\n",
              "    .dataframe thead th {\n",
              "        text-align: right;\n",
              "    }\n",
              "</style>\n",
              "<table border=\"1\" class=\"dataframe\">\n",
              "  <thead>\n",
              "    <tr style=\"text-align: right;\">\n",
              "      <th></th>\n",
              "      <th>user_id</th>\n",
              "      <th>song_id</th>\n",
              "      <th>freq</th>\n",
              "      <th>artist_name</th>\n",
              "      <th>release</th>\n",
              "    </tr>\n",
              "  </thead>\n",
              "  <tbody>\n",
              "    <tr>\n",
              "      <th>0</th>\n",
              "      <td>fd50c4007b68a3737fe052d5a4f78ce8aa117f3d</td>\n",
              "      <td>SOBONKR12A58A7A7E0</td>\n",
              "      <td>1</td>\n",
              "      <td>Dwight Yoakam</td>\n",
              "      <td>You're The One</td>\n",
              "    </tr>\n",
              "    <tr>\n",
              "      <th>1</th>\n",
              "      <td>fd50c4007b68a3737fe052d5a4f78ce8aa117f3d</td>\n",
              "      <td>SOEGIYH12A6D4FC0E3</td>\n",
              "      <td>1</td>\n",
              "      <td>Barry Tuckwell/Academy of St Martin-in-the-Fie...</td>\n",
              "      <td>Horn Concerto No. 4 in E flat K495: II. Romanc...</td>\n",
              "    </tr>\n",
              "    <tr>\n",
              "      <th>2</th>\n",
              "      <td>fd50c4007b68a3737fe052d5a4f78ce8aa117f3d</td>\n",
              "      <td>SOFLJQZ12A6D4FADA6</td>\n",
              "      <td>1</td>\n",
              "      <td>Cartola</td>\n",
              "      <td>Tive Sim</td>\n",
              "    </tr>\n",
              "    <tr>\n",
              "      <th>3</th>\n",
              "      <td>fd50c4007b68a3737fe052d5a4f78ce8aa117f3d</td>\n",
              "      <td>SOHTKMO12AB01843B0</td>\n",
              "      <td>1</td>\n",
              "      <td>Lonnie Gordon</td>\n",
              "      <td>Catch You Baby (Steve Pitron &amp; Max Sanna Radio...</td>\n",
              "    </tr>\n",
              "    <tr>\n",
              "      <th>4</th>\n",
              "      <td>fd50c4007b68a3737fe052d5a4f78ce8aa117f3d</td>\n",
              "      <td>SODQZCY12A6D4F9D11</td>\n",
              "      <td>1</td>\n",
              "      <td>Miguel Calo</td>\n",
              "      <td>El Cuatrero</td>\n",
              "    </tr>\n",
              "  </tbody>\n",
              "</table>\n",
              "</div>"
            ],
            "text/plain": [
              "                                    user_id  ...                                            release\n",
              "0  fd50c4007b68a3737fe052d5a4f78ce8aa117f3d  ...                                     You're The One\n",
              "1  fd50c4007b68a3737fe052d5a4f78ce8aa117f3d  ...  Horn Concerto No. 4 in E flat K495: II. Romanc...\n",
              "2  fd50c4007b68a3737fe052d5a4f78ce8aa117f3d  ...                                           Tive Sim\n",
              "3  fd50c4007b68a3737fe052d5a4f78ce8aa117f3d  ...  Catch You Baby (Steve Pitron & Max Sanna Radio...\n",
              "4  fd50c4007b68a3737fe052d5a4f78ce8aa117f3d  ...                                        El Cuatrero\n",
              "\n",
              "[5 rows x 5 columns]"
            ]
          },
          "metadata": {
            "tags": []
          },
          "execution_count": 98
        }
      ]
    },
    {
      "cell_type": "markdown",
      "metadata": {
        "id": "dElrElahnCgn"
      },
      "source": [
        "## Popularity Based Recommender System"
      ]
    },
    {
      "cell_type": "markdown",
      "metadata": {
        "id": "KmiOR1p9pHgg"
      },
      "source": [
        "In popularity based recommender system, we will predict which songs has been hears by maximum users i.e most popular songs and will predict them to the users."
      ]
    },
    {
      "cell_type": "code",
      "metadata": {
        "colab": {
          "base_uri": "https://localhost:8080/"
        },
        "id": "Mw55U7SUnRBm",
        "outputId": "f080e157-3106-4c0c-96f4-ade416bae2cb"
      },
      "source": [
        "song_df_new['freq'].value_counts(ascending=True).head(20)"
      ],
      "execution_count": null,
      "outputs": [
        {
          "output_type": "execute_result",
          "data": {
            "text/plain": [
              "923    1\n",
              "189    1\n",
              "259    1\n",
              "187    1\n",
              "262    1\n",
              "264    1\n",
              "265    1\n",
              "267    1\n",
              "270    1\n",
              "184    1\n",
              "274    1\n",
              "276    1\n",
              "281    1\n",
              "215    1\n",
              "283    1\n",
              "290    1\n",
              "256    1\n",
              "253    1\n",
              "198    1\n",
              "242    1\n",
              "Name: freq, dtype: int64"
            ]
          },
          "metadata": {
            "tags": []
          },
          "execution_count": 99
        }
      ]
    },
    {
      "cell_type": "code",
      "metadata": {
        "colab": {
          "base_uri": "https://localhost:8080/",
          "height": 363
        },
        "id": "9EiQDg0XnRDQ",
        "outputId": "403fa2d9-2ad1-48fa-8f9c-7a0417ee88cb"
      },
      "source": [
        "most_freq_by_user=song_df_new.sort_values('freq',ascending=False)\n",
        "most_freq_by_user.head(10)"
      ],
      "execution_count": null,
      "outputs": [
        {
          "output_type": "execute_result",
          "data": {
            "text/html": [
              "<div>\n",
              "<style scoped>\n",
              "    .dataframe tbody tr th:only-of-type {\n",
              "        vertical-align: middle;\n",
              "    }\n",
              "\n",
              "    .dataframe tbody tr th {\n",
              "        vertical-align: top;\n",
              "    }\n",
              "\n",
              "    .dataframe thead th {\n",
              "        text-align: right;\n",
              "    }\n",
              "</style>\n",
              "<table border=\"1\" class=\"dataframe\">\n",
              "  <thead>\n",
              "    <tr style=\"text-align: right;\">\n",
              "      <th></th>\n",
              "      <th>user_id</th>\n",
              "      <th>song_id</th>\n",
              "      <th>freq</th>\n",
              "      <th>artist_name</th>\n",
              "      <th>release</th>\n",
              "    </tr>\n",
              "  </thead>\n",
              "  <tbody>\n",
              "    <tr>\n",
              "      <th>1449167</th>\n",
              "      <td>22bb29714137fa47083963c30e1a26f1bf517e7d</td>\n",
              "      <td>SOXTUWG12AB018A2E2</td>\n",
              "      <td>923</td>\n",
              "      <td>Kilgore</td>\n",
              "      <td>Drop The Hammer (Album Version)</td>\n",
              "    </tr>\n",
              "    <tr>\n",
              "      <th>838445</th>\n",
              "      <td>a1cc4d088600df2db42e6a305974675ffe8c905d</td>\n",
              "      <td>SOPMHHE12AB01845F6</td>\n",
              "      <td>646</td>\n",
              "      <td>The Beach Boys</td>\n",
              "      <td>What Is a Young Girl Made of</td>\n",
              "    </tr>\n",
              "    <tr>\n",
              "      <th>471133</th>\n",
              "      <td>2d9ea6058d0872ccdc5b1c5c685758bb9c55f0a3</td>\n",
              "      <td>SOAOXTG12A67021AA7</td>\n",
              "      <td>597</td>\n",
              "      <td>Ms. Dynamite / Kymani Marley</td>\n",
              "      <td>Seed Will Grow</td>\n",
              "    </tr>\n",
              "    <tr>\n",
              "      <th>1297745</th>\n",
              "      <td>69ad6b6a1d14d740eb8c2f013a19c1f8048cecde</td>\n",
              "      <td>SONGOJV12AF729AEBD</td>\n",
              "      <td>582</td>\n",
              "      <td>Queen</td>\n",
              "      <td>Somebody To Love</td>\n",
              "    </tr>\n",
              "    <tr>\n",
              "      <th>642730</th>\n",
              "      <td>a86e68128c6a48d3392db22ce1151a3bdccf5fcf</td>\n",
              "      <td>SOFVLYV12A8C145D8F</td>\n",
              "      <td>537</td>\n",
              "      <td>Us3</td>\n",
              "      <td>Believe In Yourself</td>\n",
              "    </tr>\n",
              "    <tr>\n",
              "      <th>363980</th>\n",
              "      <td>9d12c30de5d9975f621f95f512699989ac544410</td>\n",
              "      <td>SOFFXAQ12A8AE45C2E</td>\n",
              "      <td>535</td>\n",
              "      <td>Fear My Thoughts</td>\n",
              "      <td>Death Chamber</td>\n",
              "    </tr>\n",
              "    <tr>\n",
              "      <th>178584</th>\n",
              "      <td>fa82c0a1a93b7c52870d7b0a004b444bbdf19401</td>\n",
              "      <td>SOCNAXF12A6D4F9B34</td>\n",
              "      <td>500</td>\n",
              "      <td>Alliance Ethnik</td>\n",
              "      <td>Creil City</td>\n",
              "    </tr>\n",
              "    <tr>\n",
              "      <th>124736</th>\n",
              "      <td>388f7b7150bd020ce59b82603f7dd29f590ff8ed</td>\n",
              "      <td>SORJSQI12A6701D62D</td>\n",
              "      <td>478</td>\n",
              "      <td>Deep Dish</td>\n",
              "      <td>Say Hello (Angello &amp; Ingrosso Remix)</td>\n",
              "    </tr>\n",
              "    <tr>\n",
              "      <th>186575</th>\n",
              "      <td>fbda29133162e205279fd1c49119ea0a28c163c1</td>\n",
              "      <td>SODWONG12A8C1421B3</td>\n",
              "      <td>476</td>\n",
              "      <td>Brad Paisley</td>\n",
              "      <td>I'm Still A Guy</td>\n",
              "    </tr>\n",
              "    <tr>\n",
              "      <th>1232498</th>\n",
              "      <td>090b841eaf56d343a26625c2c6d08b823927bc4f</td>\n",
              "      <td>SOJSXJY12A8C13E32E</td>\n",
              "      <td>463</td>\n",
              "      <td>Clara Hill</td>\n",
              "      <td>Clara meets Slope - Hard To Say</td>\n",
              "    </tr>\n",
              "  </tbody>\n",
              "</table>\n",
              "</div>"
            ],
            "text/plain": [
              "                                          user_id  ...                               release\n",
              "1449167  22bb29714137fa47083963c30e1a26f1bf517e7d  ...       Drop The Hammer (Album Version)\n",
              "838445   a1cc4d088600df2db42e6a305974675ffe8c905d  ...          What Is a Young Girl Made of\n",
              "471133   2d9ea6058d0872ccdc5b1c5c685758bb9c55f0a3  ...                        Seed Will Grow\n",
              "1297745  69ad6b6a1d14d740eb8c2f013a19c1f8048cecde  ...                      Somebody To Love\n",
              "642730   a86e68128c6a48d3392db22ce1151a3bdccf5fcf  ...                   Believe In Yourself\n",
              "363980   9d12c30de5d9975f621f95f512699989ac544410  ...                         Death Chamber\n",
              "178584   fa82c0a1a93b7c52870d7b0a004b444bbdf19401  ...                            Creil City\n",
              "124736   388f7b7150bd020ce59b82603f7dd29f590ff8ed  ...  Say Hello (Angello & Ingrosso Remix)\n",
              "186575   fbda29133162e205279fd1c49119ea0a28c163c1  ...                       I'm Still A Guy\n",
              "1232498  090b841eaf56d343a26625c2c6d08b823927bc4f  ...       Clara meets Slope - Hard To Say\n",
              "\n",
              "[10 rows x 5 columns]"
            ]
          },
          "metadata": {
            "tags": []
          },
          "execution_count": 100
        }
      ]
    },
    {
      "cell_type": "markdown",
      "metadata": {
        "id": "N2Frx2xbrqqs"
      },
      "source": [
        "**These are the top 10 most popular songs which are palyed by most of the users and we can recommend them to other users.**"
      ]
    },
    {
      "cell_type": "code",
      "metadata": {
        "colab": {
          "base_uri": "https://localhost:8080/"
        },
        "id": "6aAt4ivgnRJV",
        "outputId": "1f71cd81-be1f-48b3-d534-32000ae1156a"
      },
      "source": [
        "popular_among_users=song_df_new['release'].value_counts(ascending=False).head(10)\n",
        "print(\"Top 10 popular songs are:- \")\n",
        "print(popular_among_users)"
      ],
      "execution_count": null,
      "outputs": [
        {
          "output_type": "stream",
          "text": [
            "Top 10 popular songs are:- \n",
            "Sehr kosmisch                                                          5043\n",
            "Undo                                                                   4483\n",
            "You're The One                                                         4270\n",
            "Dog Days Are Over (Radio Edit)                                         3780\n",
            "Revelry                                                                3672\n",
            "Secrets                                                                3456\n",
            "Horn Concerto No. 4 in E flat K495: II. Romance (Andante cantabile)    3272\n",
            "Hey_ Soul Sister                                                       2791\n",
            "Fireflies                                                              2745\n",
            "Tive Sim                                                               2669\n",
            "Name: release, dtype: int64\n"
          ],
          "name": "stdout"
        }
      ]
    },
    {
      "cell_type": "markdown",
      "metadata": {
        "id": "rVV98ggQkZjs"
      },
      "source": [
        "**Creating the dataframe of these 10 most popular songs** "
      ]
    },
    {
      "cell_type": "code",
      "metadata": {
        "colab": {
          "base_uri": "https://localhost:8080/",
          "height": 363
        },
        "id": "OtmnwPjycO4E",
        "outputId": "2f8030d4-335f-4ba4-be63-a6f737788b54"
      },
      "source": [
        "popular_among_users_df=popular_among_users.to_frame() # Changing series to dataframe\n",
        "popular_among_users_df.reset_index(level=0,inplace=True) # Changing index column into column\n",
        "popular_among_users_df.columns=['song_name','frequency'] #Changing the name of the columns\n",
        "popular_among_users_df"
      ],
      "execution_count": null,
      "outputs": [
        {
          "output_type": "execute_result",
          "data": {
            "text/html": [
              "<div>\n",
              "<style scoped>\n",
              "    .dataframe tbody tr th:only-of-type {\n",
              "        vertical-align: middle;\n",
              "    }\n",
              "\n",
              "    .dataframe tbody tr th {\n",
              "        vertical-align: top;\n",
              "    }\n",
              "\n",
              "    .dataframe thead th {\n",
              "        text-align: right;\n",
              "    }\n",
              "</style>\n",
              "<table border=\"1\" class=\"dataframe\">\n",
              "  <thead>\n",
              "    <tr style=\"text-align: right;\">\n",
              "      <th></th>\n",
              "      <th>song_name</th>\n",
              "      <th>frequency</th>\n",
              "    </tr>\n",
              "  </thead>\n",
              "  <tbody>\n",
              "    <tr>\n",
              "      <th>0</th>\n",
              "      <td>Sehr kosmisch</td>\n",
              "      <td>5043</td>\n",
              "    </tr>\n",
              "    <tr>\n",
              "      <th>1</th>\n",
              "      <td>Undo</td>\n",
              "      <td>4483</td>\n",
              "    </tr>\n",
              "    <tr>\n",
              "      <th>2</th>\n",
              "      <td>You're The One</td>\n",
              "      <td>4270</td>\n",
              "    </tr>\n",
              "    <tr>\n",
              "      <th>3</th>\n",
              "      <td>Dog Days Are Over (Radio Edit)</td>\n",
              "      <td>3780</td>\n",
              "    </tr>\n",
              "    <tr>\n",
              "      <th>4</th>\n",
              "      <td>Revelry</td>\n",
              "      <td>3672</td>\n",
              "    </tr>\n",
              "    <tr>\n",
              "      <th>5</th>\n",
              "      <td>Secrets</td>\n",
              "      <td>3456</td>\n",
              "    </tr>\n",
              "    <tr>\n",
              "      <th>6</th>\n",
              "      <td>Horn Concerto No. 4 in E flat K495: II. Romanc...</td>\n",
              "      <td>3272</td>\n",
              "    </tr>\n",
              "    <tr>\n",
              "      <th>7</th>\n",
              "      <td>Hey_ Soul Sister</td>\n",
              "      <td>2791</td>\n",
              "    </tr>\n",
              "    <tr>\n",
              "      <th>8</th>\n",
              "      <td>Fireflies</td>\n",
              "      <td>2745</td>\n",
              "    </tr>\n",
              "    <tr>\n",
              "      <th>9</th>\n",
              "      <td>Tive Sim</td>\n",
              "      <td>2669</td>\n",
              "    </tr>\n",
              "  </tbody>\n",
              "</table>\n",
              "</div>"
            ],
            "text/plain": [
              "                                           song_name  frequency\n",
              "0                                      Sehr kosmisch       5043\n",
              "1                                               Undo       4483\n",
              "2                                     You're The One       4270\n",
              "3                     Dog Days Are Over (Radio Edit)       3780\n",
              "4                                            Revelry       3672\n",
              "5                                            Secrets       3456\n",
              "6  Horn Concerto No. 4 in E flat K495: II. Romanc...       3272\n",
              "7                                   Hey_ Soul Sister       2791\n",
              "8                                          Fireflies       2745\n",
              "9                                           Tive Sim       2669"
            ]
          },
          "metadata": {
            "tags": []
          },
          "execution_count": 102
        }
      ]
    },
    {
      "cell_type": "markdown",
      "metadata": {
        "id": "fCtqNXt6jbmV"
      },
      "source": [
        "**Visuslizing top 10 popular song among users**"
      ]
    },
    {
      "cell_type": "code",
      "metadata": {
        "colab": {
          "base_uri": "https://localhost:8080/",
          "height": 861
        },
        "id": "jPg150GrcO_C",
        "outputId": "828bf3d1-d5df-4752-e179-82b54e763404"
      },
      "source": [
        "plt.figure(figsize=(8,8))\n",
        "sns.barplot(x=popular_among_users_df['song_name'],y=popular_among_users_df['frequency'],palette='rainbow')\n",
        "plt.xticks(rotation=90)"
      ],
      "execution_count": null,
      "outputs": [
        {
          "output_type": "execute_result",
          "data": {
            "text/plain": [
              "(array([0, 1, 2, 3, 4, 5, 6, 7, 8, 9]),\n",
              " <a list of 10 Text major ticklabel objects>)"
            ]
          },
          "metadata": {
            "tags": []
          },
          "execution_count": 103
        },
        {
          "output_type": "display_data",
          "data": {
            "image/png": "[encoded data removed]",
            "text/plain": [
              "<Figure size 576x576 with 1 Axes>"
            ]
          },
          "metadata": {
            "tags": []
          }
        }
      ]
    },
    {
      "cell_type": "markdown",
      "metadata": {
        "id": "QeMh9WJ5nCqk"
      },
      "source": [
        "## Content Based Recommender System"
      ]
    },
    {
      "cell_type": "code",
      "metadata": {
        "id": "2ON0EGhOpiV-"
      },
      "source": [
        "import scipy"
      ],
      "execution_count": null,
      "outputs": []
    },
    {
      "cell_type": "code",
      "metadata": {
        "colab": {
          "base_uri": "https://localhost:8080/",
          "height": 458
        },
        "id": "bLb83KkIATnl",
        "outputId": "1bad9000-ce94-4cc0-ae37-538735fb14e7"
      },
      "source": [
        " song_df_content=song_df.head(10000)\n",
        "song_df_content"
      ],
      "execution_count": null,
      "outputs": [
        {
          "output_type": "execute_result",
          "data": {
            "text/html": [
              "<div>\n",
              "<style scoped>\n",
              "    .dataframe tbody tr th:only-of-type {\n",
              "        vertical-align: middle;\n",
              "    }\n",
              "\n",
              "    .dataframe tbody tr th {\n",
              "        vertical-align: top;\n",
              "    }\n",
              "\n",
              "    .dataframe thead th {\n",
              "        text-align: right;\n",
              "    }\n",
              "</style>\n",
              "<table border=\"1\" class=\"dataframe\">\n",
              "  <thead>\n",
              "    <tr style=\"text-align: right;\">\n",
              "      <th></th>\n",
              "      <th>user_id</th>\n",
              "      <th>song_id</th>\n",
              "      <th>freq</th>\n",
              "      <th>track_id</th>\n",
              "      <th>artist_name</th>\n",
              "      <th>release</th>\n",
              "    </tr>\n",
              "  </thead>\n",
              "  <tbody>\n",
              "    <tr>\n",
              "      <th>0</th>\n",
              "      <td>fd50c4007b68a3737fe052d5a4f78ce8aa117f3d</td>\n",
              "      <td>SOBONKR12A58A7A7E0</td>\n",
              "      <td>1</td>\n",
              "      <td>TRAEHHJ12903CF492F</td>\n",
              "      <td>Dwight Yoakam</td>\n",
              "      <td>You're The One</td>\n",
              "    </tr>\n",
              "    <tr>\n",
              "      <th>1</th>\n",
              "      <td>fd50c4007b68a3737fe052d5a4f78ce8aa117f3d</td>\n",
              "      <td>SOEGIYH12A6D4FC0E3</td>\n",
              "      <td>1</td>\n",
              "      <td>TRLGMFJ128F4217DBE</td>\n",
              "      <td>Barry Tuckwell/Academy of St Martin-in-the-Fie...</td>\n",
              "      <td>Horn Concerto No. 4 in E flat K495: II. Romanc...</td>\n",
              "    </tr>\n",
              "    <tr>\n",
              "      <th>2</th>\n",
              "      <td>fd50c4007b68a3737fe052d5a4f78ce8aa117f3d</td>\n",
              "      <td>SOFLJQZ12A6D4FADA6</td>\n",
              "      <td>1</td>\n",
              "      <td>TRTNDNE128F1486812</td>\n",
              "      <td>Cartola</td>\n",
              "      <td>Tive Sim</td>\n",
              "    </tr>\n",
              "    <tr>\n",
              "      <th>3</th>\n",
              "      <td>fd50c4007b68a3737fe052d5a4f78ce8aa117f3d</td>\n",
              "      <td>SOHTKMO12AB01843B0</td>\n",
              "      <td>1</td>\n",
              "      <td>TRASTUE128F930D488</td>\n",
              "      <td>Lonnie Gordon</td>\n",
              "      <td>Catch You Baby (Steve Pitron &amp; Max Sanna Radio...</td>\n",
              "    </tr>\n",
              "    <tr>\n",
              "      <th>4</th>\n",
              "      <td>fd50c4007b68a3737fe052d5a4f78ce8aa117f3d</td>\n",
              "      <td>SODQZCY12A6D4F9D11</td>\n",
              "      <td>1</td>\n",
              "      <td>TRFPLWO128F1486B9E</td>\n",
              "      <td>Miguel Calo</td>\n",
              "      <td>El Cuatrero</td>\n",
              "    </tr>\n",
              "    <tr>\n",
              "      <th>...</th>\n",
              "      <td>...</td>\n",
              "      <td>...</td>\n",
              "      <td>...</td>\n",
              "      <td>...</td>\n",
              "      <td>...</td>\n",
              "      <td>...</td>\n",
              "    </tr>\n",
              "    <tr>\n",
              "      <th>9995</th>\n",
              "      <td>4e7abd655b2d28d772b20cbc912f3bdd542229d7</td>\n",
              "      <td>SOCKSGZ12A58A7CA4B</td>\n",
              "      <td>2</td>\n",
              "      <td>TRQTLTB128F92F785B</td>\n",
              "      <td>Linkin Park</td>\n",
              "      <td>Bleed It Out [Live At Milton Keynes]</td>\n",
              "    </tr>\n",
              "    <tr>\n",
              "      <th>9996</th>\n",
              "      <td>4e7abd655b2d28d772b20cbc912f3bdd542229d7</td>\n",
              "      <td>SOQLUTQ12A8AE48037</td>\n",
              "      <td>1</td>\n",
              "      <td>TRTEGUJ128F425B7D3</td>\n",
              "      <td>Foo Fighters</td>\n",
              "      <td>The Pretender</td>\n",
              "    </tr>\n",
              "    <tr>\n",
              "      <th>9997</th>\n",
              "      <td>4e7abd655b2d28d772b20cbc912f3bdd542229d7</td>\n",
              "      <td>SOONKHS12AB018E4C6</td>\n",
              "      <td>10</td>\n",
              "      <td>TRHJNJB12903CCF029</td>\n",
              "      <td>Madonna</td>\n",
              "      <td>Revolver [feat. Lil Wayne]</td>\n",
              "    </tr>\n",
              "    <tr>\n",
              "      <th>9998</th>\n",
              "      <td>4e7abd655b2d28d772b20cbc912f3bdd542229d7</td>\n",
              "      <td>SOUGUKH12A8C13FBB0</td>\n",
              "      <td>3</td>\n",
              "      <td>TRLICFS128F42920C9</td>\n",
              "      <td>The Wombats</td>\n",
              "      <td>Moving To New York (album version)</td>\n",
              "    </tr>\n",
              "    <tr>\n",
              "      <th>9999</th>\n",
              "      <td>4e7abd655b2d28d772b20cbc912f3bdd542229d7</td>\n",
              "      <td>SOLWHSJ12A67AE227B</td>\n",
              "      <td>1</td>\n",
              "      <td>TRORPHN128E0797FC4</td>\n",
              "      <td>Linkin Park</td>\n",
              "      <td>One Step Closer (Album Version)</td>\n",
              "    </tr>\n",
              "  </tbody>\n",
              "</table>\n",
              "<p>10000 rows × 6 columns</p>\n",
              "</div>"
            ],
            "text/plain": [
              "                                       user_id  ...                                            release\n",
              "0     fd50c4007b68a3737fe052d5a4f78ce8aa117f3d  ...                                     You're The One\n",
              "1     fd50c4007b68a3737fe052d5a4f78ce8aa117f3d  ...  Horn Concerto No. 4 in E flat K495: II. Romanc...\n",
              "2     fd50c4007b68a3737fe052d5a4f78ce8aa117f3d  ...                                           Tive Sim\n",
              "3     fd50c4007b68a3737fe052d5a4f78ce8aa117f3d  ...  Catch You Baby (Steve Pitron & Max Sanna Radio...\n",
              "4     fd50c4007b68a3737fe052d5a4f78ce8aa117f3d  ...                                        El Cuatrero\n",
              "...                                        ...  ...                                                ...\n",
              "9995  4e7abd655b2d28d772b20cbc912f3bdd542229d7  ...               Bleed It Out [Live At Milton Keynes]\n",
              "9996  4e7abd655b2d28d772b20cbc912f3bdd542229d7  ...                                      The Pretender\n",
              "9997  4e7abd655b2d28d772b20cbc912f3bdd542229d7  ...                         Revolver [feat. Lil Wayne]\n",
              "9998  4e7abd655b2d28d772b20cbc912f3bdd542229d7  ...                 Moving To New York (album version)\n",
              "9999  4e7abd655b2d28d772b20cbc912f3bdd542229d7  ...                    One Step Closer (Album Version)\n",
              "\n",
              "[10000 rows x 6 columns]"
            ]
          },
          "metadata": {
            "tags": []
          },
          "execution_count": 105
        }
      ]
    },
    {
      "cell_type": "code",
      "metadata": {
        "id": "jmmqjZFvpic-"
      },
      "source": [
        "#from collections import defaultdict\n",
        "#d=defaultdict(LabelEncoder)\n",
        "#fit=song_df.apply(lambda x:d[x.name].fit_transform(x))"
      ],
      "execution_count": null,
      "outputs": []
    },
    {
      "cell_type": "code",
      "metadata": {
        "id": "my1rm5rNpieG"
      },
      "source": [
        "#sparse_matrix=scipy.sparse.csr_matrix(fit.values)"
      ],
      "execution_count": null,
      "outputs": []
    },
    {
      "cell_type": "code",
      "metadata": {
        "id": "Be9Pkv4Ipih1"
      },
      "source": [
        "#print(sparse_matrix)"
      ],
      "execution_count": null,
      "outputs": []
    },
    {
      "cell_type": "code",
      "metadata": {
        "id": "CeiFo6-Qh0Ft"
      },
      "source": [
        "#sparse_matrix.shape"
      ],
      "execution_count": null,
      "outputs": []
    },
    {
      "cell_type": "code",
      "metadata": {
        "id": "7TmotyUGh0II"
      },
      "source": [
        "#from sklearn.metrics.pairwise import sigmoid_kernel"
      ],
      "execution_count": null,
      "outputs": []
    },
    {
      "cell_type": "code",
      "metadata": {
        "id": "anTenSh0h0Ke"
      },
      "source": [
        "#sig=sigmoid_kernel(sparse_matrix,sparse_matrix)"
      ],
      "execution_count": null,
      "outputs": []
    },
    {
      "cell_type": "code",
      "metadata": {
        "id": "vXXedDqWh0M6"
      },
      "source": [
        "from sklearn.feature_extraction.text import TfidfVectorizer"
      ],
      "execution_count": null,
      "outputs": []
    },
    {
      "cell_type": "markdown",
      "metadata": {
        "id": "W0zBhhGXTy3i"
      },
      "source": [
        "<b>What is TF-IDF?</b><br>\n",
        "The full form is term frequency and inverse document frequecy.\n",
        "we multiply the TF and IDF to convert out sentence to vector.<br>\n",
        "TF=No. of repetation of words in sentence/ No. of words in sentence<br>\n",
        "From this formula it calculates the term frequency.<br>\n",
        "IDF= log(NO. of sentences/No.of sentences containing the words)<br>\n",
        "After getting the both values we multiply the TF and IDF.After multiplying we will get the frequency of words with respect to importance of words.\n",
        "Here we get different values for each word.\n"
      ]
    },
    {
      "cell_type": "code",
      "metadata": {
        "id": "JHUWTamVh0Pf"
      },
      "source": [
        "tf=TfidfVectorizer(min_df=3,max_features=None,strip_accents=\"unicode\",analyzer='word',ngram_range=(1,3),stop_words=\"english\")"
      ],
      "execution_count": null,
      "outputs": []
    },
    {
      "cell_type": "code",
      "metadata": {
        "id": "D7NnToJ2h0S_"
      },
      "source": [
        "song_df_content[\"release\"]=song_df_content[\"release\"].drop_duplicates()\n",
        "song_df_content[\"release\"]=song_df_content[\"release\"].fillna('')"
      ],
      "execution_count": null,
      "outputs": []
    },
    {
      "cell_type": "markdown",
      "metadata": {
        "id": "ZFkiSit9XlXf"
      },
      "source": [
        "Here we have removed the duplicate releases, to make sure our recommendations to be unique and different relseas."
      ]
    },
    {
      "cell_type": "code",
      "metadata": {
        "colab": {
          "base_uri": "https://localhost:8080/"
        },
        "id": "By28Qw72iBN9",
        "outputId": "e52a0fd2-e565-4690-ab06-819d73218a8d"
      },
      "source": [
        "tfv_matrix=tf.fit_transform(song_df_content[\"release\"])\n",
        "tfv_matrix"
      ],
      "execution_count": null,
      "outputs": [
        {
          "output_type": "execute_result",
          "data": {
            "text/plain": [
              "<10000x1176 sparse matrix of type '<class 'numpy.float64'>'\n",
              "\twith 11687 stored elements in Compressed Sparse Row format>"
            ]
          },
          "metadata": {
            "tags": []
          },
          "execution_count": 115
        }
      ]
    },
    {
      "cell_type": "markdown",
      "metadata": {
        "id": "t2nZVqKRYCcY"
      },
      "source": [
        "We have applied the TF-IDF on release feature of dataset."
      ]
    },
    {
      "cell_type": "code",
      "metadata": {
        "colab": {
          "base_uri": "https://localhost:8080/"
        },
        "id": "ZzusqFYxiBQd",
        "outputId": "a7c107e1-5f13-4226-d0f4-8532c890c6c2"
      },
      "source": [
        "tfv_matrix"
      ],
      "execution_count": null,
      "outputs": [
        {
          "output_type": "execute_result",
          "data": {
            "text/plain": [
              "<10000x1176 sparse matrix of type '<class 'numpy.float64'>'\n",
              "\twith 11687 stored elements in Compressed Sparse Row format>"
            ]
          },
          "metadata": {
            "tags": []
          },
          "execution_count": 116
        }
      ]
    },
    {
      "cell_type": "markdown",
      "metadata": {
        "id": "OahrvwYuYLLR"
      },
      "source": [
        "Here we can see we have got our Sparse matrix with shape (10000,2459)"
      ]
    },
    {
      "cell_type": "code",
      "metadata": {
        "id": "ROo4VswTiBSo"
      },
      "source": [
        "from sklearn.metrics.pairwise import linear_kernel\n",
        "from sklearn.metrics.pairwise import sigmoid_kernel\n",
        "from sklearn.metrics.pairwise import cosine_similarity"
      ],
      "execution_count": null,
      "outputs": []
    },
    {
      "cell_type": "code",
      "metadata": {
        "id": "hEEN72jG8x7W"
      },
      "source": [
        "cosine_similarities=linear_kernel(tfv_matrix,tfv_matrix)"
      ],
      "execution_count": null,
      "outputs": []
    },
    {
      "cell_type": "code",
      "metadata": {
        "colab": {
          "base_uri": "https://localhost:8080/"
        },
        "id": "UZWTAxu3xkeR",
        "outputId": "4ce09dd5-f2c3-4673-c49b-5602d44983ed"
      },
      "source": [
        "cosine_similarities[1]"
      ],
      "execution_count": null,
      "outputs": [
        {
          "output_type": "execute_result",
          "data": {
            "text/plain": [
              "array([0., 1., 0., ..., 0., 0., 0.])"
            ]
          },
          "metadata": {
            "tags": []
          },
          "execution_count": 119
        }
      ]
    },
    {
      "cell_type": "code",
      "metadata": {
        "id": "f3OKTyYBiBY7"
      },
      "source": [
        "indices=pd.Series(song_df_content.index,index=song_df_content[\"artist_name\"]).drop_duplicates()"
      ],
      "execution_count": null,
      "outputs": []
    },
    {
      "cell_type": "markdown",
      "metadata": {
        "id": "tYFs1GjabFUg"
      },
      "source": [
        "<b>What is cosine smilarity?</b><br>\n",
        "Here we compute the angle between two vectores drawn from origin to towards the two points. cosine similarity is the angle between the two points. Smaller the theta more close the points, means more similar.<br>\n",
        "cosine distance =1-cosine similarity<br>\n",
        "cosine similarity=cos(theta)<br>\n",
        "theta is angle between two vectores."
      ]
    },
    {
      "cell_type": "code",
      "metadata": {
        "colab": {
          "base_uri": "https://localhost:8080/"
        },
        "id": "9APUvZ8DiNF8",
        "outputId": "70cd4f75-8ceb-4db9-ed62-3b3b9a2de709"
      },
      "source": [
        "indices"
      ],
      "execution_count": null,
      "outputs": [
        {
          "output_type": "execute_result",
          "data": {
            "text/plain": [
              "artist_name\n",
              "Dwight Yoakam                                                                0\n",
              "Barry Tuckwell/Academy of St Martin-in-the-Fields/Sir Neville Marriner       1\n",
              "Cartola                                                                      2\n",
              "Lonnie Gordon                                                                3\n",
              "Miguel Calo                                                                  4\n",
              "                                                                          ... \n",
              "Linkin Park                                                               9995\n",
              "Foo Fighters                                                              9996\n",
              "Madonna                                                                   9997\n",
              "The Wombats                                                               9998\n",
              "Linkin Park                                                               9999\n",
              "Length: 10000, dtype: int64"
            ]
          },
          "metadata": {
            "tags": []
          },
          "execution_count": 121
        }
      ]
    },
    {
      "cell_type": "code",
      "metadata": {
        "id": "FhXNIA2OiNIJ"
      },
      "source": [
        "def giv_rec(artist_name,cosine_similarities=cosine_similarities):\n",
        "    idx=indices[artist_name][0]\n",
        "    sig_scores=list(enumerate(cosine_similarities[idx]))\n",
        "    sig_scores=sorted(sig_scores,key=lambda x:x[1],reverse=True)\n",
        "    sig_scores=sig_scores[1:11]\n",
        "    song_indices=[i[0] for i in sig_scores]\n",
        "    return song_df[[\"artist_name\",\"release\"]].iloc[song_indices]"
      ],
      "execution_count": null,
      "outputs": []
    },
    {
      "cell_type": "markdown",
      "metadata": {
        "id": "Gtqq_p1ZdIpM"
      },
      "source": [
        "Here we have built the function to get the input from user and recommed <br>the diffrent release from our recommendation engine."
      ]
    },
    {
      "cell_type": "code",
      "metadata": {
        "colab": {
          "base_uri": "https://localhost:8080/",
          "height": 363
        },
        "id": "4VTrrEOFiNKs",
        "outputId": "64ce3871-b84d-44a5-e855-5efd16004827"
      },
      "source": [
        "giv_rec(\"Madonna\")"
      ],
      "execution_count": null,
      "outputs": [
        {
          "output_type": "execute_result",
          "data": {
            "text/html": [
              "<div>\n",
              "<style scoped>\n",
              "    .dataframe tbody tr th:only-of-type {\n",
              "        vertical-align: middle;\n",
              "    }\n",
              "\n",
              "    .dataframe tbody tr th {\n",
              "        vertical-align: top;\n",
              "    }\n",
              "\n",
              "    .dataframe thead th {\n",
              "        text-align: right;\n",
              "    }\n",
              "</style>\n",
              "<table border=\"1\" class=\"dataframe\">\n",
              "  <thead>\n",
              "    <tr style=\"text-align: right;\">\n",
              "      <th></th>\n",
              "      <th>artist_name</th>\n",
              "      <th>release</th>\n",
              "    </tr>\n",
              "  </thead>\n",
              "  <tbody>\n",
              "    <tr>\n",
              "      <th>6870</th>\n",
              "      <td>Britney Spears</td>\n",
              "      <td>The Beat Goes On</td>\n",
              "    </tr>\n",
              "    <tr>\n",
              "      <th>2780</th>\n",
              "      <td>Twista feat. Kayne West &amp; Jamie Foxx</td>\n",
              "      <td>Slow Jamz (Feat. Kanye West &amp; Jamie Foxx) (Edi...</td>\n",
              "    </tr>\n",
              "    <tr>\n",
              "      <th>476</th>\n",
              "      <td>Kid Sister</td>\n",
              "      <td>Pro Nails ft. Kanye West [Radio Edit]</td>\n",
              "    </tr>\n",
              "    <tr>\n",
              "      <th>7647</th>\n",
              "      <td>Sonny &amp; Cher</td>\n",
              "      <td>The Beat Goes On (Single Version)</td>\n",
              "    </tr>\n",
              "    <tr>\n",
              "      <th>6582</th>\n",
              "      <td>Fort Minor [Featuring Holly Brook And Jonah Ma...</td>\n",
              "      <td>Where'd You Go (Featuring Holly Brook &amp; Jonah ...</td>\n",
              "    </tr>\n",
              "    <tr>\n",
              "      <th>6958</th>\n",
              "      <td>Danger Doom</td>\n",
              "      <td>The Mask (Featuring Ghostface Killah) (Album V...</td>\n",
              "    </tr>\n",
              "    <tr>\n",
              "      <th>4096</th>\n",
              "      <td>Andrew Bird</td>\n",
              "      <td>Dora Goes To Town (Album Version)</td>\n",
              "    </tr>\n",
              "    <tr>\n",
              "      <th>1697</th>\n",
              "      <td>The Avett Brothers</td>\n",
              "      <td>It Goes On And On</td>\n",
              "    </tr>\n",
              "    <tr>\n",
              "      <th>1842</th>\n",
              "      <td>Fall Out Boy</td>\n",
              "      <td>Beat It</td>\n",
              "    </tr>\n",
              "    <tr>\n",
              "      <th>7291</th>\n",
              "      <td>Aaron Carter</td>\n",
              "      <td>That's How I Beat Shaq</td>\n",
              "    </tr>\n",
              "  </tbody>\n",
              "</table>\n",
              "</div>"
            ],
            "text/plain": [
              "                                            artist_name                                            release\n",
              "6870                                     Britney Spears                                   The Beat Goes On\n",
              "2780               Twista feat. Kayne West & Jamie Foxx  Slow Jamz (Feat. Kanye West & Jamie Foxx) (Edi...\n",
              "476                                          Kid Sister              Pro Nails ft. Kanye West [Radio Edit]\n",
              "7647                                       Sonny & Cher                  The Beat Goes On (Single Version)\n",
              "6582  Fort Minor [Featuring Holly Brook And Jonah Ma...  Where'd You Go (Featuring Holly Brook & Jonah ...\n",
              "6958                                        Danger Doom  The Mask (Featuring Ghostface Killah) (Album V...\n",
              "4096                                        Andrew Bird                  Dora Goes To Town (Album Version)\n",
              "1697                                 The Avett Brothers                                  It Goes On And On\n",
              "1842                                       Fall Out Boy                                            Beat It\n",
              "7291                                       Aaron Carter                             That's How I Beat Shaq"
            ]
          },
          "metadata": {
            "tags": []
          },
          "execution_count": 123
        }
      ]
    },
    {
      "cell_type": "markdown",
      "metadata": {
        "id": "9amHV3WRd1t2"
      },
      "source": [
        "We can see if the person listens to Beat Goes On [Featuring Kanye West] (Album Version) then it will suggest the beat goes on from britney Spears and following recommendations."
      ]
    },
    {
      "cell_type": "code",
      "metadata": {
        "id": "JVHGFMfriNQu"
      },
      "source": [
        ""
      ],
      "execution_count": null,
      "outputs": []
    },
    {
      "cell_type": "markdown",
      "metadata": {
        "id": "ZKx10FREnC15"
      },
      "source": [
        "## Collaborative Based Recommender System"
      ]
    },
    {
      "cell_type": "markdown",
      "metadata": {
        "id": "V9HO03AIU2uC"
      },
      "source": [
        "Collaborative Filters work with an interaction matrix, also called rating matrix. The aim of this algorithm is to learn a function that can predict if a user will benefit from an item - meaning the user will likely buy, listen to, watch this item.\n",
        "\n",
        "Among collaborative-based systems, we can encounter two types: user-item filtering and item-item filtering.\n",
        "\n",
        "We'll go through the steps for generating a music recommender system. This time, we are going to use a matrix factorization approach"
      ]
    },
    {
      "cell_type": "code",
      "metadata": {
        "id": "t-QhpB9DpkKn"
      },
      "source": [
        "import numpy as np\n",
        "import pandas as pd\n",
        "import matplotlib.pyplot as plt\n",
        "import seaborn as sns\n",
        "from scipy.sparse import csr_matrix\n"
      ],
      "execution_count": null,
      "outputs": []
    },
    {
      "cell_type": "code",
      "metadata": {
        "colab": {
          "base_uri": "https://localhost:8080/"
        },
        "id": "71-0V7SgVGVR",
        "outputId": "f3c12486-b2d5-49d8-9cef-215fa43ca64f"
      },
      "source": [
        "!pip install scikit-surprise"
      ],
      "execution_count": null,
      "outputs": [
        {
          "output_type": "stream",
          "text": [
            "Requirement already satisfied: scikit-surprise in /usr/local/lib/python3.7/dist-packages (1.1.1)\n",
            "Requirement already satisfied: numpy>=1.11.2 in /usr/local/lib/python3.7/dist-packages (from scikit-surprise) (1.19.5)\n",
            "Requirement already satisfied: six>=1.10.0 in /usr/local/lib/python3.7/dist-packages (from scikit-surprise) (1.15.0)\n",
            "Requirement already satisfied: scipy>=1.0.0 in /usr/local/lib/python3.7/dist-packages (from scikit-surprise) (1.4.1)\n",
            "Requirement already satisfied: joblib>=0.11 in /usr/local/lib/python3.7/dist-packages (from scikit-surprise) (1.0.1)\n"
          ],
          "name": "stdout"
        }
      ]
    },
    {
      "cell_type": "code",
      "metadata": {
        "id": "O0M0jkAoe7VJ"
      },
      "source": [
        "from surprise import SVD\n",
        "from surprise import Dataset, Reader\n",
        "from surprise import accuracy\n",
        "from surprise.model_selection import train_test_split\n",
        "from surprise.model_selection import GridSearchCV\n",
        "from surprise.model_selection import cross_validate"
      ],
      "execution_count": null,
      "outputs": []
    },
    {
      "cell_type": "markdown",
      "metadata": {
        "id": "kCPRkhH8jCZ3"
      },
      "source": [
        "Preparing Data"
      ]
    },
    {
      "cell_type": "code",
      "metadata": {
        "colab": {
          "base_uri": "https://localhost:8080/",
          "height": 206
        },
        "id": "p9nidoMff7dJ",
        "outputId": "e4fc20e3-d375-4a4e-f172-f30db450568c"
      },
      "source": [
        "song_df=pd.merge(kvet,ut,on=\"song_id\",how='inner')\n",
        "song_df.head()"
      ],
      "execution_count": null,
      "outputs": [
        {
          "output_type": "execute_result",
          "data": {
            "text/html": [
              "<div>\n",
              "<style scoped>\n",
              "    .dataframe tbody tr th:only-of-type {\n",
              "        vertical-align: middle;\n",
              "    }\n",
              "\n",
              "    .dataframe tbody tr th {\n",
              "        vertical-align: top;\n",
              "    }\n",
              "\n",
              "    .dataframe thead th {\n",
              "        text-align: right;\n",
              "    }\n",
              "</style>\n",
              "<table border=\"1\" class=\"dataframe\">\n",
              "  <thead>\n",
              "    <tr style=\"text-align: right;\">\n",
              "      <th></th>\n",
              "      <th>user_id</th>\n",
              "      <th>song_id</th>\n",
              "      <th>freq</th>\n",
              "      <th>track_id</th>\n",
              "      <th>artist_name</th>\n",
              "      <th>release</th>\n",
              "    </tr>\n",
              "  </thead>\n",
              "  <tbody>\n",
              "    <tr>\n",
              "      <th>0</th>\n",
              "      <td>fd50c4007b68a3737fe052d5a4f78ce8aa117f3d</td>\n",
              "      <td>SOBONKR12A58A7A7E0</td>\n",
              "      <td>1</td>\n",
              "      <td>TRAEHHJ12903CF492F</td>\n",
              "      <td>Dwight Yoakam</td>\n",
              "      <td>You're The One</td>\n",
              "    </tr>\n",
              "    <tr>\n",
              "      <th>1</th>\n",
              "      <td>c34670d9c1718361feb93068a853cead3c95b76a</td>\n",
              "      <td>SOBONKR12A58A7A7E0</td>\n",
              "      <td>1</td>\n",
              "      <td>TRAEHHJ12903CF492F</td>\n",
              "      <td>Dwight Yoakam</td>\n",
              "      <td>You're The One</td>\n",
              "    </tr>\n",
              "    <tr>\n",
              "      <th>2</th>\n",
              "      <td>c5006d9f41f68ccccbf5ee29212b6af494110c5e</td>\n",
              "      <td>SOBONKR12A58A7A7E0</td>\n",
              "      <td>1</td>\n",
              "      <td>TRAEHHJ12903CF492F</td>\n",
              "      <td>Dwight Yoakam</td>\n",
              "      <td>You're The One</td>\n",
              "    </tr>\n",
              "    <tr>\n",
              "      <th>3</th>\n",
              "      <td>e4332e11f4df6dd26673bb6b085e9a2bbdc9b8a5</td>\n",
              "      <td>SOBONKR12A58A7A7E0</td>\n",
              "      <td>2</td>\n",
              "      <td>TRAEHHJ12903CF492F</td>\n",
              "      <td>Dwight Yoakam</td>\n",
              "      <td>You're The One</td>\n",
              "    </tr>\n",
              "    <tr>\n",
              "      <th>4</th>\n",
              "      <td>baf2fe5885ab93fbbdb7fecc6691788e70afb6c8</td>\n",
              "      <td>SOBONKR12A58A7A7E0</td>\n",
              "      <td>4</td>\n",
              "      <td>TRAEHHJ12903CF492F</td>\n",
              "      <td>Dwight Yoakam</td>\n",
              "      <td>You're The One</td>\n",
              "    </tr>\n",
              "  </tbody>\n",
              "</table>\n",
              "</div>"
            ],
            "text/plain": [
              "                                    user_id  ...         release\n",
              "0  fd50c4007b68a3737fe052d5a4f78ce8aa117f3d  ...  You're The One\n",
              "1  c34670d9c1718361feb93068a853cead3c95b76a  ...  You're The One\n",
              "2  c5006d9f41f68ccccbf5ee29212b6af494110c5e  ...  You're The One\n",
              "3  e4332e11f4df6dd26673bb6b085e9a2bbdc9b8a5  ...  You're The One\n",
              "4  baf2fe5885ab93fbbdb7fecc6691788e70afb6c8  ...  You're The One\n",
              "\n",
              "[5 rows x 6 columns]"
            ]
          },
          "metadata": {
            "tags": []
          },
          "execution_count": 127
        }
      ]
    },
    {
      "cell_type": "code",
      "metadata": {
        "colab": {
          "base_uri": "https://localhost:8080/"
        },
        "id": "NwQVTdMZjrXp",
        "outputId": "93c0b02a-4291-49aa-ea15-35191116b751"
      },
      "source": [
        "song_df.shape"
      ],
      "execution_count": null,
      "outputs": [
        {
          "output_type": "execute_result",
          "data": {
            "text/plain": [
              "(1491952, 6)"
            ]
          },
          "metadata": {
            "tags": []
          },
          "execution_count": 128
        }
      ]
    },
    {
      "cell_type": "code",
      "metadata": {
        "id": "6nS7E_QCjvgr"
      },
      "source": [
        "song_df=song_df.drop('track_id',axis=1)"
      ],
      "execution_count": null,
      "outputs": []
    },
    {
      "cell_type": "code",
      "metadata": {
        "colab": {
          "base_uri": "https://localhost:8080/",
          "height": 206
        },
        "id": "dzDWPMcJkI2M",
        "outputId": "55ca786d-f994-4968-898b-c41280cc6b72"
      },
      "source": [
        "song_df.head()"
      ],
      "execution_count": null,
      "outputs": [
        {
          "output_type": "execute_result",
          "data": {
            "text/html": [
              "<div>\n",
              "<style scoped>\n",
              "    .dataframe tbody tr th:only-of-type {\n",
              "        vertical-align: middle;\n",
              "    }\n",
              "\n",
              "    .dataframe tbody tr th {\n",
              "        vertical-align: top;\n",
              "    }\n",
              "\n",
              "    .dataframe thead th {\n",
              "        text-align: right;\n",
              "    }\n",
              "</style>\n",
              "<table border=\"1\" class=\"dataframe\">\n",
              "  <thead>\n",
              "    <tr style=\"text-align: right;\">\n",
              "      <th></th>\n",
              "      <th>user_id</th>\n",
              "      <th>song_id</th>\n",
              "      <th>freq</th>\n",
              "      <th>artist_name</th>\n",
              "      <th>release</th>\n",
              "    </tr>\n",
              "  </thead>\n",
              "  <tbody>\n",
              "    <tr>\n",
              "      <th>0</th>\n",
              "      <td>fd50c4007b68a3737fe052d5a4f78ce8aa117f3d</td>\n",
              "      <td>SOBONKR12A58A7A7E0</td>\n",
              "      <td>1</td>\n",
              "      <td>Dwight Yoakam</td>\n",
              "      <td>You're The One</td>\n",
              "    </tr>\n",
              "    <tr>\n",
              "      <th>1</th>\n",
              "      <td>c34670d9c1718361feb93068a853cead3c95b76a</td>\n",
              "      <td>SOBONKR12A58A7A7E0</td>\n",
              "      <td>1</td>\n",
              "      <td>Dwight Yoakam</td>\n",
              "      <td>You're The One</td>\n",
              "    </tr>\n",
              "    <tr>\n",
              "      <th>2</th>\n",
              "      <td>c5006d9f41f68ccccbf5ee29212b6af494110c5e</td>\n",
              "      <td>SOBONKR12A58A7A7E0</td>\n",
              "      <td>1</td>\n",
              "      <td>Dwight Yoakam</td>\n",
              "      <td>You're The One</td>\n",
              "    </tr>\n",
              "    <tr>\n",
              "      <th>3</th>\n",
              "      <td>e4332e11f4df6dd26673bb6b085e9a2bbdc9b8a5</td>\n",
              "      <td>SOBONKR12A58A7A7E0</td>\n",
              "      <td>2</td>\n",
              "      <td>Dwight Yoakam</td>\n",
              "      <td>You're The One</td>\n",
              "    </tr>\n",
              "    <tr>\n",
              "      <th>4</th>\n",
              "      <td>baf2fe5885ab93fbbdb7fecc6691788e70afb6c8</td>\n",
              "      <td>SOBONKR12A58A7A7E0</td>\n",
              "      <td>4</td>\n",
              "      <td>Dwight Yoakam</td>\n",
              "      <td>You're The One</td>\n",
              "    </tr>\n",
              "  </tbody>\n",
              "</table>\n",
              "</div>"
            ],
            "text/plain": [
              "                                    user_id  ...         release\n",
              "0  fd50c4007b68a3737fe052d5a4f78ce8aa117f3d  ...  You're The One\n",
              "1  c34670d9c1718361feb93068a853cead3c95b76a  ...  You're The One\n",
              "2  c5006d9f41f68ccccbf5ee29212b6af494110c5e  ...  You're The One\n",
              "3  e4332e11f4df6dd26673bb6b085e9a2bbdc9b8a5  ...  You're The One\n",
              "4  baf2fe5885ab93fbbdb7fecc6691788e70afb6c8  ...  You're The One\n",
              "\n",
              "[5 rows x 5 columns]"
            ]
          },
          "metadata": {
            "tags": []
          },
          "execution_count": 130
        }
      ]
    },
    {
      "cell_type": "code",
      "metadata": {
        "colab": {
          "base_uri": "https://localhost:8080/"
        },
        "id": "zdN74gi2l3he",
        "outputId": "fea4add4-745c-4917-f384-386d8052af24"
      },
      "source": [
        "song_df.isna().sum().sum()"
      ],
      "execution_count": null,
      "outputs": [
        {
          "output_type": "execute_result",
          "data": {
            "text/plain": [
              "0"
            ]
          },
          "metadata": {
            "tags": []
          },
          "execution_count": 131
        }
      ]
    },
    {
      "cell_type": "code",
      "metadata": {
        "id": "l8okXxhTl_cz"
      },
      "source": [
        "song_df = song_df.dropna()"
      ],
      "execution_count": null,
      "outputs": []
    },
    {
      "cell_type": "code",
      "metadata": {
        "colab": {
          "base_uri": "https://localhost:8080/"
        },
        "id": "Jvj1R_pZmIlx",
        "outputId": "44a4577f-1e30-4828-dbfe-55b22d2aa44f"
      },
      "source": [
        "duplicated = song_df.duplicated()\n",
        "sum(duplicated)"
      ],
      "execution_count": null,
      "outputs": [
        {
          "output_type": "execute_result",
          "data": {
            "text/plain": [
              "35387"
            ]
          },
          "metadata": {
            "tags": []
          },
          "execution_count": 133
        }
      ]
    },
    {
      "cell_type": "code",
      "metadata": {
        "id": "WjUiVbMlnDzk"
      },
      "source": [
        "song_df = song_df.drop_duplicates()"
      ],
      "execution_count": null,
      "outputs": []
    },
    {
      "cell_type": "code",
      "metadata": {
        "colab": {
          "base_uri": "https://localhost:8080/"
        },
        "id": "DwLsjwRbnNz6",
        "outputId": "e1d2ac77-1a93-42dc-b6cd-d43340114070"
      },
      "source": [
        "song_df.shape"
      ],
      "execution_count": null,
      "outputs": [
        {
          "output_type": "execute_result",
          "data": {
            "text/plain": [
              "(1456565, 5)"
            ]
          },
          "metadata": {
            "tags": []
          },
          "execution_count": 135
        }
      ]
    },
    {
      "cell_type": "markdown",
      "metadata": {
        "id": "jaOikjvvkVCD"
      },
      "source": [
        "Before modeling we need to find how many times a user listen to the same song on average."
      ]
    },
    {
      "cell_type": "code",
      "metadata": {
        "id": "cqYH3mZfkMrb"
      },
      "source": [
        "song_user = song_df.groupby('song_id')['user_id'].count()"
      ],
      "execution_count": null,
      "outputs": []
    },
    {
      "cell_type": "code",
      "metadata": {
        "colab": {
          "base_uri": "https://localhost:8080/",
          "height": 483
        },
        "id": "gDX14JVik-Ng",
        "outputId": "3b22e526-e2b5-42be-8831-c6353a0fc68c"
      },
      "source": [
        "plt.figure(figsize=(16, 8))\n",
        "sns.distplot(song_user.values, color='blue')\n",
        "plt.gca().spines['top'].set_visible(False)\n",
        "plt.gca().spines['right'].set_visible(False)\n",
        "plt.show();"
      ],
      "execution_count": null,
      "outputs": [
        {
          "output_type": "display_data",
          "data": {
            "image/png": "[encoded data removed]",
            "text/plain": [
              "<Figure size 1152x576 with 1 Axes>"
            ]
          },
          "metadata": {
            "tags": []
          }
        }
      ]
    },
    {
      "cell_type": "code",
      "metadata": {
        "colab": {
          "base_uri": "https://localhost:8080/"
        },
        "id": "4YOJKAWslDV9",
        "outputId": "738a7d82-f0dc-41cd-9f0f-1b3462030749"
      },
      "source": [
        "print(f\"A song is listened for an average of {np.mean(song_user)} users, with minimum {np.min(song_user)} and maximum {np.max(song_user)} users\")"
      ],
      "execution_count": null,
      "outputs": [
        {
          "output_type": "stream",
          "text": [
            "A song is listened for an average of 8.924702523191549 users, with minimum 1 and maximum 5043 users\n"
          ],
          "name": "stdout"
        }
      ]
    },
    {
      "cell_type": "code",
      "metadata": {
        "id": "mbmTH0pJ6f-_"
      },
      "source": [
        "listen_counts = pd.DataFrame(song_df.groupby('freq').size(), columns=['count'])"
      ],
      "execution_count": null,
      "outputs": []
    },
    {
      "cell_type": "code",
      "metadata": {
        "colab": {
          "base_uri": "https://localhost:8080/"
        },
        "id": "4cF036TR65q_",
        "outputId": "1d643d53-3fd7-49e1-cee7-0e1b6b5afa0d"
      },
      "source": [
        "print(f\"The maximum time the same user listened to the same songs was: {listen_counts.reset_index(drop=False)['freq'].iloc[-1]}\")"
      ],
      "execution_count": null,
      "outputs": [
        {
          "output_type": "stream",
          "text": [
            "The maximum time the same user listened to the same songs was: 923\n"
          ],
          "name": "stdout"
        }
      ]
    },
    {
      "cell_type": "markdown",
      "metadata": {
        "id": "jctrSXJcn3AL"
      },
      "source": [
        "\n",
        "Model and recommendations\n",
        "\n",
        "Matrix Factorization is a powerful way to implement a recommendation system. The idea behind it is to represent users and items in a lower-dimensional latent space.\n",
        "\n",
        "So, in other words, Matrix factorization methods decompose the original sparse user-item matrix into lower dimensionality less sparse rectangular matrices with latent features.\n",
        "\n",
        "This does not only solve the sparsity issue but also makes the method scalable. It doesn't matter how big the matrix is, you can always find lower dimensionality matrices that are a true representation of the original one.\n",
        "\n",
        "Among the different matrix factorization techniques, we found the popular singular value decomposition (SVD).\n",
        "\n",
        "This can be an abstract concept as we deepen into the mathematical foundations. But we'll try to keep it as simple as possible. Imagine we have a matrix A that contains the data for n users x m songs. This matrix can be decomposed uniquely into 3 matrices; let's called them U, S, and V.\n",
        "\n",
        "In terms of our song recommender:\n",
        "\n",
        "U is an n users x r user-latent feature matrix\n",
        "V is an m songs x r song-latent feature matrix\n",
        "S is an r x r non-negative diagonal matrix containing the singular values of the original matrix.\n",
        "Instead of working with the implicit rating as it is, we'll apply the binning technique. "
      ]
    },
    {
      "cell_type": "markdown",
      "metadata": {
        "id": "99ws3R2R7Jm1"
      },
      "source": [
        "We'll define 10 categories. The original data values which fall into the interval from 0 to 1, will be replaced by the representative rating of 1; if they fall into the interval 1 to 2, they will be replaced by 2; and so on and so forth. The last category will be assigned to original values ranging from 9 to 923"
      ]
    },
    {
      "cell_type": "code",
      "metadata": {
        "id": "jvPHGngRlLpn"
      },
      "source": [
        "\n"
      ],
      "execution_count": null,
      "outputs": []
    },
    {
      "cell_type": "code",
      "metadata": {
        "id": "c230ZCZE883F"
      },
      "source": [
        "bins = [0, 1, 2, 3, 4, 5, 6, 7, 8, 9, 923]\n",
        "song_df['freq'] = pd.cut(song_df['freq'], bins=bins, labels=[1, 2, 3, 4, 5, 6, 7, 8, 9, 10])"
      ],
      "execution_count": null,
      "outputs": []
    },
    {
      "cell_type": "code",
      "metadata": {
        "id": "ln3FOEtL9pdV"
      },
      "source": [
        "listen_counts = pd.DataFrame(song_df.groupby('freq').size(), columns=['count']).reset_index(drop=False)"
      ],
      "execution_count": null,
      "outputs": []
    },
    {
      "cell_type": "markdown",
      "metadata": {
        "id": "QgoVBqFcIvj_"
      },
      "source": [
        ""
      ]
    },
    {
      "cell_type": "code",
      "metadata": {
        "colab": {
          "base_uri": "https://localhost:8080/",
          "height": 497
        },
        "id": "3B4JDN_d90Ii",
        "outputId": "f4f41ae1-82d1-4d4d-fb9a-76e54282f3f4"
      },
      "source": [
        "\n",
        "plt.figure(figsize=(16, 8))\n",
        "sns.barplot(x='freq', y='count', palette='Set3', data=listen_counts)\n",
        "plt.gca().spines['top'].set_visible(False)\n",
        "plt.gca().spines['right'].set_visible(False)\n",
        "plt.show();"
      ],
      "execution_count": null,
      "outputs": [
        {
          "output_type": "display_data",
          "data": {
            "image/png": "[encoded data removed]",
            "text/plain": [
              "<Figure size 1152x576 with 1 Axes>"
            ]
          },
          "metadata": {
            "tags": []
          }
        }
      ]
    },
    {
      "cell_type": "markdown",
      "metadata": {
        "id": "beS8pQoa-EqZ"
      },
      "source": [
        "For this, we are going to use a fun package called surprise. Surprise is an easy-to-use Python library specially designed for recommender systems.\n",
        "\n",
        "To load a dataset from our DataFrame, we will use the load_from_df() method.\n",
        "\n",
        "We will need to pass the following parameters:\n",
        "\n",
        "df: The dataframe containing the ratings. It must have three columns, corresponding to the user ids, the song ids, and the ratings.\n",
        "reader (Reader): A reader to read the file. Only the rating_scale field needs to be specified."
      ]
    },
    {
      "cell_type": "code",
      "metadata": {
        "id": "lQxLvV8c96rJ"
      },
      "source": [
        "reader = Reader(rating_scale=(1, 10))\n",
        "data = Dataset.load_from_df(song_df[['user_id', 'song_id', 'freq']], reader)"
      ],
      "execution_count": null,
      "outputs": []
    },
    {
      "cell_type": "code",
      "metadata": {
        "id": "qybwUYiD-twp"
      },
      "source": [
        "trainset, testset = train_test_split(data, test_size=.25)"
      ],
      "execution_count": null,
      "outputs": []
    },
    {
      "cell_type": "markdown",
      "metadata": {
        "id": "kumPkfdw-7Cm"
      },
      "source": [
        "\n",
        "We'll use the built-in function for SVD. First, a set of parameters is going to be defined to search for the best parameters for the model.\n",
        "\n",
        "The GridSearchCV class will compute accuracy metrics for the SVDalgorithm on the combinations of parameters selected, over a cross-validation procedure. This is useful for finding the best set of parameters for a prediction algorithm."
      ]
    },
    {
      "cell_type": "code",
      "metadata": {
        "id": "AnvFDFTG-1qR"
      },
      "source": [
        "param_grid = {'n_factors': [160], 'n_epochs': [100], 'lr_all': [0.001, 0.005], 'reg_all': [0.08, 0.1]}"
      ],
      "execution_count": null,
      "outputs": []
    },
    {
      "cell_type": "code",
      "metadata": {
        "id": "gae_kdpF_NyD"
      },
      "source": [
        "grid_search_svd = GridSearchCV(SVD, param_grid, measures=['rmse'], cv=3, joblib_verbose=4, n_jobs=-2)"
      ],
      "execution_count": null,
      "outputs": []
    },
    {
      "cell_type": "code",
      "metadata": {
        "colab": {
          "background_save": true,
          "base_uri": "https://localhost:8080/"
        },
        "id": "5UezEFDj_Rk5",
        "outputId": "4a73d3f4-bba3-4807-ca98-18c54ba77d97"
      },
      "source": [
        "# find the best parameters for the model\n",
        "grid_search_svd.fit(data)\n",
        "find_algo = grid_search_svd.best_estimator['rmse']\n",
        "print(grid_search_svd.best_score['rmse'])\n",
        "print(grid_search_svd.best_params['rmse'])"
      ],
      "execution_count": null,
      "outputs": [
        {
          "output_type": "stream",
          "text": [
            "[Parallel(n_jobs=-2)]: Using backend SequentialBackend with 1 concurrent workers.\n",
            "[Parallel(n_jobs=-2)]: Done   1 out of   1 | elapsed:  7.9min remaining:    0.0s\n",
            "[Parallel(n_jobs=-2)]: Done   2 out of   2 | elapsed: 15.7min remaining:    0.0s\n",
            "[Parallel(n_jobs=-2)]: Done   3 out of   3 | elapsed: 23.6min remaining:    0.0s\n"
          ],
          "name": "stderr"
        },
        {
          "output_type": "stream",
          "text": [
            "2.3014273649455657\n",
            "{'n_factors': 160, 'n_epochs': 100, 'lr_all': 0.005, 'reg_all': 0.1}\n"
          ],
          "name": "stdout"
        },
        {
          "output_type": "stream",
          "text": [
            "[Parallel(n_jobs=-2)]: Done  12 out of  12 | elapsed: 93.8min finished\n"
          ],
          "name": "stderr"
        }
      ]
    },
    {
      "cell_type": "code",
      "metadata": {
        "colab": {
          "background_save": true
        },
        "id": "3mKJGkgr_Ymv",
        "outputId": "ad69da42-827d-4026-d6ef-6a35d04aa4e5"
      },
      "source": [
        "# Perform the cross validation\n",
        "cross_validate(find_algo, data, measures=['RMSE'], cv=5, verbose=True)"
      ],
      "execution_count": null,
      "outputs": [
        {
          "output_type": "stream",
          "text": [
            "Evaluating RMSE of algorithm SVD on 5 split(s).\n",
            "\n",
            "                  Fold 1  Fold 2  Fold 3  Fold 4  Fold 5  Mean    Std     \n",
            "RMSE (testset)    2.2816  2.2809  2.2856  2.2793  2.2834  2.2822  0.0021  \n",
            "Fit time          553.68  558.46  552.90  555.32  552.92  554.65  2.10    \n",
            "Test time         4.02    4.06    4.08    4.07    5.23    4.29    0.47    \n"
          ],
          "name": "stdout"
        },
        {
          "output_type": "execute_result",
          "data": {
            "text/plain": [
              "{'fit_time': (553.6762588024139,\n",
              "  558.4593071937561,\n",
              "  552.898600101471,\n",
              "  555.316885471344,\n",
              "  552.9155902862549),\n",
              " 'test_rmse': array([2.28164274, 2.28093735, 2.2855514 , 2.27929235, 2.28341824]),\n",
              " 'test_time': (4.020283460617065,\n",
              "  4.063281774520874,\n",
              "  4.076776742935181,\n",
              "  4.072638511657715,\n",
              "  5.23134446144104)}"
            ]
          },
          "metadata": {
            "tags": []
          },
          "execution_count": 0
        }
      ]
    },
    {
      "cell_type": "markdown",
      "metadata": {
        "id": "KEj8PXB_CrNa"
      },
      "source": [
        "After finding the best parameters for the model, we create our final model, train it and find the error for the test set."
      ]
    },
    {
      "cell_type": "code",
      "metadata": {
        "colab": {
          "background_save": true
        },
        "id": "f-Rdf5sBCljO",
        "outputId": "2cdf131b-5f7b-4f25-e2cb-c7796dc85e69"
      },
      "source": [
        "final_algorithm = SVD(n_factors=160, n_epochs=100, lr_all=0.005, reg_all=0.1)\n",
        "final_algorithm.fit(trainset)\n",
        "test_predictions = final_algorithm.test(testset)\n",
        "print(f\"The RMSE is {accuracy.rmse(test_predictions, verbose=True)}\")"
      ],
      "execution_count": null,
      "outputs": [
        {
          "output_type": "stream",
          "text": [
            "RMSE: 2.2868\n",
            "The RMSE is 2.2867605173981835\n"
          ],
          "name": "stdout"
        }
      ]
    },
    {
      "cell_type": "markdown",
      "metadata": {
        "id": "7EPazp3KDBPx"
      },
      "source": [
        ""
      ]
    },
    {
      "cell_type": "markdown",
      "metadata": {
        "id": "J1Odwm5q-unA"
      },
      "source": [
        "# Hybrid Music Recommender System"
      ]
    },
    {
      "cell_type": "code",
      "metadata": {
        "colab": {
          "background_save": true
        },
        "id": "bL9Fx6nQvUZj",
        "outputId": "f236ca8b-a099-4ea1-af90-6c4d016f0e27"
      },
      "source": [
        "!pip install scikit-surprise"
      ],
      "execution_count": null,
      "outputs": [
        {
          "output_type": "stream",
          "text": [
            "Requirement already satisfied: scikit-surprise in /usr/local/lib/python3.7/dist-packages (1.1.1)\n",
            "Requirement already satisfied: scipy>=1.0.0 in /usr/local/lib/python3.7/dist-packages (from scikit-surprise) (1.4.1)\n",
            "Requirement already satisfied: numpy>=1.11.2 in /usr/local/lib/python3.7/dist-packages (from scikit-surprise) (1.19.5)\n",
            "Requirement already satisfied: joblib>=0.11 in /usr/local/lib/python3.7/dist-packages (from scikit-surprise) (1.0.1)\n",
            "Requirement already satisfied: six>=1.10.0 in /usr/local/lib/python3.7/dist-packages (from scikit-surprise) (1.15.0)\n"
          ],
          "name": "stdout"
        }
      ]
    },
    {
      "cell_type": "code",
      "metadata": {
        "colab": {
          "background_save": true
        },
        "id": "wRIkbeOB-1cR"
      },
      "source": [
        "import surprise\n",
        "import numpy as np \n",
        "import pandas as pd \n",
        "from sklearn.model_selection import train_test_split\n",
        "import matplotlib.pyplot as plt\n",
        "import seaborn as sns\n",
        "from scipy.sparse import csr_matrix\n",
        "from surprise import SVD\n",
        "from surprise import Dataset, Reader\n",
        "from surprise import accuracy\n",
        "\n",
        "from surprise.model_selection import GridSearchCV\n",
        "from surprise.model_selection import cross_validate"
      ],
      "execution_count": null,
      "outputs": []
    },
    {
      "cell_type": "code",
      "metadata": {
        "colab": {
          "background_save": true
        },
        "id": "kPTgpdrzvaf-",
        "outputId": "c1b4f0fa-5615-46d6-b336-c1c3b3770a13"
      },
      "source": [
        "song_df=pd.merge(kvet,ut,on=\"song_id\",how='inner')\n",
        "song_df=song_df.drop('track_id',axis=1)\n",
        "song_df.head()"
      ],
      "execution_count": null,
      "outputs": [
        {
          "output_type": "execute_result",
          "data": {
            "text/html": [
              "<div>\n",
              "<style scoped>\n",
              "    .dataframe tbody tr th:only-of-type {\n",
              "        vertical-align: middle;\n",
              "    }\n",
              "\n",
              "    .dataframe tbody tr th {\n",
              "        vertical-align: top;\n",
              "    }\n",
              "\n",
              "    .dataframe thead th {\n",
              "        text-align: right;\n",
              "    }\n",
              "</style>\n",
              "<table border=\"1\" class=\"dataframe\">\n",
              "  <thead>\n",
              "    <tr style=\"text-align: right;\">\n",
              "      <th></th>\n",
              "      <th>user_id</th>\n",
              "      <th>song_id</th>\n",
              "      <th>freq</th>\n",
              "      <th>artist_name</th>\n",
              "      <th>release</th>\n",
              "    </tr>\n",
              "  </thead>\n",
              "  <tbody>\n",
              "    <tr>\n",
              "      <th>0</th>\n",
              "      <td>fd50c4007b68a3737fe052d5a4f78ce8aa117f3d</td>\n",
              "      <td>SOBONKR12A58A7A7E0</td>\n",
              "      <td>1</td>\n",
              "      <td>Dwight Yoakam</td>\n",
              "      <td>You're The One</td>\n",
              "    </tr>\n",
              "    <tr>\n",
              "      <th>1</th>\n",
              "      <td>c34670d9c1718361feb93068a853cead3c95b76a</td>\n",
              "      <td>SOBONKR12A58A7A7E0</td>\n",
              "      <td>1</td>\n",
              "      <td>Dwight Yoakam</td>\n",
              "      <td>You're The One</td>\n",
              "    </tr>\n",
              "    <tr>\n",
              "      <th>2</th>\n",
              "      <td>c5006d9f41f68ccccbf5ee29212b6af494110c5e</td>\n",
              "      <td>SOBONKR12A58A7A7E0</td>\n",
              "      <td>1</td>\n",
              "      <td>Dwight Yoakam</td>\n",
              "      <td>You're The One</td>\n",
              "    </tr>\n",
              "    <tr>\n",
              "      <th>3</th>\n",
              "      <td>e4332e11f4df6dd26673bb6b085e9a2bbdc9b8a5</td>\n",
              "      <td>SOBONKR12A58A7A7E0</td>\n",
              "      <td>2</td>\n",
              "      <td>Dwight Yoakam</td>\n",
              "      <td>You're The One</td>\n",
              "    </tr>\n",
              "    <tr>\n",
              "      <th>4</th>\n",
              "      <td>baf2fe5885ab93fbbdb7fecc6691788e70afb6c8</td>\n",
              "      <td>SOBONKR12A58A7A7E0</td>\n",
              "      <td>4</td>\n",
              "      <td>Dwight Yoakam</td>\n",
              "      <td>You're The One</td>\n",
              "    </tr>\n",
              "  </tbody>\n",
              "</table>\n",
              "</div>"
            ],
            "text/plain": [
              "                                    user_id  ...         release\n",
              "0  fd50c4007b68a3737fe052d5a4f78ce8aa117f3d  ...  You're The One\n",
              "1  c34670d9c1718361feb93068a853cead3c95b76a  ...  You're The One\n",
              "2  c5006d9f41f68ccccbf5ee29212b6af494110c5e  ...  You're The One\n",
              "3  e4332e11f4df6dd26673bb6b085e9a2bbdc9b8a5  ...  You're The One\n",
              "4  baf2fe5885ab93fbbdb7fecc6691788e70afb6c8  ...  You're The One\n",
              "\n",
              "[5 rows x 5 columns]"
            ]
          },
          "metadata": {
            "tags": []
          },
          "execution_count": 0
        }
      ]
    },
    {
      "cell_type": "code",
      "metadata": {
        "colab": {
          "background_save": true
        },
        "id": "dmpZ-0Fvvxs2"
      },
      "source": [
        "song_df = song_df.drop_duplicates()"
      ],
      "execution_count": null,
      "outputs": []
    },
    {
      "cell_type": "code",
      "metadata": {
        "colab": {
          "background_save": true
        },
        "id": "x6FZw10PwpNw"
      },
      "source": [
        "bins = [0, 1, 2, 3, 4, 5, 6, 7, 8, 9, 923]\n",
        "song_df['freq'] = pd.cut(song_df['freq'], bins=bins, labels=[1, 2, 3, 4, 5, 6, 7, 8, 9, 10])"
      ],
      "execution_count": null,
      "outputs": []
    },
    {
      "cell_type": "code",
      "metadata": {
        "colab": {
          "background_save": true
        },
        "id": "ChnIFJXqwATQ"
      },
      "source": [
        "#reader = Reader(rating_scale=(1, 10))\n",
        "#data = Dataset.load_from_df(song_df[['user_id', 'song_id', 'freq']], reader)\n"
      ],
      "execution_count": null,
      "outputs": []
    },
    {
      "cell_type": "code",
      "metadata": {
        "colab": {
          "background_save": true
        },
        "id": "dnl6CvjT2ROd"
      },
      "source": [
        ""
      ],
      "execution_count": null,
      "outputs": []
    },
    {
      "cell_type": "code",
      "metadata": {
        "colab": {
          "background_save": true
        },
        "id": "go1mFqjixvrK"
      },
      "source": [
        "rawTrain, rawholdout = train_test_split(song_df, test_size=.25)"
      ],
      "execution_count": null,
      "outputs": []
    },
    {
      "cell_type": "code",
      "metadata": {
        "colab": {
          "background_save": true
        },
        "id": "dv_dqZiLvZKT"
      },
      "source": [
        "reader = Reader(rating_scale=(1, 10))\n",
        "data = surprise.Dataset.load_from_df(rawTrain[['user_id', 'song_id', 'freq']],reader)\n",
        "holdout = surprise.Dataset.load_from_df(rawholdout[['user_id', 'song_id', 'freq']],reader)"
      ],
      "execution_count": null,
      "outputs": []
    },
    {
      "cell_type": "code",
      "metadata": {
        "colab": {
          "background_save": true
        },
        "id": "AFuYXihUy9zz"
      },
      "source": [
        "kSplit = surprise.model_selection.split.KFold(n_splits=10, shuffle=True) # split data into folds."
      ],
      "execution_count": null,
      "outputs": []
    },
    {
      "cell_type": "code",
      "metadata": {
        "colab": {
          "background_save": true
        },
        "id": "d3ue_gLEzCt9"
      },
      "source": [
        "#sim_options = sim_options = {'name': 'cosine','user_based': False  # compute  similarities between items}\n",
        "#collabKNN = surprise.KNNBasic(k=40) \n",
        "#rmseKNN = []\n",
        "rmseSVD = []\n",
        "rmseCo = []\n",
        "rmseSlope = []\n",
        "#for trainset, testset in kSplit.split(data): #iterate through the folds.\n",
        "#    collabKNN.fit(trainset)\n",
        "#    predictionsKNN = collabKNN.test(testset)\n",
        " #   rmseKNN.append(surprise.accuracy.rmse(predictionsKNN,verbose=True))#get root means squared error"
      ],
      "execution_count": null,
      "outputs": []
    },
    {
      "cell_type": "code",
      "metadata": {
        "colab": {
          "background_save": true
        },
        "id": "kD1mbc5kzJl8"
      },
      "source": [
        "funkSVD = surprise.prediction_algorithms.matrix_factorization.SVD(n_factors=30,n_epochs=10,biased=True)"
      ],
      "execution_count": null,
      "outputs": []
    },
    {
      "cell_type": "code",
      "metadata": {
        "colab": {
          "background_save": true
        },
        "id": "nr7PPxUizK5c",
        "outputId": "7f5bf0e9-7fd3-4979-af18-cbb6cb958349"
      },
      "source": [
        "min_error = 1\n",
        "for trainset, testset in kSplit.split(data): #iterate through the folds.\n",
        "    funkSVD.fit(trainset)\n",
        "    predictionsSVD = funkSVD.test(testset)\n",
        "    rmseSVD.append(surprise.accuracy.rmse(predictionsSVD,verbose=True))#get root means squared error"
      ],
      "execution_count": null,
      "outputs": [
        {
          "output_type": "stream",
          "text": [
            "RMSE: 2.3411\n",
            "RMSE: 2.3464\n",
            "RMSE: 2.3279\n",
            "RMSE: 2.3367\n",
            "RMSE: 2.3483\n",
            "RMSE: 2.3275\n",
            "RMSE: 2.3360\n",
            "RMSE: 2.3342\n",
            "RMSE: 2.3440\n",
            "RMSE: 2.3451\n"
          ],
          "name": "stdout"
        }
      ]
    },
    {
      "cell_type": "code",
      "metadata": {
        "colab": {
          "background_save": true
        },
        "id": "tDs6VaPGzNXm",
        "outputId": "a767930c-c75e-49d5-cc50-63bf2118fe55"
      },
      "source": [
        "coClus = surprise.prediction_algorithms.co_clustering.CoClustering(n_cltr_u=4,n_cltr_i=4,n_epochs=25) \n",
        "for trainset, testset in kSplit.split(data): #iterate through the folds.\n",
        "    coClus.fit(trainset)\n",
        "    predictionsCoClus = coClus.test(testset)\n",
        "    rmseCo.append(surprise.accuracy.rmse(predictionsCoClus,verbose=True))#get root means squared error"
      ],
      "execution_count": null,
      "outputs": [
        {
          "output_type": "stream",
          "text": [
            "RMSE: 2.4484\n",
            "RMSE: 2.4562\n",
            "RMSE: 2.4853\n",
            "RMSE: 2.4461\n",
            "RMSE: 2.4866\n",
            "RMSE: 2.4304\n",
            "RMSE: 2.4429\n",
            "RMSE: 2.4906\n",
            "RMSE: 2.4661\n",
            "RMSE: 2.4417\n"
          ],
          "name": "stdout"
        }
      ]
    },
    {
      "cell_type": "code",
      "metadata": {
        "colab": {
          "background_save": true
        },
        "id": "eM8xxq9KzXrY"
      },
      "source": [
        "slopeOne = surprise.prediction_algorithms.slope_one.SlopeOne()"
      ],
      "execution_count": null,
      "outputs": []
    },
    {
      "cell_type": "code",
      "metadata": {
        "id": "nzOgG1oZzbQf"
      },
      "source": [
        "#plotting the prediction data:\n",
        "import matplotlib.pyplot as plt\n",
        "for prediction in compiledPredictions:\n",
        "    #modelPrediction = plt.plot(rmseKNN,label='knn')\n",
        "    modelPrediction = plt.plot(rmseSVD,label='svd')\n",
        "    modelPrediction = plt.plot(rmseCo,label='cluster')\n",
        "    modelPrediction = plt.plot(rmseSlope,label='slope')\n",
        "\n",
        "    modelPrediction = plt.xlabel('folds')\n",
        "    modelPrediction = plt.ylabel('accuracy')\n",
        "    plt.legend(bbox_to_anchor=(1.05, 1), loc=2, borderaxespad=0.)"
      ],
      "execution_count": null,
      "outputs": []
    },
    {
      "cell_type": "code",
      "metadata": {
        "id": "VQq95d0gzi9R"
      },
      "source": [
        "class HybridFacto(surprise.AlgoBase):\n",
        "    def __init__(self,epochs, learning_rate,num_models):\n",
        "        self.alpha = np.array([1/num_models]*num_models)\n",
        "        self.epochs = epochs\n",
        "        self.learning_rate = learning_rate\n",
        "    \n",
        "    def fit(self,holdout):\n",
        "        holdout=holdout.build_full_trainset().build_testset()\n",
        "        for epoch in range(self.epochs):\n",
        "            \n",
        "            predictions = np.array([funkSVD.test(holdout),coClus.test(holdout),slopeOne.test(holdout)])\n",
        "            maeGradient = [surprise.accuracy.mae(prediction) for prediction in predictions]\n",
        "            newalpha = self.alpha - learning_rate * maeGradient  \n",
        "            #convergence check:\n",
        "            if newalpha - self.alpha < 0.001:\n",
        "                break\n",
        "            self.alpha = newalpha\n",
        "            \n",
        "    def estimate(self,u,i):\n",
        "        if not (self.trainset.knows_user(u) and self.trainset.knows_item(i)):\n",
        "            raise PredictionImpossible('User and/or item is unkown.')\n",
        "        algoResults = np.array([collabKNN.predict(u,i),funkSVD.predict(u,i),coClus.predict(u,i),slopeOne.predict(u,i)])\n",
        "        return np.sum(np.dot(self.alpha,algoResults))"
      ],
      "execution_count": null,
      "outputs": []
    },
    {
      "cell_type": "code",
      "metadata": {
        "id": "MxLSkdrGznBR"
      },
      "source": [
        "hybrid = HybridFacto(epochs=10, learning_rate=0.05, num_models=3)\n",
        "hybrid.fit(holdout)\n",
        "rmseHyb = []\n",
        "for trainset, testset in kSplit.split(data): #iterate through the folds.\n",
        "    predhybrid = Hyhybrid.test(testset)\n",
        "    rmseHyb.append(surprise.accuracy.rmse(predhybrid))"
      ],
      "execution_count": null,
      "outputs": []
    },
    {
      "cell_type": "code",
      "metadata": {
        "id": "t-UlNsxxzr66"
      },
      "source": [
        "#plotting the prediction data:\n",
        "for prediction in compiledPredictions:\n",
        "    #modelPrediction = plt.plot(rmseKNN,label='knn')\n",
        "    modelPrediction = plt.plot(rmseSVD,label='svd')\n",
        "    modelPrediction = plt.plot(rmseCo,label='cluster')\n",
        "    modelPrediction = plt.plot(rmseSlope,label='slope')\n",
        "    modelPrediction = plt.plot(rmseHyb,label='Hybrid')\n",
        "\n",
        "    modelPrediction = plt.xlabel('folds')\n",
        "    modelPrediction = plt.ylabel('accuracy')\n",
        "    plt.legend(bbox_to_anchor=(1.05, 1), loc=2, borderaxespad=0.)"
      ],
      "execution_count": null,
      "outputs": []
    },
    {
      "cell_type": "code",
      "metadata": {
        "id": "TodXznt8GgS-"
      },
      "source": [
        ""
      ],
      "execution_count": null,
      "outputs": []
    }
  ]
}