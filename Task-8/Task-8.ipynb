{
 "cells": [
  {
   "cell_type": "markdown",
   "metadata": {},
   "source": [
    "## $ Question1)$ Day 4: Binomial Distribution I"
   ]
  },
  {
   "cell_type": "code",
   "execution_count": 30,
   "metadata": {},
   "outputs": [
    {
     "name": "stdout",
     "output_type": "stream",
     "text": [
      "1.09 1\n",
      "0.696\n"
     ]
    }
   ],
   "source": [
    "def fact(n):\n",
    "    return 1 if n == 0 else n*fact(n-1)\n",
    "\n",
    "def comb(n, x):\n",
    "    return fact(n) / (fact(x) * fact(n-x))\n",
    "\n",
    "def binomial(x, n, p):\n",
    "    return comb(n, x) * p**x * (1-p)**(n-x)\n",
    "\n",
    "b, g = list(map(float, input().split(\" \")))\n",
    "p_success = b / g\n",
    "print(round(sum([binomial(i, 6, p_success / (1 + p_success)) for i in range(3, 7)]), 3))"
   ]
  },
  {
   "cell_type": "markdown",
   "metadata": {},
   "source": [
    "## $ Question2)$ Day 4: Binomial Distribution II"
   ]
  },
  {
   "cell_type": "code",
   "execution_count": 41,
   "metadata": {},
   "outputs": [
    {
     "name": "stdout",
     "output_type": "stream",
     "text": [
      "12 10\n",
      "0.891\n",
      "0.342\n"
     ]
    }
   ],
   "source": [
    "def fact(n):\n",
    "    return 1 if n == 0 else n*fact(n-1)\n",
    "\n",
    "def comb(n, x):\n",
    "    return fact(n) / (fact(x) * fact(n-x))\n",
    "\n",
    "def binomial(x, n, p):\n",
    "    return comb(n, x) * p**x * (1-p)**(n-x)\n",
    "\n",
    "def_per,batch_size=list(map(float,input().split(\" \")))\n",
    "p_success=def_per/100\n",
    "print(round(sum([binomial(i,10,p_success) for i in range(0,3)]),3))\n",
    "print(round(sum([binomial(i,10,p_success) for i in range(2,11)]),3))"
   ]
  },
  {
   "cell_type": "markdown",
   "metadata": {},
   "source": [
    "## $ Question3)$Day 5: Normal Distribution I"
   ]
  },
  {
   "cell_type": "code",
   "execution_count": 53,
   "metadata": {},
   "outputs": [
    {
     "name": "stdout",
     "output_type": "stream",
     "text": [
      "20 2\n",
      "19.5\n",
      "20 22\n",
      "0.401\n",
      "0.341\n"
     ]
    }
   ],
   "source": [
    "import math\n",
    "\n",
    "def cdf(x,mean,std):\n",
    "    return 0.5 * (1 + math.erf((x - mean) / (std * (2 ** 0.5))))\n",
    "\n",
    "mean,std=map(float,input().split())\n",
    "value_1=float(input())\n",
    "range_1,range_2=map(float,input().split())\n",
    "print(round(cdf(value_1,mean,std),3))\n",
    "print(round(cdf(range_2,mean,std)-cdf(range_1,mean,std),3))"
   ]
  },
  {
   "cell_type": "markdown",
   "metadata": {},
   "source": [
    "## $Question4)$Normal Distribution II"
   ]
  },
  {
   "cell_type": "code",
   "execution_count": 18,
   "metadata": {},
   "outputs": [
    {
     "name": "stdout",
     "output_type": "stream",
     "text": [
      "70 10\n",
      "80\n",
      "60\n",
      "15.87\n",
      "84.13\n",
      "15.87\n"
     ]
    }
   ],
   "source": [
    "import math\n",
    "\n",
    "def cdf(x,mean,std):\n",
    "    return 0.5*(1+ math.erf((x-mean)/(std*(2**0.5))))\n",
    "\n",
    "mean,std=map(float,input().split())\n",
    "value_1=float(input())\n",
    "value_2=float(input())\n",
    "cdf_g_80=1-cdf(value_1,mean,std)\n",
    "cdf_g_60=1-cdf(value_2,mean,std)\n",
    "cdf_l_60=cdf(value_2,mean,std)\n",
    "print(round(cdf_g_80*100,2))\n",
    "print(round(cdf_g_60*100,2))\n",
    "print(round(cdf_l_60*100,2))"
   ]
  },
  {
   "cell_type": "markdown",
   "metadata": {},
   "source": [
    "## $Question 5)$ Day 6: The Central Limit Theorem I\n",
    "\n"
   ]
  },
  {
   "cell_type": "code",
   "execution_count": 34,
   "metadata": {},
   "outputs": [
    {
     "name": "stdout",
     "output_type": "stream",
     "text": [
      "9800\n",
      "49\n",
      "205\n",
      "15\n",
      "0.0098\n"
     ]
    }
   ],
   "source": [
    "import math\n",
    "\n",
    "def cdf(x,mean,std):\n",
    "    return 0.5*(1+ math.erf((x-mean)/(std*math.sqrt(2))))\n",
    "\n",
    "max_input=int(input())\n",
    "no_of_cargo=int(input())\n",
    "mean=int(input())\n",
    "std=int(input())\n",
    "mean_new=no_of_cargo*mean\n",
    "std_new=math.sqrt(no_of_cargo)*std\n",
    "prob=cdf(max_input,mean_new,std_new)\n",
    "print(round(prob,4))"
   ]
  },
  {
   "cell_type": "markdown",
   "metadata": {},
   "source": [
    "# $𝑄𝑢𝑒𝑠𝑡𝑖𝑜𝑛6)$ Day 6: The Central Limit Theorem I"
   ]
  },
  {
   "cell_type": "code",
   "execution_count": 40,
   "metadata": {},
   "outputs": [
    {
     "name": "stdout",
     "output_type": "stream",
     "text": [
      "250\n",
      "100\n",
      "2.4\n",
      "2.0\n",
      "0.6915\n"
     ]
    }
   ],
   "source": [
    "import math\n",
    "\n",
    "def cdf(x,mean,std):\n",
    "    return 0.5*(1+ math.erf((x-mean)/(std*math.sqrt(2))))\n",
    "\n",
    "last_minute=int(input())\n",
    "students=int(input())\n",
    "mean=float(input())\n",
    "std=float(input())\n",
    "mean_new=students*mean\n",
    "std_new=math.sqrt(students)*std\n",
    "prob=cdf(last_minute,mean_new,std_new)\n",
    "print(round(prob,4))"
   ]
  },
  {
   "cell_type": "markdown",
   "metadata": {},
   "source": [
    "# $Question7)$ Day 6: The Central Limit Theorem III"
   ]
  },
  {
   "cell_type": "code",
   "execution_count": 60,
   "metadata": {},
   "outputs": [
    {
     "name": "stdout",
     "output_type": "stream",
     "text": [
      "100\n",
      "500\n",
      "80\n",
      ".95\n",
      "1.96\n",
      "484.32\n",
      "515.68\n"
     ]
    }
   ],
   "source": [
    "import math\n",
    "\n",
    "sample_size=int(input())\n",
    "mean=int(input())\n",
    "std=int(input())\n",
    "per=float(input())\n",
    "z_score=float(input())\n",
    "new_mean=sample_size*mean\n",
    "new_std=std*math.sqrt(sample_size)\n",
    "ci_1=((-z_score*std/math.sqrt(sample_size))+mean)\n",
    "ci_2=((z_score*std/math.sqrt(sample_size))+mean)\n",
    "print(round(ci_1,2))\n",
    "print(round(ci_2,2))\n"
   ]
  },
  {
   "cell_type": "markdown",
   "metadata": {},
   "source": [
    "# $Question8)$ Day 7: Pearson Correlation Coefficient I"
   ]
  },
  {
   "cell_type": "code",
   "execution_count": 66,
   "metadata": {},
   "outputs": [
    {
     "name": "stdout",
     "output_type": "stream",
     "text": [
      "10\n",
      "10 9.8 8 7.8 7.7 7 6 5 4 2 \n",
      "200 44 32 24 22 17 15 12 8 4\n",
      "0.612\n"
     ]
    }
   ],
   "source": [
    "def standard_deviation(data):\n",
    "    length=len(data)\n",
    "    sum_of_data=sum(data)\n",
    "    mean=sum_of_data/length\n",
    "    sum_var=0\n",
    "    for i in data:\n",
    "        sum_square=(i-mean)**2\n",
    "        sum_var+=sum_square\n",
    "    return (sum_var/length)**0.5\n",
    "\n",
    "def covariance(column_x,column_y):\n",
    "    length=len(column_x)\n",
    "    \n",
    "    sum_x=sum(column_x)\n",
    "    mean_x=sum_x/length\n",
    "   \n",
    "    \n",
    "    sum_y=sum(column_y)\n",
    "    mean_y=sum_y/length\n",
    "    \n",
    "    sum_var_x=0\n",
    "    sum_var_y=0\n",
    "    \n",
    "    lst_x=[]\n",
    "    lst_y=[]\n",
    "    for i in column_x:\n",
    "        var_x=i-mean_x\n",
    "        lst_x.append(var_x)\n",
    "    for j in column_y:\n",
    "        var_y=j-mean_y\n",
    "        lst_y.append(var_y)\n",
    "    \n",
    "    sum_corr=0\n",
    "    for i in range(0,len(lst_x)):\n",
    "        for j in range(0,len(lst_y)):\n",
    "            if(i==j):\n",
    "                corr=lst_x[i]*lst_y[j]\n",
    "                sum_corr+=corr\n",
    "                \n",
    "    return (sum_corr/length)\n",
    "\n",
    "\n",
    "\n",
    "def correlation(column_x,column_y):\n",
    "    cov=covariance(column_x,column_y)  \n",
    "    std_x=standard_deviation(column_x) \n",
    "    std_y=standard_deviation(column_y) \n",
    "    return (cov/(std_x*std_y))\n",
    "\n",
    "\n",
    "\n",
    "size=int(input())\n",
    "column_x=list(map(float,input().split()))\n",
    "column_y=list(map(float,input().split()))\n",
    "print(round(correlation(column_x,column_y),3))"
   ]
  },
  {
   "cell_type": "markdown",
   "metadata": {},
   "source": [
    "# $𝑄𝑢𝑒𝑠𝑡𝑖𝑜𝑛9)$  Day 8: Least Square Regression Line"
   ]
  },
  {
   "cell_type": "code",
   "execution_count": 119,
   "metadata": {},
   "outputs": [
    {
     "name": "stdout",
     "output_type": "stream",
     "text": [
      "95 85\n",
      "85 95\n",
      "80 70\n",
      "70 65\n",
      "60 70\n",
      "78.288\n"
     ]
    }
   ],
   "source": [
    "def product(x,y):\n",
    "    total=0\n",
    "    for i in range(0,len(x)):\n",
    "        for j in range(0,len(y)):\n",
    "            if(i==j):\n",
    "                prod=x[i]*y[j]\n",
    "                total+=prod\n",
    "                \n",
    "    return total\n",
    "\n",
    "def square(x):\n",
    "    total=0\n",
    "    for i in x:\n",
    "        product=i*i\n",
    "        total+=product\n",
    "    return total\n",
    "        \n",
    "x, y = [], []\n",
    "for _ in range(5):\n",
    "    i = input().split()\n",
    "    x.append(int(i[0]))\n",
    "    y.append(int(i[1]))\n",
    "value_to_predict=80\n",
    "b=(((len(x)*product(x,y))-(sum(x)*sum(y)))/((len(x)*square(x))-(sum(x)**2)))\n",
    "a=((sum(y)/len(y))-(b*(sum(x)/len(x))))\n",
    "y_predicted=a+b*(value_to_predict)\n",
    "print(round(y_predicted,3))"
   ]
  },
  {
   "cell_type": "markdown",
   "metadata": {},
   "source": [
    "# $𝑄𝑢𝑒𝑠𝑡𝑖𝑜𝑛10)$  Day 9: Multiple Linear Regression"
   ]
  },
  {
   "cell_type": "code",
   "execution_count": 124,
   "metadata": {},
   "outputs": [
    {
     "name": "stdout",
     "output_type": "stream",
     "text": [
      "2 7\n",
      "0.18 0.89 109.85\n",
      "1.0 0.26 155.72\n",
      "0.92 0.11 137.66\n",
      "0.07 0.37 76.17\n",
      "0.85 0.16 139.75\n",
      "0.99 0.41 162.6\n",
      "0.87 0.47 151.77\n",
      "4\n",
      "0.49 0.18\n",
      "0.57 0.83\n",
      "0.56 0.64\n",
      "0.76 0.18\n",
      "105.21\n",
      "142.67\n",
      "132.94\n",
      "129.7\n"
     ]
    }
   ],
   "source": [
    "import numpy as np\n",
    "m,n = [int(i) for i in input().strip().split(' ')]\n",
    "X = []\n",
    "Y = []\n",
    "for i in range(n):\n",
    "    data = input().strip().split(' ')\n",
    "    X.append(data[:m])\n",
    "    Y.append(data[m:])\n",
    "q = int(input().strip())\n",
    "X_new = []\n",
    "for x in range(q):\n",
    "    X_new.append(input().strip().split(' '))\n",
    "X = np.array(X,float)\n",
    "Y = np.array(Y,float)\n",
    "X_new = np.array(X_new,float)\n",
    "\n",
    "X_R = X-np.mean(X,axis=0)\n",
    "Y_R = Y-np.mean(Y)\n",
    "\n",
    "beta = np.dot(np.linalg.inv(np.dot(X_R.T,X_R)),np.dot(X_R.T,Y_R))\n",
    "\n",
    "X_new_R = X_new-np.mean(X,axis=0)\n",
    "Y_new_R = np.dot(X_new_R,beta)\n",
    "Y_new = Y_new_R + np.mean(Y)\n",
    "\n",
    "for i in Y_new:\n",
    "    print(round(float(i),2))\n"
   ]
  }
 ],
 "metadata": {
  "kernelspec": {
   "display_name": "Python 3",
   "language": "python",
   "name": "python3"
  },
  "language_info": {
   "codemirror_mode": {
    "name": "ipython",
    "version": 3
   },
   "file_extension": ".py",
   "mimetype": "text/x-python",
   "name": "python",
   "nbconvert_exporter": "python",
   "pygments_lexer": "ipython3",
   "version": "3.8.3"
  }
 },
 "nbformat": 4,
 "nbformat_minor": 4
}
